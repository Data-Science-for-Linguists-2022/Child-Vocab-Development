{
 "cells": [
  {
   "cell_type": "markdown",
   "id": "834d65e5-0d3c-479d-9bf3-1036f459a611",
   "metadata": {},
   "source": [
    "# Exploratory analysis\n",
    "\n",
    "Man Ho Wong | March 24, 2022\n",
    "\n",
    "# Overview\n",
    "\n",
    "Goal of this notebook\n",
    "\n",
    "Table of contents"
   ]
  },
  {
   "cell_type": "code",
   "execution_count": 1,
   "id": "2c724a13-8313-43bd-a208-44b4a4b1de8f",
   "metadata": {},
   "outputs": [
    {
     "data": {
      "text/html": [
       "<div>\n",
       "<style scoped>\n",
       "    .dataframe tbody tr th:only-of-type {\n",
       "        vertical-align: middle;\n",
       "    }\n",
       "\n",
       "    .dataframe tbody tr th {\n",
       "        vertical-align: top;\n",
       "    }\n",
       "\n",
       "    .dataframe thead th {\n",
       "        text-align: right;\n",
       "    }\n",
       "</style>\n",
       "<table border=\"1\" class=\"dataframe\">\n",
       "  <thead>\n",
       "    <tr style=\"text-align: right;\">\n",
       "      <th></th>\n",
       "      <th>file_path</th>\n",
       "      <th>corpus</th>\n",
       "      <th>year</th>\n",
       "      <th>participants</th>\n",
       "      <th>name</th>\n",
       "      <th>child_id</th>\n",
       "      <th>age_d</th>\n",
       "      <th>age_m</th>\n",
       "      <th>sex</th>\n",
       "      <th>group</th>\n",
       "      <th>ses</th>\n",
       "      <th>mot_edu</th>\n",
       "      <th>situation</th>\n",
       "      <th>activities</th>\n",
       "      <th>study_type</th>\n",
       "    </tr>\n",
       "  </thead>\n",
       "  <tbody>\n",
       "    <tr>\n",
       "      <th>0</th>\n",
       "      <td>../data/childes/Bates/Free20/amy.cha</td>\n",
       "      <td>Bates</td>\n",
       "      <td>NaN</td>\n",
       "      <td>{CHI, MOT}</td>\n",
       "      <td>Target_Child</td>\n",
       "      <td>Bates_Target_Child</td>\n",
       "      <td>600</td>\n",
       "      <td>20.0</td>\n",
       "      <td>female</td>\n",
       "      <td>TD</td>\n",
       "      <td>MC</td>\n",
       "      <td>unspecified</td>\n",
       "      <td>unspecified</td>\n",
       "      <td>unspecified</td>\n",
       "      <td>cross, toyplay, TD</td>\n",
       "    </tr>\n",
       "    <tr>\n",
       "      <th>1</th>\n",
       "      <td>../data/childes/Bates/Free20/betty.cha</td>\n",
       "      <td>Bates</td>\n",
       "      <td>NaN</td>\n",
       "      <td>{CHI, MOT}</td>\n",
       "      <td>Betty</td>\n",
       "      <td>Bates_Betty</td>\n",
       "      <td>600</td>\n",
       "      <td>20.0</td>\n",
       "      <td>female</td>\n",
       "      <td>TD</td>\n",
       "      <td>MC</td>\n",
       "      <td>unspecified</td>\n",
       "      <td>unspecified</td>\n",
       "      <td>unspecified</td>\n",
       "      <td>cross, toyplay, TD</td>\n",
       "    </tr>\n",
       "    <tr>\n",
       "      <th>2</th>\n",
       "      <td>../data/childes/Bates/Free20/chuck.cha</td>\n",
       "      <td>Bates</td>\n",
       "      <td>NaN</td>\n",
       "      <td>{CHI, MOT}</td>\n",
       "      <td>Chuck</td>\n",
       "      <td>Bates_Chuck</td>\n",
       "      <td>600</td>\n",
       "      <td>20.0</td>\n",
       "      <td>male</td>\n",
       "      <td>TD</td>\n",
       "      <td>MC</td>\n",
       "      <td>unspecified</td>\n",
       "      <td>unspecified</td>\n",
       "      <td>unspecified</td>\n",
       "      <td>cross, toyplay, TD</td>\n",
       "    </tr>\n",
       "    <tr>\n",
       "      <th>3</th>\n",
       "      <td>../data/childes/Bates/Free20/doug.cha</td>\n",
       "      <td>Bates</td>\n",
       "      <td>NaN</td>\n",
       "      <td>{CHI, MOT}</td>\n",
       "      <td>Doug</td>\n",
       "      <td>Bates_Doug</td>\n",
       "      <td>600</td>\n",
       "      <td>20.0</td>\n",
       "      <td>male</td>\n",
       "      <td>TD</td>\n",
       "      <td>MC</td>\n",
       "      <td>unspecified</td>\n",
       "      <td>unspecified</td>\n",
       "      <td>unspecified</td>\n",
       "      <td>cross, toyplay, TD</td>\n",
       "    </tr>\n",
       "    <tr>\n",
       "      <th>4</th>\n",
       "      <td>../data/childes/Bates/Free20/ed.cha</td>\n",
       "      <td>Bates</td>\n",
       "      <td>NaN</td>\n",
       "      <td>{CHI, MOT}</td>\n",
       "      <td>Ed</td>\n",
       "      <td>Bates_Ed</td>\n",
       "      <td>600</td>\n",
       "      <td>20.0</td>\n",
       "      <td>male</td>\n",
       "      <td>TD</td>\n",
       "      <td>MC</td>\n",
       "      <td>unspecified</td>\n",
       "      <td>unspecified</td>\n",
       "      <td>unspecified</td>\n",
       "      <td>cross, toyplay, TD</td>\n",
       "    </tr>\n",
       "  </tbody>\n",
       "</table>\n",
       "</div>"
      ],
      "text/plain": [
       "                                file_path corpus  year participants  \\\n",
       "0    ../data/childes/Bates/Free20/amy.cha  Bates   NaN   {CHI, MOT}   \n",
       "1  ../data/childes/Bates/Free20/betty.cha  Bates   NaN   {CHI, MOT}   \n",
       "2  ../data/childes/Bates/Free20/chuck.cha  Bates   NaN   {CHI, MOT}   \n",
       "3   ../data/childes/Bates/Free20/doug.cha  Bates   NaN   {CHI, MOT}   \n",
       "4     ../data/childes/Bates/Free20/ed.cha  Bates   NaN   {CHI, MOT}   \n",
       "\n",
       "           name            child_id  age_d  age_m     sex group ses  \\\n",
       "0  Target_Child  Bates_Target_Child    600   20.0  female    TD  MC   \n",
       "1         Betty         Bates_Betty    600   20.0  female    TD  MC   \n",
       "2         Chuck         Bates_Chuck    600   20.0    male    TD  MC   \n",
       "3          Doug          Bates_Doug    600   20.0    male    TD  MC   \n",
       "4            Ed            Bates_Ed    600   20.0    male    TD  MC   \n",
       "\n",
       "       mot_edu    situation   activities          study_type  \n",
       "0  unspecified  unspecified  unspecified  cross, toyplay, TD  \n",
       "1  unspecified  unspecified  unspecified  cross, toyplay, TD  \n",
       "2  unspecified  unspecified  unspecified  cross, toyplay, TD  \n",
       "3  unspecified  unspecified  unspecified  cross, toyplay, TD  \n",
       "4  unspecified  unspecified  unspecified  cross, toyplay, TD  "
      ]
     },
     "execution_count": 1,
     "metadata": {},
     "output_type": "execute_result"
    }
   ],
   "source": [
    "# Python libraries and packages required\n",
    "from collections import Counter\n",
    "import matplotlib.pyplot as plt\n",
    "import numpy as np\n",
    "import pandas as pd\n",
    "import pickle\n",
    "import pprint                    # For pretty printing\n",
    "import pylangacq                 # For reading CHAT files\n",
    "from tqdm import tqdm            # For showing progress bar\n",
    "from wordcloud import WordCloud as wc\n",
    "\n",
    "# use ggplot style for figures\n",
    "plt.style.use('ggplot')\n",
    "\n",
    "# Unpickle data\n",
    "data_idx = pickle.load(open('../data/childes/corpus_info.pkl', 'rb'))\n",
    "\n",
    "# Pretty printing for better readability\n",
    "# With this, you can print dict in compact format instead of one item\n",
    "#   per line. Items will be in alphabetical order. Nested Dict will be printed \n",
    "#   with suitable indentation. It will also print Counter in descending order.\n",
    "#   To use this, call cp.pprint()\n",
    "cp = pprint.PrettyPrinter(compact=True, sort_dicts=True)\n",
    "\n",
    "# Function to get all labels of a given variable (e.g. 'mot_edu')\n",
    "def get_labels(var):\n",
    "    labels_by_corpus = {}\n",
    "    corpus_set = set(data_idx.corpus)\n",
    "    for c in corpus_set:\n",
    "        labels_by_corpus[c] = set(data_idx[var][data_idx.corpus==c])\n",
    "    return labels_by_corpus\n",
    "\n",
    "# Function to convert age from year-month-day tuple to age in months\n",
    "def get_age_m(ymd):\n",
    "    age_m = ymd[0]*12 + ymd[1] + round(ymd[2]/30,1)\n",
    "    return age_m\n",
    "\n",
    "data_idx.head()"
   ]
  },
  {
   "cell_type": "markdown",
   "id": "8f5bafaf-0f4d-4091-a58b-6263213adc06",
   "metadata": {},
   "source": [
    "---\n",
    "\n",
    "# 1 Mean length of utterance (MLU) by morpheme"
   ]
  },
  {
   "cell_type": "code",
   "execution_count": 2,
   "id": "00bf8dc0-d371-459f-913a-af5d0319f8e6",
   "metadata": {},
   "outputs": [],
   "source": [
    "# Read one sample file for testing\n",
    "f = data_idx[data_idx.ses == 'UC'].file_path.iloc[0]\n",
    "sample = pylangacq.Reader.from_files([f], parallel=False)"
   ]
  },
  {
   "cell_type": "markdown",
   "id": "904f869e-ed7f-4263-8b59-bedf01384a8b",
   "metadata": {},
   "source": [
    "## Self-defined function to get MLU-M for different word classes"
   ]
  },
  {
   "cell_type": "code",
   "execution_count": 3,
   "id": "4cb1e280-b30e-4b23-bb80-d6efd340b911",
   "metadata": {},
   "outputs": [
    {
     "data": {
      "text/plain": [
       "6.9523809523809526"
      ]
     },
     "execution_count": 3,
     "metadata": {},
     "output_type": "execute_result"
    }
   ],
   "source": [
    "# Function to get mlum by POS\n",
    "#   similar to pylangacq's reader method mlum()\n",
    "def get_mlum(reader, participants, pos=1):\n",
    "    tok_by_utt = reader.tokens(participants=participants, by_utterances=True)\n",
    "    POS_TO_IGNORE = [\"\", \"!\", \"+...\", \"0\", \"?\", \"BEG\", \".\", None]\n",
    "    n_utt = 0\n",
    "    n_mor = 0\n",
    "    for utt in tok_by_utt:\n",
    "        current_mor_count = n_mor\n",
    "        for tok in utt:\n",
    "            if (tok.pos not in POS_TO_IGNORE) and (pos==1 or tok.pos in pos):\n",
    "                n_mor += 1\n",
    "                if type(tok.mor) == str:\n",
    "                    n_mor += tok.mor.count('-')\n",
    "                    n_mor += tok.mor.count('~')\n",
    "        if n_mor > current_mor_count:\n",
    "            n_utt += 1\n",
    "    if n_utt: \n",
    "        return n_mor/n_utt\n",
    "    else:\n",
    "        return 0\n",
    "\n",
    "# Define POS by open vs close word class\n",
    "POS_OPEN = [\"n\", \"v\", \"adv\", \"adj\", \"co\"]\n",
    "POS_CLOSE = ['mod', 'neg', 'cop', 'pro:exist', 'aux', 'part', 'det:art', 'comp',\n",
    "             'post','pro:obj', 'pro:int', 'pro:per', 'coord', 'on', 'inf', 'qn',\n",
    "             'pro:indef', 'pro:sub', 'pro:rel', 'prep', 'pro:dem', 'det:num']\n",
    "\n",
    "# Example\n",
    "get_mlum(sample, 'MOT')"
   ]
  },
  {
   "cell_type": "markdown",
   "id": "8c8a4138-5b2c-40c9-8c02-a55e31c0434c",
   "metadata": {},
   "source": [
    "## Comparing MLU-M between open and close class words in upper-class children"
   ]
  },
  {
   "cell_type": "code",
   "execution_count": 4,
   "id": "cdcee3d9-c81a-4b09-95a1-efff198510c0",
   "metadata": {},
   "outputs": [
    {
     "name": "stderr",
     "output_type": "stream",
     "text": [
      "100%|██████████████████████████████████████████████████████████████████████████████████| 68/68 [00:32<00:00,  2.09it/s]\n"
     ]
    }
   ],
   "source": [
    "mlum_list_open = []\n",
    "mlum_list_close = []\n",
    "ages = []\n",
    "for f in tqdm(data_idx[data_idx.ses == 'UC'].file_path):\n",
    "    sample = pylangacq.Reader.from_files([f], parallel=False)\n",
    "    mlum_list_open.append(get_mlum(sample, 'CHI', POS_OPEN))\n",
    "    mlum_list_close.append(get_mlum(sample, 'CHI', POS_CLOSE))\n",
    "    ages.append(get_age_m(sample.ages()[0]))\n",
    "\n",
    "df = pd.DataFrame({'open':mlum_list_open, 'close':mlum_list_close})"
   ]
  },
  {
   "cell_type": "code",
   "execution_count": 5,
   "id": "92173c8f-71b6-4698-bfe6-fb933a4f3795",
   "metadata": {},
   "outputs": [
    {
     "data": {
      "text/plain": [
       "<matplotlib.legend.Legend at 0x19c918dc340>"
      ]
     },
     "execution_count": 5,
     "metadata": {},
     "output_type": "execute_result"
    },
    {
     "data": {
      "image/png": "[encoded data removed]",
      "text/plain": [
       "<Figure size 720x360 with 1 Axes>"
      ]
     },
     "metadata": {},
     "output_type": "display_data"
    }
   ],
   "source": [
    "plt.figure(figsize=(10,5))\n",
    "plt.scatter(ages,df.open,facecolors='none', edgecolors='b')\n",
    "plt.scatter(ages,df.close,facecolors='none', edgecolors='r')\n",
    "plt.xlabel('Age (Month)')\n",
    "plt.ylabel('MLU by morphemes')\n",
    "plt.xlim([min(ages), 40])\n",
    "plt.legend(['Open class', 'Close class'])"
   ]
  },
  {
   "cell_type": "markdown",
   "id": "a02f5c8f-410c-42bf-9bcf-77af772a27d7",
   "metadata": {},
   "source": [
    "---\n",
    "\n",
    "# 2 TTR"
   ]
  },
  {
   "cell_type": "markdown",
   "id": "ba767f02-0dc7-44c7-84bf-84cf624b0357",
   "metadata": {},
   "source": [
    "## Self-defined function to get type-to-token ratio (TTR)"
   ]
  },
  {
   "cell_type": "code",
   "execution_count": 6,
   "id": "087053b3-0e33-4f82-af98-3278cc7235d2",
   "metadata": {},
   "outputs": [
    {
     "data": {
      "text/plain": [
       "0.09920424403183024"
      ]
     },
     "execution_count": 6,
     "metadata": {},
     "output_type": "execute_result"
    }
   ],
   "source": [
    "# TTR of CHI (same as sample.ttr())\n",
    "def get_ttr(reader, participants, pos=1):\n",
    "    toks = reader.tokens(participants=participants)\n",
    "    WORDS_TO_IGNORE = [\"\", \"!\", \"+...\", \".\", \",\", \"?\", \"‡\", \"„\", \"0\", \"CLITIC\"]\n",
    "    tok_list     = [t.word for t in toks if\n",
    "                   (t.word not in WORDS_TO_IGNORE)]\n",
    "    tok_list_pos = [t.word for t in toks if\n",
    "                   (t.word not in WORDS_TO_IGNORE) and (pos==1 or t.pos in pos)]    \n",
    "    if tok_list:\n",
    "        return len(set(tok_list_pos))/len(tok_list)\n",
    "    else:\n",
    "        return 0\n",
    "\n",
    "get_ttr(sample, 'CHI', POS_OPEN)"
   ]
  },
  {
   "cell_type": "markdown",
   "id": "8e0506b3-7dbe-482b-a70a-90cb110b5af6",
   "metadata": {},
   "source": [
    "Comparing TTR between open and close class words in upper-class children"
   ]
  },
  {
   "cell_type": "code",
   "execution_count": 7,
   "id": "ecd406aa-a0a9-4fa4-84f9-826b8dc53fbd",
   "metadata": {},
   "outputs": [
    {
     "name": "stderr",
     "output_type": "stream",
     "text": [
      "100%|██████████████████████████████████████████████████████████████████████████████████| 68/68 [00:30<00:00,  2.21it/s]\n"
     ]
    }
   ],
   "source": [
    "ttr_list_open = []\n",
    "ttr_list_close = []\n",
    "ages = []\n",
    "for f in tqdm(data_idx[data_idx.ses=='UC'].file_path):\n",
    "    sample = pylangacq.Reader.from_files([f], parallel=False)\n",
    "    ttr_list_open.append(get_ttr(sample, 'CHI', POS_OPEN))\n",
    "    ttr_list_close.append(get_ttr(sample, 'CHI', POS_CLOSE))\n",
    "    ages.append(get_age_m(sample.ages()[0]))\n",
    "\n",
    "df = pd.DataFrame({'open':ttr_list_open, 'close':ttr_list_close})"
   ]
  },
  {
   "cell_type": "code",
   "execution_count": 8,
   "id": "69cc2293-cf76-4187-aefa-521e58985a75",
   "metadata": {},
   "outputs": [
    {
     "data": {
      "text/plain": [
       "<matplotlib.legend.Legend at 0x19c94dee880>"
      ]
     },
     "execution_count": 8,
     "metadata": {},
     "output_type": "execute_result"
    },
    {
     "data": {
      "image/png": "[encoded data removed]",
      "text/plain": [
       "<Figure size 720x360 with 1 Axes>"
      ]
     },
     "metadata": {},
     "output_type": "display_data"
    }
   ],
   "source": [
    "plt.figure(figsize=(10,5))\n",
    "plt.scatter(ages,df.open,facecolors='none', edgecolors='b')\n",
    "plt.scatter(ages,df.close,facecolors='none', edgecolors='r')\n",
    "plt.xlabel('Age (Month)')\n",
    "plt.ylabel('MLU by morphemes')\n",
    "plt.xlim([min(ages), 40])\n",
    "plt.legend(['Open class', 'Close class'])"
   ]
  },
  {
   "cell_type": "markdown",
   "id": "732a349a-b352-472e-8fb0-741e0d3deaac",
   "metadata": {},
   "source": [
    "---\n",
    "\n",
    "# 3 POS ratio"
   ]
  },
  {
   "cell_type": "markdown",
   "id": "16680f48-5917-477f-8533-5207894863a9",
   "metadata": {},
   "source": [
    "## Self-defined function to get POS ratio"
   ]
  },
  {
   "cell_type": "code",
   "execution_count": 9,
   "id": "faf69554-2d16-4d13-8b42-dda9a7b0ce99",
   "metadata": {},
   "outputs": [
    {
     "data": {
      "text/plain": [
       "0.6919518963922294"
      ]
     },
     "execution_count": 9,
     "metadata": {},
     "output_type": "execute_result"
    }
   ],
   "source": [
    "def get_pos_ratio(reader, participants, pos=1):\n",
    "    toks = reader.tokens(participants=participants)\n",
    "    WORDS_TO_IGNORE = [\"\", \"!\", \"+...\", \".\", \",\", \"?\", \"‡\", \"„\", \"0\", \"CLITIC\"]\n",
    "    tok_list     = [t.word for t in toks if\n",
    "                   (t.word not in WORDS_TO_IGNORE)]\n",
    "    tok_list_pos = [t.word for t in toks if\n",
    "                   (t.word not in WORDS_TO_IGNORE) and (pos==1 or t.pos in pos)]\n",
    "    if tok_list:\n",
    "        return len(set(tok_list_pos))/len(set(tok_list))\n",
    "    else:\n",
    "        return 0\n",
    "    \n",
    "get_pos_ratio(sample, 'CHI', POS_OPEN)"
   ]
  },
  {
   "cell_type": "markdown",
   "id": "8b9e3405-c7b1-4786-816e-39d277105352",
   "metadata": {},
   "source": [
    "---\n",
    "\n",
    "# 4 Word frequency"
   ]
  },
  {
   "cell_type": "code",
   "execution_count": null,
   "id": "1cc24a19-b86b-4c8e-ad41-9b0584d50df0",
   "metadata": {},
   "outputs": [],
   "source": [
    "# Read all files of UC children\n",
    "f = data_idx[data_idx.ses == 'UC'].file_path\n",
    "f_UC = pylangacq.Reader.from_files(f, parallel=False)"
   ]
  },
  {
   "cell_type": "markdown",
   "id": "c502b1b0-6268-41cc-906a-3024c6a435e5",
   "metadata": {},
   "source": [
    "## Getting word frequencies with pylangacq function"
   ]
  },
  {
   "cell_type": "code",
   "execution_count": null,
   "id": "6e1f6b72-6c16-4678-b0cb-4d95f0b758d8",
   "metadata": {},
   "outputs": [],
   "source": [
    "freq = f_UC.word_frequencies()\n",
    "freq.most_common(20)"
   ]
  },
  {
   "cell_type": "code",
   "execution_count": null,
   "id": "1036844e-c447-43e5-b396-f40bf56c64f5",
   "metadata": {},
   "outputs": [],
   "source": [
    "wcloud = wc(max_font_size=100).generate_from_frequencies(freq)\n",
    "plt.axis(\"off\")\n",
    "plt.imshow(wcloud, interpolation='bilinear')\n",
    "plt.show()"
   ]
  },
  {
   "cell_type": "markdown",
   "id": "c0a4b3e1-d48b-48c7-b2de-8bc069afc78c",
   "metadata": {},
   "source": [
    "## Self-defined function to get word frequencies by POS and ignore punctuations"
   ]
  },
  {
   "cell_type": "code",
   "execution_count": null,
   "id": "8252b183-c3c2-42ca-bf59-3e6e2eec218d",
   "metadata": {},
   "outputs": [],
   "source": [
    "# Same as word_frequencies(participants='CHI', by_files=True)[file_idx]\n",
    "def get_freq(reader, participants='CHI', pos=1, file_idx=0):\n",
    "    if 'Counter' not in dir():\n",
    "        from collections import Counter\n",
    "    WORDS_TO_IGNORE = [\"\", \"!\", \"+...\", \".\", \",\", \"‡\", \"„\", \"0\", 'CLITIC']\n",
    "    toks = reader.tokens(participants=participants, by_files=True)[file_idx]\n",
    "    tok_list_pos = [t.word for t in toks if\n",
    "                   (t.word not in WORDS_TO_IGNORE) and (pos==1 or t.pos in pos)]\n",
    "    freq = Counter(tok_list_pos)\n",
    "    return freq\n",
    "\n",
    "# get freq of one file in 'sample':\n",
    "get_freq(f_UC, pos=POS_OPEN, file_idx=2).most_common(20)"
   ]
  },
  {
   "cell_type": "code",
   "execution_count": null,
   "id": "5461ac63-65ad-4741-9e5c-331d5b9a0ae4",
   "metadata": {},
   "outputs": [],
   "source": [
    "wcloud = wc(max_font_size=100).generate_from_frequencies(freq)\n",
    "plt.axis(\"off\")\n",
    "plt.imshow(wcloud, interpolation='bilinear')\n",
    "plt.show()"
   ]
  },
  {
   "cell_type": "code",
   "execution_count": null,
   "id": "cb84410e-6016-4c57-86a2-c3e269e2c3bf",
   "metadata": {},
   "outputs": [],
   "source": [
    "# get freq of all files from UC children for open class words:\n",
    "from collections import Counter\n",
    "freq_all = Counter()\n",
    "for f in range(len(data_idx[data_idx.ses == 'UC'].file_path)):  # same file list used to read 'samples'\n",
    "    freq_all.update(get_freq(f_UC, 'CHI', POS_OPEN, file_idx=f))\n",
    "freq_all.most_common(20)"
   ]
  },
  {
   "cell_type": "code",
   "execution_count": null,
   "id": "777514ab-e5a4-4543-981f-f2d11091a78d",
   "metadata": {},
   "outputs": [],
   "source": [
    "wcloud = wc(max_font_size=100).generate_from_frequencies(freq)\n",
    "plt.axis(\"off\")\n",
    "plt.imshow(wcloud, interpolation='bilinear')\n",
    "plt.show()"
   ]
  },
  {
   "cell_type": "markdown",
   "id": "e2205db3-58d4-44d3-8f84-05034e5bc163",
   "metadata": {},
   "source": [
    "---\n",
    "\n",
    "# 5 Summary\n"
   ]
  },
  {
   "cell_type": "code",
   "execution_count": null,
   "id": "0db1a51f-9261-4db0-860e-d7f97516e85c",
   "metadata": {},
   "outputs": [],
   "source": []
  }
 ],
 "metadata": {
  "kernelspec": {
   "display_name": "Python 3 (ipykernel)",
   "language": "python",
   "name": "python3"
  },
  "language_info": {
   "codemirror_mode": {
    "name": "ipython",
    "version": 3
   },
   "file_extension": ".py",
   "mimetype": "text/x-python",
   "name": "python",
   "nbconvert_exporter": "python",
   "pygments_lexer": "ipython3",
   "version": "3.9.7"
  }
 },
 "nbformat": 4,
 "nbformat_minor": 5
}
