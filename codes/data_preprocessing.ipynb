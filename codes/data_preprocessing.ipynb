{
 "cells": [
  {
   "cell_type": "markdown",
   "id": "3f364fe8-c151-4f2d-922c-e7a7060930b1",
   "metadata": {},
   "source": [
    "# Data preprocessing\n",
    "\n",
    "Man Ho Wong | March 21, 2022\n"
   ]
  },
  {
   "cell_type": "code",
   "execution_count": 1,
   "id": "504c7cb0-fdfc-44a4-bda0-bd9093ae0a7e",
   "metadata": {},
   "outputs": [],
   "source": [
    "# Python libraries and packages required\n",
    "import numpy as np\n",
    "import pandas as pd\n",
    "import pickle\n",
    "import pylangacq\n",
    "from tqdm import tqdm            # For showing progress bar\n",
    "import matplotlib.pyplot as plt\n",
    "plt.style.use('ggplot')          # use ggplot style for figures\n",
    "\n",
    "# Pretty printing settings\n",
    "import pprint\n",
    "cp = pprint.PrettyPrinter(compact=True)\n",
    "\n",
    "# Unpickle data\n",
    "data = pickle.load(open('../data/childes/corpus_info.pkl', 'rb'))\n",
    "data_idx = data[1]"
   ]
  },
  {
   "cell_type": "markdown",
   "id": "c2f6f180-0a5d-4697-a35b-dbbca820e647",
   "metadata": {},
   "source": [
    "`data_idx` is a `DataFrame` created by [data_curation.ipynb](Data_Science/Child-Vocab-Development/codes/data_curation.ipynb). It contains basic information about the files in the curated dataset. "
   ]
  },
  {
   "cell_type": "code",
   "execution_count": 2,
   "id": "2c420575-5dab-4618-aa95-b7dd13d71a57",
   "metadata": {},
   "outputs": [
    {
     "data": {
      "text/html": [
       "<div>\n",
       "<style scoped>\n",
       "    .dataframe tbody tr th:only-of-type {\n",
       "        vertical-align: middle;\n",
       "    }\n",
       "\n",
       "    .dataframe tbody tr th {\n",
       "        vertical-align: top;\n",
       "    }\n",
       "\n",
       "    .dataframe thead th {\n",
       "        text-align: right;\n",
       "    }\n",
       "</style>\n",
       "<table border=\"1\" class=\"dataframe\">\n",
       "  <thead>\n",
       "    <tr style=\"text-align: right;\">\n",
       "      <th></th>\n",
       "      <th>file_path</th>\n",
       "      <th>corpus</th>\n",
       "      <th>year</th>\n",
       "      <th>participants</th>\n",
       "      <th>name</th>\n",
       "      <th>age_d</th>\n",
       "      <th>age_m</th>\n",
       "      <th>sex</th>\n",
       "      <th>group</th>\n",
       "      <th>ses</th>\n",
       "      <th>mot_edu</th>\n",
       "    </tr>\n",
       "  </thead>\n",
       "  <tbody>\n",
       "    <tr>\n",
       "      <th>0</th>\n",
       "      <td>../data/childes/Bates/Free20/amy.cha</td>\n",
       "      <td>Bates</td>\n",
       "      <td>NaN</td>\n",
       "      <td>{CHI, MOT}</td>\n",
       "      <td>Target_Child</td>\n",
       "      <td>600</td>\n",
       "      <td>20.0</td>\n",
       "      <td>female</td>\n",
       "      <td>TD</td>\n",
       "      <td>MC</td>\n",
       "      <td>unspecified</td>\n",
       "    </tr>\n",
       "    <tr>\n",
       "      <th>1</th>\n",
       "      <td>../data/childes/Bates/Free20/betty.cha</td>\n",
       "      <td>Bates</td>\n",
       "      <td>NaN</td>\n",
       "      <td>{CHI, MOT}</td>\n",
       "      <td>Betty</td>\n",
       "      <td>600</td>\n",
       "      <td>20.0</td>\n",
       "      <td>female</td>\n",
       "      <td>TD</td>\n",
       "      <td>MC</td>\n",
       "      <td>unspecified</td>\n",
       "    </tr>\n",
       "    <tr>\n",
       "      <th>2</th>\n",
       "      <td>../data/childes/Bates/Free20/chuck.cha</td>\n",
       "      <td>Bates</td>\n",
       "      <td>NaN</td>\n",
       "      <td>{CHI, MOT}</td>\n",
       "      <td>Chuck</td>\n",
       "      <td>600</td>\n",
       "      <td>20.0</td>\n",
       "      <td>male</td>\n",
       "      <td>TD</td>\n",
       "      <td>MC</td>\n",
       "      <td>unspecified</td>\n",
       "    </tr>\n",
       "    <tr>\n",
       "      <th>3</th>\n",
       "      <td>../data/childes/Bates/Free20/doug.cha</td>\n",
       "      <td>Bates</td>\n",
       "      <td>NaN</td>\n",
       "      <td>{CHI, MOT}</td>\n",
       "      <td>Doug</td>\n",
       "      <td>600</td>\n",
       "      <td>20.0</td>\n",
       "      <td>male</td>\n",
       "      <td>TD</td>\n",
       "      <td>MC</td>\n",
       "      <td>unspecified</td>\n",
       "    </tr>\n",
       "    <tr>\n",
       "      <th>4</th>\n",
       "      <td>../data/childes/Bates/Free20/ed.cha</td>\n",
       "      <td>Bates</td>\n",
       "      <td>NaN</td>\n",
       "      <td>{CHI, MOT}</td>\n",
       "      <td>Ed</td>\n",
       "      <td>600</td>\n",
       "      <td>20.0</td>\n",
       "      <td>male</td>\n",
       "      <td>TD</td>\n",
       "      <td>MC</td>\n",
       "      <td>unspecified</td>\n",
       "    </tr>\n",
       "    <tr>\n",
       "      <th>...</th>\n",
       "      <td>...</td>\n",
       "      <td>...</td>\n",
       "      <td>...</td>\n",
       "      <td>...</td>\n",
       "      <td>...</td>\n",
       "      <td>...</td>\n",
       "      <td>...</td>\n",
       "      <td>...</td>\n",
       "      <td>...</td>\n",
       "      <td>...</td>\n",
       "      <td>...</td>\n",
       "    </tr>\n",
       "    <tr>\n",
       "      <th>2606</th>\n",
       "      <td>../data/childes/VanHouten/Twos/teaching/parkt.cha</td>\n",
       "      <td>VanHouten</td>\n",
       "      <td>NaN</td>\n",
       "      <td>{CHI, MOT}</td>\n",
       "      <td>Matthew</td>\n",
       "      <td>840</td>\n",
       "      <td>28.0</td>\n",
       "      <td>male</td>\n",
       "      <td>MOT_Older</td>\n",
       "      <td>unspecified</td>\n",
       "      <td>unspecified</td>\n",
       "    </tr>\n",
       "    <tr>\n",
       "      <th>2607</th>\n",
       "      <td>../data/childes/VanHouten/Twos/teaching/pricet...</td>\n",
       "      <td>VanHouten</td>\n",
       "      <td>NaN</td>\n",
       "      <td>{CHI, MOT}</td>\n",
       "      <td>Peter</td>\n",
       "      <td>840</td>\n",
       "      <td>28.0</td>\n",
       "      <td>male</td>\n",
       "      <td>MOT_adolescent</td>\n",
       "      <td>unspecified</td>\n",
       "      <td>unspecified</td>\n",
       "    </tr>\n",
       "    <tr>\n",
       "      <th>2608</th>\n",
       "      <td>../data/childes/VanHouten/Twos/teaching/raidt.cha</td>\n",
       "      <td>VanHouten</td>\n",
       "      <td>NaN</td>\n",
       "      <td>{CHI, MOT}</td>\n",
       "      <td>Tommy</td>\n",
       "      <td>840</td>\n",
       "      <td>28.0</td>\n",
       "      <td>male</td>\n",
       "      <td>MOT_older</td>\n",
       "      <td>unspecified</td>\n",
       "      <td>unspecified</td>\n",
       "    </tr>\n",
       "    <tr>\n",
       "      <th>2609</th>\n",
       "      <td>../data/childes/VanHouten/Twos/teaching/riott.cha</td>\n",
       "      <td>VanHouten</td>\n",
       "      <td>NaN</td>\n",
       "      <td>{CHI, MOT}</td>\n",
       "      <td>Robert</td>\n",
       "      <td>840</td>\n",
       "      <td>28.0</td>\n",
       "      <td>male</td>\n",
       "      <td>MOT_Adolescent</td>\n",
       "      <td>unspecified</td>\n",
       "      <td>unspecified</td>\n",
       "    </tr>\n",
       "    <tr>\n",
       "      <th>2610</th>\n",
       "      <td>../data/childes/VanHouten/Twos/teaching/royalt...</td>\n",
       "      <td>VanHouten</td>\n",
       "      <td>NaN</td>\n",
       "      <td>{CHI, MOT}</td>\n",
       "      <td>Sarah</td>\n",
       "      <td>840</td>\n",
       "      <td>28.0</td>\n",
       "      <td>female</td>\n",
       "      <td>MOT_Adolescent</td>\n",
       "      <td>unspecified</td>\n",
       "      <td>unspecified</td>\n",
       "    </tr>\n",
       "  </tbody>\n",
       "</table>\n",
       "<p>2611 rows × 11 columns</p>\n",
       "</div>"
      ],
      "text/plain": [
       "                                              file_path     corpus  year  \\\n",
       "0                  ../data/childes/Bates/Free20/amy.cha      Bates   NaN   \n",
       "1                ../data/childes/Bates/Free20/betty.cha      Bates   NaN   \n",
       "2                ../data/childes/Bates/Free20/chuck.cha      Bates   NaN   \n",
       "3                 ../data/childes/Bates/Free20/doug.cha      Bates   NaN   \n",
       "4                   ../data/childes/Bates/Free20/ed.cha      Bates   NaN   \n",
       "...                                                 ...        ...   ...   \n",
       "2606  ../data/childes/VanHouten/Twos/teaching/parkt.cha  VanHouten   NaN   \n",
       "2607  ../data/childes/VanHouten/Twos/teaching/pricet...  VanHouten   NaN   \n",
       "2608  ../data/childes/VanHouten/Twos/teaching/raidt.cha  VanHouten   NaN   \n",
       "2609  ../data/childes/VanHouten/Twos/teaching/riott.cha  VanHouten   NaN   \n",
       "2610  ../data/childes/VanHouten/Twos/teaching/royalt...  VanHouten   NaN   \n",
       "\n",
       "     participants          name  age_d  age_m     sex           group  \\\n",
       "0      {CHI, MOT}  Target_Child    600   20.0  female              TD   \n",
       "1      {CHI, MOT}         Betty    600   20.0  female              TD   \n",
       "2      {CHI, MOT}         Chuck    600   20.0    male              TD   \n",
       "3      {CHI, MOT}          Doug    600   20.0    male              TD   \n",
       "4      {CHI, MOT}            Ed    600   20.0    male              TD   \n",
       "...           ...           ...    ...    ...     ...             ...   \n",
       "2606   {CHI, MOT}       Matthew    840   28.0    male       MOT_Older   \n",
       "2607   {CHI, MOT}         Peter    840   28.0    male  MOT_adolescent   \n",
       "2608   {CHI, MOT}         Tommy    840   28.0    male       MOT_older   \n",
       "2609   {CHI, MOT}        Robert    840   28.0    male  MOT_Adolescent   \n",
       "2610   {CHI, MOT}         Sarah    840   28.0  female  MOT_Adolescent   \n",
       "\n",
       "              ses      mot_edu  \n",
       "0              MC  unspecified  \n",
       "1              MC  unspecified  \n",
       "2              MC  unspecified  \n",
       "3              MC  unspecified  \n",
       "4              MC  unspecified  \n",
       "...           ...          ...  \n",
       "2606  unspecified  unspecified  \n",
       "2607  unspecified  unspecified  \n",
       "2608  unspecified  unspecified  \n",
       "2609  unspecified  unspecified  \n",
       "2610  unspecified  unspecified  \n",
       "\n",
       "[2611 rows x 11 columns]"
      ]
     },
     "execution_count": 2,
     "metadata": {},
     "output_type": "execute_result"
    }
   ],
   "source": [
    "data_idx"
   ]
  },
  {
   "cell_type": "markdown",
   "id": "fc3361cb-8567-41b4-9587-6c8532afb630",
   "metadata": {},
   "source": [
    "# Data cleaning and integration\n",
    "\n",
    "As mentioned in data_curation.ipynb, not all corpora use the same labels for some variables. For example, some corpora use school grade levels to define mother's education, and some use levels of education (e.g. 'college'):"
   ]
  },
  {
   "cell_type": "code",
   "execution_count": 3,
   "id": "8f54de0d-cd1c-4228-9fac-5b36415f4ec4",
   "metadata": {},
   "outputs": [
    {
     "name": "stdout",
     "output_type": "stream",
     "text": [
      "{'**', '10', '10 , GED', '102', '11', '11 , GED', '11+', '12', '12+', '13',\n",
      " '13+', '14', '15', '16', '6', '7', '8', '9', \"Associate's_Degree\", 'College',\n",
      " 'College_Doctoral', 'College_J.D.', \"College_Master's\", 'High_School_Diploma',\n",
      " 'MOT_1', 'MOT_2', 'MOT_3', 'Some_College', 'XX', 'almost 12', 'unspecified'}\n"
     ]
    }
   ],
   "source": [
    "mot_edu_labels = set(data_idx.mot_edu)\n",
    "cp.pprint(mot_edu_labels)  # Print compactly"
   ]
  },
  {
   "cell_type": "markdown",
   "id": "408f5c06-c2b3-4209-ad6e-6617290fec5c",
   "metadata": {},
   "source": [
    "Other variables with different labels used in different corpora include `group` (child's developmental group) and `ses` (socioeconomic status). I will change the labels for these variables so that all corpora use the same set of labels:\n",
    "\n",
    "### `mot_edu`\n",
    "\n",
    "First, let's find out which labels each corpus uses: "
   ]
  },
  {
   "cell_type": "code",
   "execution_count": 4,
   "id": "46e9c964-dd4e-47f3-ae0f-460294291ab6",
   "metadata": {},
   "outputs": [
    {
     "name": "stdout",
     "output_type": "stream",
     "text": [
      "{'Bates': {'unspecified'},\n",
      " 'Bernstein': {'unspecified'},\n",
      " 'Brown': {'unspecified'},\n",
      " 'Clark': {'unspecified'},\n",
      " 'Demetras2': {'unspecified'},\n",
      " 'Gleason': {'unspecified'},\n",
      " 'HSLLD': {'**', '10', '10 , GED', '102', '11', '11 , GED', '11+', '12', '12+',\n",
      "           '13', '13+', '14', '15', '16', '6', '7', '8', '9', 'XX', 'almost 12',\n",
      "           'unspecified'},\n",
      " 'Hall': {'unspecified'},\n",
      " 'Hicks': {'unspecified'},\n",
      " 'Nelson': {'unspecified'},\n",
      " 'NewmanRatner': {\"Associate's_Degree\", 'College', 'College_Doctoral',\n",
      "                  'College_J.D.', \"College_Master's\", 'High_School_Diploma',\n",
      "                  'Some_College', 'unspecified'},\n",
      " 'Post': {'unspecified'},\n",
      " 'VanHouten': {'unspecified', 'MOT_2', 'MOT_1', 'MOT_3'}}\n"
     ]
    }
   ],
   "source": [
    "def check_labels(var):\n",
    "    labels_by_corpus = {}\n",
    "    corpus_set = set(data_idx.corpus)\n",
    "    for c in corpus_set:\n",
    "        labels_by_corpus[c] = set(data_idx[var][data_idx.corpus==c])\n",
    "    return labels_by_corpus\n",
    "    \n",
    "cp.pprint(check_labels('mot_edu'))"
   ]
  },
  {
   "cell_type": "markdown",
   "id": "a2dce3e9-afbc-4791-9523-688be1c758cd",
   "metadata": {},
   "source": [
    "Check label definitions on corpus' homepage:"
   ]
  },
  {
   "cell_type": "code",
   "execution_count": 5,
   "id": "ca34969a-2c41-4e2d-bbab-fd22b5b63d18",
   "metadata": {},
   "outputs": [
    {
     "data": {
      "text/plain": [
       "{'Bernstein': 'https://childes.talkbank.org/access/Eng-NA/Bernstein.html',\n",
       " 'Nelson': 'https://childes.talkbank.org/access/Eng-NA/Nelson.html',\n",
       " 'Post': 'https://childes.talkbank.org/access/Eng-NA/Post.html',\n",
       " 'Clark': 'https://childes.talkbank.org/access/Eng-NA/Clark.html',\n",
       " 'Bates': 'https://childes.talkbank.org/access/Eng-NA/Bates.html',\n",
       " 'NewmanRatner': 'https://childes.talkbank.org/access/Eng-NA/NewmanRatner.html',\n",
       " 'Gleason': 'https://childes.talkbank.org/access/Eng-NA/Gleason.html',\n",
       " 'Hall': 'https://childes.talkbank.org/access/Eng-NA/Hall.html',\n",
       " 'HSLLD': 'https://childes.talkbank.org/access/Eng-NA/HSLLD.html',\n",
       " 'VanHouten': 'https://childes.talkbank.org/access/Eng-NA/VanHouten.html',\n",
       " 'Demetras2': 'https://childes.talkbank.org/access/Eng-NA/Demetras2.html',\n",
       " 'Brown': 'https://childes.talkbank.org/access/Eng-NA/Brown.html',\n",
       " 'Hicks': 'https://childes.talkbank.org/access/Eng-NA/Hicks.html'}"
      ]
     },
     "execution_count": 5,
     "metadata": {},
     "output_type": "execute_result"
    }
   ],
   "source": [
    "corpus_homepages = {}\n",
    "corpus_set = set(data_idx.corpus)\n",
    "\n",
    "for c in corpus_set:\n",
    "    url = \"https://childes.talkbank.org/access/Eng-NA/\" + c + \".html\"\n",
    "    corpus_homepages[c] = url\n",
    "corpus_homepages"
   ]
  },
  {
   "cell_type": "markdown",
   "id": "97fb5f00-5bbd-473b-ae78-c57ac1a5b52a",
   "metadata": {},
   "source": [
    "#### Corpus info:\n",
    "\n",
    "HSLLD:  \n",
    "https://childes.talkbank.org/access/Eng-NA/HSLLD.html  \n",
    "https://childes.talkbank.org/access/Eng-NA/0docs/Beals1993.pdf  \n",
    "https://childes.talkbank.org/access/Eng-NA/0docs/Beals1995.pdf\n",
    "\n",
    "\n",
    "NewmanRatner: \n",
    "https://childes.talkbank.org/access/Eng-NA/NewmanRatner.html  \n",
    "https://www.cambridge.org/core/journals/journal-of-child-language/article/input-and-uptake-at-7-months-predicts-toddler-vocabulary-the-role-of-childdirected-speech-and-infant-processing-skills-in-language-development/10B3EE0531F60826E6315380E02B222E\n",
    "\n",
    "VanHouten\n",
    "https://childes.talkbank.org/access/Eng-NA/VanHouten.html  \n",
    "https://childes.talkbank.org/access/Eng-NA/0docs/VanHouten1986.pdf  \n",
    "Mother’s Education: Maternal educational level. 1 = completed junior high, 2 = completed high school, 3 = some post-secondary education\n",
    "\n",
    "New labels:  \n",
    "JH-  \n",
    "HS-  \n",
    "HS  \n",
    "HS+  \n",
    "\n",
    "AD  \n",
    "UG-  \n",
    "UG  \n",
    "\n",
    "MS  \n",
    "JD  \n",
    "DR  \n"
   ]
  },
  {
   "cell_type": "markdown",
   "id": "593b8627-39ea-4204-ab35-66bedb0a5a56",
   "metadata": {},
   "source": [
    "Map `mot_edu` to new labels and update `data_idx` with new labels:"
   ]
  },
  {
   "cell_type": "code",
   "execution_count": 6,
   "id": "f06bcf1c-bb74-4995-af05-6b1d33bbb050",
   "metadata": {},
   "outputs": [
    {
     "name": "stdout",
     "output_type": "stream",
     "text": [
      "{'Bates': {'unspecified'},\n",
      " 'Bernstein': {'unspecified'},\n",
      " 'Brown': {'unspecified'},\n",
      " 'Clark': {'unspecified'},\n",
      " 'Demetras2': {'unspecified'},\n",
      " 'Gleason': {'unspecified'},\n",
      " 'HSLLD': {'**', '10', '10 , GED', '102', '11', '11 , GED', '11+', '12', '12+',\n",
      "           '13', '13+', '14', '15', '16', '9', 'JH-', 'XX', 'almost 12',\n",
      "           'unspecified'},\n",
      " 'Hall': {'unspecified'},\n",
      " 'Hicks': {'unspecified'},\n",
      " 'Nelson': {'unspecified'},\n",
      " 'NewmanRatner': {\"Associate's_Degree\", 'College', 'College_Doctoral',\n",
      "                  'College_J.D.', \"College_Master's\", 'High_School_Diploma',\n",
      "                  'Some_College', 'unspecified'},\n",
      " 'Post': {'unspecified'},\n",
      " 'VanHouten': {'unspecified', 'MOT_2', 'MOT_1', 'MOT_3'}}\n"
     ]
    }
   ],
   "source": [
    "#' mot_edu' label mapping\n",
    "EDU_DICT = {\n",
    "          'JH-':['6','7','8'],\n",
    "          'HS-':['9','10','11','11+','almost 12','MOT_1'],\n",
    "          'HS':['10 , GED','11 , GED','12','12+','High_School_Diploma','MOT_2'],\n",
    "          'HS+':['13','13+','14','15','16','MOT_3'],\n",
    "          'AD':[\"Associate's_Degree\"],\n",
    "          'UG-':['Some_College'],\n",
    "          'UG':['College'], \n",
    "          'MS':[\"College_Master's\"],\n",
    "          'JD':['College_J.D.'],    \n",
    "          'DR':['College_Doctoral'],\n",
    "          'unspecified':['**','102','XX','unspecified']\n",
    "           }\n",
    "\n",
    "# Function to update 'mot_edu'\n",
    "def update_mot_edu(data):\n",
    "    for label in EDU_DICT:\n",
    "        if data in EDU_DICT[label]:\n",
    "            return label\n",
    "        else: return data  # do not update label if not found in 'edu_dict'\n",
    "\n",
    "# Update 'mot_edu'\n",
    "data_idx.mot_edu = data_idx.mot_edu.map(update_mot_edu)\n",
    "\n",
    "# Check if update was successful\n",
    "cp.pprint(check_labels('mot_edu'))"
   ]
  },
  {
   "cell_type": "markdown",
   "id": "4c8fb19e-4e70-4d80-9596-2cced3f53580",
   "metadata": {},
   "source": [
    "### `group`"
   ]
  },
  {
   "cell_type": "code",
   "execution_count": 7,
   "id": "f766a891-419a-4f5e-b1e5-eec689bbcebf",
   "metadata": {},
   "outputs": [
    {
     "name": "stdout",
     "output_type": "stream",
     "text": [
      "{'Bates': {'TD'},\n",
      " 'Bernstein': {'unspecified', 'TD'},\n",
      " 'Brown': {'unspecified', 'TD'},\n",
      " 'Clark': {'TD'},\n",
      " 'Demetras2': {'unspecified', 'TD'},\n",
      " 'Gleason': {'unspecified', 'typical', 'normal', 'TD'},\n",
      " 'HSLLD': {'unspecified'},\n",
      " 'Hall': {'unspecified', 'White,UC', 'TD'},\n",
      " 'Hicks': {'unspecified'},\n",
      " 'Nelson': {'unspecified'},\n",
      " 'NewmanRatner': {'TD'},\n",
      " 'Post': {'TD'},\n",
      " 'VanHouten': {'MOT_Adolescent', 'MOT_Adolescent_', 'MOT_Older', 'MOT_Older_',\n",
      "               'MOT_adolescent', 'MOT_older', 'TD', 'unspecified'}}\n"
     ]
    }
   ],
   "source": [
    "cp.pprint(check_labels('group'))"
   ]
  },
  {
   "cell_type": "markdown",
   "id": "dd139948-239b-4e5c-836f-11f064d57541",
   "metadata": {},
   "source": [
    "### `ses`"
   ]
  },
  {
   "cell_type": "code",
   "execution_count": 8,
   "id": "b7dfad76-06de-41ba-9cdf-012c21a5900e",
   "metadata": {},
   "outputs": [
    {
     "name": "stdout",
     "output_type": "stream",
     "text": [
      "{'Bates': {'MC'},\n",
      " 'Bernstein': {'unspecified', 'MC'},\n",
      " 'Brown': {'unspecified', 'MC'},\n",
      " 'Clark': {'UC'},\n",
      " 'Demetras2': {'WC', 'unspecified'},\n",
      " 'Gleason': {'unspecified', 'MC'},\n",
      " 'HSLLD': {'unspecified'},\n",
      " 'Hall': {'unspecified', 'White,UC', 'Black,WC', 'Black,UC', 'White,WC'},\n",
      " 'Hicks': {'LI', 'unspecified'},\n",
      " 'Nelson': {'unspecified', 'MC'},\n",
      " 'NewmanRatner': {'unspecified'},\n",
      " 'Post': {'WC'},\n",
      " 'VanHouten': {'unspecified'}}\n"
     ]
    }
   ],
   "source": [
    "cp.pprint(check_labels('ses'))"
   ]
  },
  {
   "cell_type": "code",
   "execution_count": null,
   "id": "0a67aa1b-ec20-48cd-9795-d4d3b5835e5d",
   "metadata": {},
   "outputs": [],
   "source": []
  },
  {
   "cell_type": "code",
   "execution_count": null,
   "id": "c2de4943-30a3-4d47-9312-c6f87b3f5bd5",
   "metadata": {},
   "outputs": [],
   "source": []
  }
 ],
 "metadata": {
  "kernelspec": {
   "display_name": "Python 3 (ipykernel)",
   "language": "python",
   "name": "python3"
  },
  "language_info": {
   "codemirror_mode": {
    "name": "ipython",
    "version": 3
   },
   "file_extension": ".py",
   "mimetype": "text/x-python",
   "name": "python",
   "nbconvert_exporter": "python",
   "pygments_lexer": "ipython3",
   "version": "3.9.7"
  }
 },
 "nbformat": 4,
 "nbformat_minor": 5
}
