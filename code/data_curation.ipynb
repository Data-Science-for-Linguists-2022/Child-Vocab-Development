{
 "cells": [
  {
   "cell_type": "markdown",
   "id": "0361b10a-3d8d-4fdd-876a-dd275328f930",
   "metadata": {},
   "source": [
    "\n",
    "# Data curation\n",
    "\n",
    "Man Ho Wong, University of Pittsburgh | April 28, 2022\n",
    "\n",
    "*Jupyter notebooks are not always rendered properly on GitHub. Please [view this notebook here on nbviewer](https://nbviewer.org/github/Data-Science-for-Linguists-2022/Child-Vocab-Development/blob/main/code/data_curation.ipynb) if that happens.*\n",
    "\n",
    "##### Script header"
   ]
  },
  {
   "cell_type": "code",
   "execution_count": 1,
   "id": "577e6a35-45ca-404f-8027-8edb3678baab",
   "metadata": {},
   "outputs": [],
   "source": [
    "# Python libraries and packages required\n",
    "import matplotlib.pyplot as plt\n",
    "import numpy as np\n",
    "import pandas as pd\n",
    "import pickle\n",
    "import pprint                    # For pretty printing\n",
    "import pylangacq                 # See Section 2.1 for installation\n",
    "from tqdm import tqdm            # For showing progress bar (optional)\n",
    "\n",
    "# Load data from last run to skip section 2:\n",
    "search_result = pickle.load(open('../data/childes/search_result.pkl', 'rb'))\n",
    "data_idx = pickle.load(open('../data/childes/data_idx_unprocessed.pkl', 'rb'))\n",
    "\n",
    "# Pretty printing for better readability:\n",
    "# - print dict in compact format instead of one item per line\n",
    "# - Items will be in alphabetical order; Counter in descending order\n",
    "# - Nested Dict will be printed with suitable indentation\n",
    "cp = pprint.PrettyPrinter(compact=True, sort_dicts=True)"
   ]
  },
  {
   "cell_type": "markdown",
   "id": "ae8a241d-18b6-4a3f-bdb2-a56ed42395fd",
   "metadata": {},
   "source": [
    "---\n",
    "\n",
    "# 1 Overview\n",
    "\n",
    "> Data processing pipeline:  \n",
    ">`data_curation.ipynb` <-- You are here  \n",
    ">[`data_preprocessing.ipynb`](https://github.com/Data-Science-for-Linguists-2022/Child-Vocab-Development/blob/main/code/data_preprocessing.ipynb)   \n",
    ">[`exploratory_analysis.ipynb`](https://github.com/Data-Science-for-Linguists-2022/Child-Vocab-Development/blob/main/code/exploratory_analysis.ipynb)  \n",
    ">[`vocabulary_analysis.ipynb`](https://github.com/Data-Science-for-Linguists-2022/Child-Vocab-Development/blob/main/code/vocabulary_analysis.ipynb)\n",
    "\n",
    "This notebook is the first step of the data processing and analysis pipeline of the project. I will screen for suitable corpora needed for this project in the Child Language Data Exchange System, [CHILDES](https://childes.talkbank.org/).  \n",
    ">MacWhinney, B. (2000). The CHILDES Project: Tools for analyzing talk. Third Edition. Mahwah, NJ: Lawrence Erlbaum Associates.\n",
    "\n",
    "I will first demonstrate how the data stored in CHAT format (the standard data format in CHILDES) can be read and accessed with the PyLangAcq package. I will also explore the data to get a sense of the contents and data structure of the corpora (e.g., participant information, annotations, data format, etc.). I will then screen for suitable corpora containing the data I need for this project, i.e., child speech (CS) and child-directed speech (CDS). To prepare for the next step (data cleaning and preprocessing), I will look at some basic statistics about the dataset curated in this notebook, as well as the demographics of the participants.\n",
    "\n",
    "The curated dataset will be stored locally and indexed by a `DataFrame`, `data_idx`, for easy access later. `data_idx` will be pickled and stored locally.\n",
    "\n",
    "### Table of contents\n",
    "1. [Overview](#1-overview)\n",
    "2. [Data format and structure](#2-data-format-and-structure)\n",
    "    - [2.1 Acccessing data in CHAT file](#21-acccessing-data-in-chat-file)\n",
    "3. [Searching for suitable corpora in CHILDES](#3-searching-for-suitable-corpora-in-childes)\n",
    "    - [3.1 Search strategy](#31-search-strategy)\n",
    "    - [3.2 Running the search](#32-running-the-search)\n",
    "4. [Composition of curated data](#4-composition-of-curated-data)\n",
    "    - [4.1 Token count](#41-token-count)\n",
    "    - [4.2 Utterance count](#42-utterance-count)\n",
    "    - [4.3 Dataset composition](#43-dataset-composition)\n",
    "    - [4.4 Demographics of participants](#44-demographics-of-participants)"
   ]
  },
  {
   "cell_type": "markdown",
   "id": "2624715b-d6a5-41f6-b7bc-adf57127d855",
   "metadata": {},
   "source": [
    "---\n",
    "\n",
    "# 2 Data format and structure\n",
    "\n",
    "CHILDES is a multilingual database containing corpora with transcriptions, audio recordings and/or video recordings of child speech (CS) and child-directed speech (CDS) at different developmental stages. Each corpus has a separate directory for each participant, and each directory contains the recording transcripts stored in CHAT formats. ([Example](https://childes.talkbank.org/access/Eng-NA/Brown.html))\n",
    "\n",
    "For this project, I will need to collect the transcipts for both the child speech and the associated CDS. Additionally, I will need the participant information (i.e. child age, sex and socioeconomic status (SES), mother's education) and some basic annotations of the words (i.e. morphemes and lexical categories). Participant information can be found in the header of each CHAT file as the metadata of the file. Annotation information can be found as dependent tiers embedded in the transcription.\n",
    "\n",
    "Let's take a quick look at a sample CHAT file first to see how the data is organized."
   ]
  },
  {
   "cell_type": "markdown",
   "id": "d98686cc-77f7-4f43-91dd-4575e7261f98",
   "metadata": {},
   "source": [
    "\n",
    "## 2.1 Acccessing data in CHAT file\n",
    "\n",
    "### Reading CHAT file\n",
    "\n",
    "The `PyLangAcq` package allows users to read CHAT files directly from a zip file. You can download and install it with the following code:  \n",
    "`$ pip install --upgrade pylangacq`\n",
    "\n",
    "For documentation, you can visit their [website](https://pylangacq.org/).\n",
    "\n",
    "I will use the Brown Corpus of CHILDES as an example below. The corpus has been downloaded from [here](https://childes.talkbank.org/data/Eng-NA/Brown.zip) and stored under `../data/data_samples/Brown.zip`. There are three folders in this corpus, each folder contains a dataset (a collection of CHAT files) for each child:\n",
    "\n",
    "```\n",
    "Brown.zip/  \n",
    "    |--Adam/  \n",
    "    |--Eve/  \n",
    "    |--Sarah/\n",
    "```\n",
    "\n",
    "I will use the `read_chat()` function of `PyLangAcq` to read all the CHAT files in the folder `Adam`:"
   ]
  },
  {
   "cell_type": "code",
   "execution_count": 2,
   "id": "ce9e997b-a6eb-4ede-b8d2-eba6cc55bab8",
   "metadata": {},
   "outputs": [
    {
     "name": "stdout",
     "output_type": "stream",
     "text": [
      "<class 'pylangacq.chat.Reader'>\n",
      "Number of CHAT files: 55\n"
     ]
    }
   ],
   "source": [
    "# Read CHAT files in the folder 'Adam' in 'Brown.zip':\n",
    "path = '../data/data_samples/Brown.zip'\n",
    "adam = pylangacq.read_chat(path, 'Adam')\n",
    "\n",
    "print(type(adam))\n",
    "print('Number of CHAT files:', adam.n_files())"
   ]
  },
  {
   "cell_type": "code",
   "execution_count": 3,
   "id": "eda0575c-87d5-458f-915e-47a7737f4bd3",
   "metadata": {},
   "outputs": [
    {
     "name": "stdout",
     "output_type": "stream",
     "text": [
      "Ages (year, month, day): [(2, 3, 4), (2, 3, 18), (2, 4, 3), (2, 4, 15), (2, 4, 30), (2, 5, 12), (2, 6, 3), (2, 6, 17), (2, 7, 1), (2, 7, 14), (2, 8, 1), (2, 8, 16), (2, 9, 4), (2, 9, 18), (2, 10, 2), (2, 10, 16), (2, 10, 30), (2, 11, 13), (2, 11, 28), (3, 0, 11), (3, 0, 25), (3, 1, 9), (3, 1, 26), (3, 2, 9), (3, 2, 21), (3, 3, 4), (3, 3, 18), (3, 4, 1), (3, 4, 18), (3, 5, 1), (3, 5, 15), (3, 5, 29), (3, 6, 9), (3, 7, 7), (3, 8, 1), (3, 8, 14), (3, 8, 26), (3, 9, 16), (3, 10, 15), (3, 11, 1), (3, 11, 14), (4, 0, 14), (4, 1, 15), (4, 2, 17), (4, 3, 9), (4, 4, 1), (4, 4, 13), (4, 5, 11), (4, 6, 24), (4, 7, 1), (4, 7, 29), (4, 9, 2), (4, 10, 2), (4, 10, 23), (5, 2, 12)]\n"
     ]
    }
   ],
   "source": [
    "# Ages when recordings were made\n",
    "print('Ages (year, month, day):', adam.ages())  # output: a list of tuples"
   ]
  },
  {
   "cell_type": "markdown",
   "id": "9e4f47d0-163c-498c-81a2-7828c9270d7d",
   "metadata": {},
   "source": [
    "As shown above, `read_chat()` read the CHAT files and creates a `Reader` object. This is a `dataclass` storing data and metadata across all the CHAT files in `Adam`. You can access the data stored in the `Reader` by calling the appropriate methods/ attributes, such as `.n_files()` for number of CHAT files in the dataset. For example, `Adam` has 55 CHAT files. We can also get the ages when recordings were made by calling `.ages()`. Let's see what other information we can get from the `Reader` object in the next section."
   ]
  },
  {
   "cell_type": "markdown",
   "id": "cb97d197-845e-46e4-a494-cd3765572cb0",
   "metadata": {},
   "source": [
    "### Accessing metadata stored in a CHAT file\n",
    "\n",
    "Metadata such as age range, date of recording, participants, etc. are stored in the header of each CHAT file. We can access such information by retrieving the `.header()` attribute. Here is the header for the first CHAT file in `adam`:"
   ]
  },
  {
   "cell_type": "code",
   "execution_count": 4,
   "id": "caad807e-c699-4e50-9dfc-f9663e6c8f52",
   "metadata": {},
   "outputs": [
    {
     "name": "stdout",
     "output_type": "stream",
     "text": [
      "{'Comment': 'Birth of CHI is 4-JUL-1960',\n",
      " 'Date': {datetime.date(1962, 10, 9), datetime.date(1962, 10, 8)},\n",
      " 'Languages': ['eng'],\n",
      " 'PID': '11312/c-00015632-1',\n",
      " 'Participants': {'CHI': {'age': '2;03.04',\n",
      "                          'corpus': 'Brown',\n",
      "                          'custom': '',\n",
      "                          'education': '',\n",
      "                          'group': 'TD',\n",
      "                          'language': 'eng',\n",
      "                          'name': 'Adam',\n",
      "                          'role': 'Target_Child',\n",
      "                          'ses': 'MC',\n",
      "                          'sex': 'male'},\n",
      "                  'COL': {'age': '',\n",
      "                          'corpus': 'Brown',\n",
      "                          'custom': '',\n",
      "                          'education': '',\n",
      "                          'group': '',\n",
      "                          'language': 'eng',\n",
      "                          'name': 'Colin_Fraser',\n",
      "                          'role': 'Investigator',\n",
      "                          'ses': '',\n",
      "                          'sex': ''},\n",
      "                  'MOT': {'age': '',\n",
      "                          'corpus': 'Brown',\n",
      "                          'custom': '',\n",
      "                          'education': '',\n",
      "                          'group': '',\n",
      "                          'language': 'eng',\n",
      "                          'name': 'Mother',\n",
      "                          'role': 'Mother',\n",
      "                          'ses': '',\n",
      "                          'sex': 'female'},\n",
      "                  'RIC': {'age': '',\n",
      "                          'corpus': 'Brown',\n",
      "                          'custom': '',\n",
      "                          'education': '',\n",
      "                          'group': '',\n",
      "                          'language': 'eng',\n",
      "                          'name': 'Richard_Cromer',\n",
      "                          'role': 'Investigator',\n",
      "                          'ses': '',\n",
      "                          'sex': ''},\n",
      "                  'URS': {'age': '',\n",
      "                          'corpus': 'Brown',\n",
      "                          'custom': '',\n",
      "                          'education': '',\n",
      "                          'group': '',\n",
      "                          'language': 'eng',\n",
      "                          'name': 'Ursula_Bellugi',\n",
      "                          'role': 'Investigator',\n",
      "                          'ses': '',\n",
      "                          'sex': ''}},\n",
      " 'Time Duration': '15:00-16:00',\n",
      " 'Types': 'long, toyplay, TD',\n",
      " 'UTF8': ''}\n"
     ]
    }
   ],
   "source": [
    "cp.pprint(adam.headers()[0])"
   ]
  },
  {
   "cell_type": "markdown",
   "id": "a29beeb4-d948-4c36-b2f3-eab0a9095ffb",
   "metadata": {},
   "source": [
    "The output above, is a nested `dictionary`. To retrieve a specific piece of information we need, we can use its `dictionary` key as usual.  \n",
    "Let's check if 'Adam' is a male as their biblical name suggests:"
   ]
  },
  {
   "cell_type": "code",
   "execution_count": 5,
   "id": "a4850e46-5e97-4e20-8a06-6aea94ef4090",
   "metadata": {},
   "outputs": [
    {
     "data": {
      "text/plain": [
       "'male'"
      ]
     },
     "execution_count": 5,
     "metadata": {},
     "output_type": "execute_result"
    }
   ],
   "source": [
    "adam.headers()[0]['Participants']['CHI']['sex']"
   ]
  },
  {
   "cell_type": "markdown",
   "id": "aad9708f-391c-4edf-a245-25e4c2d06095",
   "metadata": {},
   "source": [
    "\n",
    "### Accessing annotations\n",
    "\n",
    "Next, let's check what kinds of annotation are stored in each CHAT file. I will use the `.tokens()` method to access the annotated tokens. This method returns a `list` of `Token` objects:"
   ]
  },
  {
   "cell_type": "code",
   "execution_count": 6,
   "id": "08d0375c-caed-42a4-9afc-d121b3f79e03",
   "metadata": {},
   "outputs": [
    {
     "data": {
      "text/plain": [
       "[Token(word='play', pos='n', mor='play', gra=Gra(dep=1, head=2, rel='MOD')),\n",
       " Token(word='checkers', pos='n', mor='checker-PL', gra=Gra(dep=2, head=0, rel='INCROOT')),\n",
       " Token(word='.', pos='.', mor='', gra=Gra(dep=3, head=2, rel='PUNCT')),\n",
       " Token(word='big', pos='adj', mor='big', gra=Gra(dep=1, head=2, rel='MOD')),\n",
       " Token(word='drum', pos='n', mor='drum', gra=Gra(dep=2, head=0, rel='INCROOT'))]"
      ]
     },
     "execution_count": 6,
     "metadata": {},
     "output_type": "execute_result"
    }
   ],
   "source": [
    "tokens = adam.tokens()\n",
    "tokens[:5]  # first five tokens"
   ]
  },
  {
   "cell_type": "markdown",
   "id": "18f07287-85f1-45ef-8234-a647f9a4fd24",
   "metadata": {},
   "source": [
    "Each `Token` is a `dataclass` with attributes (e.g. `word`,`pos`, etc.) as shown in the above example.  \n",
    "Annotations for each word are stored as the `Token`'s attributes (i.e. attributes other than `word`):"
   ]
  },
  {
   "cell_type": "code",
   "execution_count": 7,
   "id": "f2bf4834-9464-4b45-9c7e-3d8074646518",
   "metadata": {},
   "outputs": [
    {
     "name": "stdout",
     "output_type": "stream",
     "text": [
      "Second token in 'Adam':\n",
      "Word = checkers\n",
      "Morpheme = checker-PL\n",
      "Part of speech = n\n"
     ]
    }
   ],
   "source": [
    "print(\"Second token in 'Adam':\")\n",
    "print('Word = {}\\nMorpheme = {}\\nPart of speech = {}'.format(\n",
    "    tokens[1].word, tokens[1].mor, tokens[1].pos))"
   ]
  },
  {
   "cell_type": "markdown",
   "id": "e8a51c99-28b0-4d98-97ec-8a61817ab671",
   "metadata": {},
   "source": [
    "---\n",
    "\n",
    "# 3 Searching for suitable corpora in CHILDES\n",
    "\n",
    "## 3.1 Search strategy\n",
    "\n",
    "Now that we know what kinds of information are stored in each CHAT file and how we can access them, we can start planning our search accordingly.\n",
    "\n",
    "### Identifying the scope of search\n",
    "\n",
    "There are dozens of English corpora in CHILDES. We don't need to download them all at once just to look for the corpora we need. `PyLangAcq` allows user to read a corpus directly with the corpus's URL. We can read the corpora one by one, and keep only the ones we need. To get the URLs for all the North American (NA) English corpora, one can use a web scraping tool to get all the links from the database's website and look for the corpus URLs from there. However, a much faster way is to take advantage of the TalkBank's [browsable database](https://sla.talkbank.org/TBB/childes):  \n",
    "1. navigate to CHILDES's North American English dataset (Eng-NA)\n",
    "2. copy the list of corpora directly to a spreadsheet program and save it as a `csv` file (example: `data/data_samples/childes/eng_NA_corpus_list.csv`)\n",
    "3. construct the download URL for each corpus simply with its name (see below)\n",
    "\n",
    "CHILDES has a very well organized structure. Each corpus has the same download URL format as follow:  \n",
    "`https://childes.talkbank.org/data/LANGUAGE/NAME_OF_CORPUS.zip`  \n",
    "For example, the download URL for the Brown Corpus is: https://childes.talkbank.org/data/Eng-NA/Brown.zip\n",
    "\n",
    "Let's see what corpora will be included in our search:"
   ]
  },
  {
   "cell_type": "code",
   "execution_count": 8,
   "id": "b7132000-53ab-4b6b-b187-4f647de52636",
   "metadata": {},
   "outputs": [
    {
     "name": "stdout",
     "output_type": "stream",
     "text": [
      "There are 47 NA English corpora in CHILDES.\n",
      "Here are the first 10 corpora:\n"
     ]
    },
    {
     "data": {
      "text/plain": [
       "0        Bates\n",
       "1    Bernstein\n",
       "2        Bliss\n",
       "3        Bloom\n",
       "4     Bohannon\n",
       "5    Braunwald\n",
       "6        Brent\n",
       "7        Brown\n",
       "8        Clark\n",
       "9    Demetras1\n",
       "Name: 0, dtype: object"
      ]
     },
     "execution_count": 8,
     "metadata": {},
     "output_type": "execute_result"
    }
   ],
   "source": [
    "# Read the list of corpora into a Pandas Series:\n",
    "corpus_list = pd.read_csv('../data/childes/eng_NA_corpus_list.csv', \n",
    "                          header=None, index_col=False, squeeze = True)\n",
    "\n",
    "print('There are {} NA English corpora in CHILDES.'.format(len(corpus_list)))\n",
    "print('Here are the first 10 corpora:')\n",
    "corpus_list.head(10)"
   ]
  },
  {
   "cell_type": "markdown",
   "id": "45d611aa-aa63-4fac-8306-a8e25464cd0a",
   "metadata": {},
   "source": [
    "There are 47 NA English corpora in CHILDES that we can potentially use! Since there is a huge volume of data that we have to evaluate, we need a good strategy to make the data search more efficient. For this project, I will develop a search stretegy similar to a data collection process following PRISMA (Preferred Reporting Items for Systematic Reviews and Meta-Analyses) statement ([flow diagram](https://view.officeapps.live.com/op/view.aspx?src=http%3A%2F%2Fwww.prisma-statement.org%2Fdocuments%2FPRISMA_2020_flow_diagram_new_SRs_v1.docx&wdOrigin=BROWSELINK), [publication](https://journals.plos.org/plosmedicine/article?id=10.1371/journal.pmed.1003583)), which is commonly used in medicine and life sciences for meta-analyses.\n",
    "\n",
    "### Searching data in three phases\n",
    "\n",
    "Instead of evaluating each of the CHAT files from all 47 corpora directly, I will perform the search in three phases, where each phase narrows down the scope of search. As the scope of search is becoming more manageable, I will use search criteria that are more specific. \n",
    "\n",
    "1. **Identification**  \n",
    "    Identify relevant corpora fitting a set of basic criteria  \n",
    "2. **Screening**  \n",
    "    Screen for CHAT files containing the information we need  \n",
    "3. **Refining**  \n",
    "    Refine the dataset by filtering CHAT files with more specific criteria\n",
    "\n",
    "## 3.2 Running the search\n",
    "\n",
    "### Phase 1: Identification\n",
    "\n",
    "I will first search for the corpora meeting the basic requirements of the project, i.e. corpora involving relevant participants (child for child speech analysis and mother for CDS analysis).\n",
    "\n",
    "Here are the search criteria:\n",
    "- Participants: data includes child or mother\n",
    "- Child information: data contains child age, sex and socioeconomic status (SES) information\n",
    "- Mother information: data contains socioeconomic status (SES), education information\n",
    "\n",
    "To access participant information, we can first read the data into a `Reader` object, and then retrieve the header information from the `.headers` attribute.\n",
    "\n",
    "#### About efficiency\n",
    "\n",
    "Handling all corpora at once as one `Reader` object is not memory-efficient, but reading each single CHAT file into individual `Reader`s does not allow parallelized reading and parsing and thus it is less efficient. Therefore, instead of reading all corpora at once or reading each CHAT file one by one, I will read and evaluate one corpus (containing multiple CHAT files) at a time. Once a CHAT file in the corpus fits the criteria, the rest of the CHAT files will not be evaluated and I will move on to the next corpus (because CHAT files belonging to the same corpus are supposed to come from the same study contain similar information).\n",
    "\n",
    "The `.headers` of a `Reader` contains a `list` of headers of *all* the CHAT files in the dataset.  \n",
    "Let's look at our favorite dataset 'Adam' again. Here are the headers of the first two CHAT files in the `adam` reader:"
   ]
  },
  {
   "cell_type": "code",
   "execution_count": 9,
   "id": "887ed920-7dc7-403f-9e66-8e31753f6cf6",
   "metadata": {},
   "outputs": [
    {
     "name": "stdout",
     "output_type": "stream",
     "text": [
      "[{'Comment': 'Birth of CHI is 4-JUL-1960',\n",
      "  'Date': {datetime.date(1962, 10, 9), datetime.date(1962, 10, 8)},\n",
      "  'Languages': ['eng'],\n",
      "  'PID': '11312/c-00015632-1',\n",
      "  'Participants': {'CHI': {'age': '2;03.04',\n",
      "                           'corpus': 'Brown',\n",
      "                           'custom': '',\n",
      "                           'education': '',\n",
      "                           'group': 'TD',\n",
      "                           'language': 'eng',\n",
      "                           'name': 'Adam',\n",
      "                           'role': 'Target_Child',\n",
      "                           'ses': 'MC',\n",
      "                           'sex': 'male'},\n",
      "                   'COL': {'age': '',\n",
      "                           'corpus': 'Brown',\n",
      "                           'custom': '',\n",
      "                           'education': '',\n",
      "                           'group': '',\n",
      "                           'language': 'eng',\n",
      "                           'name': 'Colin_Fraser',\n",
      "                           'role': 'Investigator',\n",
      "                           'ses': '',\n",
      "                           'sex': ''},\n",
      "                   'MOT': {'age': '',\n",
      "                           'corpus': 'Brown',\n",
      "                           'custom': '',\n",
      "                           'education': '',\n",
      "                           'group': '',\n",
      "                           'language': 'eng',\n",
      "                           'name': 'Mother',\n",
      "                           'role': 'Mother',\n",
      "                           'ses': '',\n",
      "                           'sex': 'female'},\n",
      "                   'RIC': {'age': '',\n",
      "                           'corpus': 'Brown',\n",
      "                           'custom': '',\n",
      "                           'education': '',\n",
      "                           'group': '',\n",
      "                           'language': 'eng',\n",
      "                           'name': 'Richard_Cromer',\n",
      "                           'role': 'Investigator',\n",
      "                           'ses': '',\n",
      "                           'sex': ''},\n",
      "                   'URS': {'age': '',\n",
      "                           'corpus': 'Brown',\n",
      "                           'custom': '',\n",
      "                           'education': '',\n",
      "                           'group': '',\n",
      "                           'language': 'eng',\n",
      "                           'name': 'Ursula_Bellugi',\n",
      "                           'role': 'Investigator',\n",
      "                           'ses': '',\n",
      "                           'sex': ''}},\n",
      "  'Time Duration': '15:00-16:00',\n",
      "  'Types': 'long, toyplay, TD',\n",
      "  'UTF8': ''},\n",
      " {'Date': {datetime.date(1962, 10, 23), datetime.date(1962, 10, 22)},\n",
      "  'Languages': ['eng'],\n",
      "  'PID': '11312/c-00015633-1',\n",
      "  'Participants': {'CHI': {'age': '2;03.18',\n",
      "                           'corpus': 'Brown',\n",
      "                           'custom': '',\n",
      "                           'education': '',\n",
      "                           'group': 'TD',\n",
      "                           'language': 'eng',\n",
      "                           'name': 'Adam',\n",
      "                           'role': 'Target_Child',\n",
      "                           'ses': 'MC',\n",
      "                           'sex': 'male'},\n",
      "                   'MOT': {'age': '',\n",
      "                           'corpus': 'Brown',\n",
      "                           'custom': '',\n",
      "                           'education': '',\n",
      "                           'group': '',\n",
      "                           'language': 'eng',\n",
      "                           'name': 'Mother',\n",
      "                           'role': 'Mother',\n",
      "                           'ses': '',\n",
      "                           'sex': 'female'},\n",
      "                   'RIC': {'age': '',\n",
      "                           'corpus': 'Brown',\n",
      "                           'custom': '',\n",
      "                           'education': '',\n",
      "                           'group': '',\n",
      "                           'language': 'eng',\n",
      "                           'name': 'Richard_Cromer',\n",
      "                           'role': 'Investigator',\n",
      "                           'ses': '',\n",
      "                           'sex': ''},\n",
      "                   'URS': {'age': '',\n",
      "                           'corpus': 'Brown',\n",
      "                           'custom': '',\n",
      "                           'education': '',\n",
      "                           'group': '',\n",
      "                           'language': 'eng',\n",
      "                           'name': 'Ursula_Bellugi',\n",
      "                           'role': 'Investigator',\n",
      "                           'ses': '',\n",
      "                           'sex': ''}},\n",
      "  'Tape Location': '646',\n",
      "  'Time Duration': '15:00-16:00',\n",
      "  'Types': 'long, toyplay, TD',\n",
      "  'UTF8': ''}]\n"
     ]
    }
   ],
   "source": [
    "cp.pprint(adam.headers()[:2])"
   ]
  },
  {
   "cell_type": "markdown",
   "id": "cd773f94-eed8-47db-8854-6cb8a34371be",
   "metadata": {},
   "source": [
    "To access the participant information in each header, one can loop through each header and index into the sub-level dictionary associated with the key `Participants`. For example:"
   ]
  },
  {
   "cell_type": "code",
   "execution_count": 10,
   "id": "8a27d55a-6088-4471-8088-88ca43909070",
   "metadata": {},
   "outputs": [
    {
     "name": "stdout",
     "output_type": "stream",
     "text": [
      "At least one file involves mother as a participant in the dataset \"Adam\"!\n"
     ]
    }
   ],
   "source": [
    "for h in adam.headers():\n",
    "    if 'MOT' in h ['Participants']:  # search criterion\n",
    "        print('At least one file involves mother as a participant in the dataset \"Adam\"!')\n",
    "        break  # Break the loop once the search criterion is met"
   ]
  },
  {
   "cell_type": "markdown",
   "id": "d832f90f-f18b-441e-871b-67cccf3dd7c1",
   "metadata": {},
   "source": [
    "Let's begin the first phase of the search:"
   ]
  },
  {
   "cell_type": "code",
   "execution_count": 11,
   "id": "37304e38-1ef1-4aa1-ad4e-9fee5b458318",
   "metadata": {},
   "outputs": [
    {
     "name": "stderr",
     "output_type": "stream",
     "text": [
      "100%|██████████████████████████████████████████████████████████████████████████████████| 47/47 [07:04<00:00,  9.03s/it]"
     ]
    },
    {
     "name": "stdout",
     "output_type": "stream",
     "text": [
      "Search completed! 13 corpora found!\n"
     ]
    },
    {
     "name": "stderr",
     "output_type": "stream",
     "text": [
      "\n"
     ]
    }
   ],
   "source": [
    "search_result = []  # To store a list of corpora matching the criteria\n",
    "\n",
    "# Search each corpus in the list:\n",
    "for corpus_name in tqdm(corpus_list):  # tqdm for progress bar\n",
    "    \n",
    "    # Download URL for the corpus:\n",
    "    corpus_url = 'https://childes.talkbank.org/data/Eng-NA/'+corpus_name+'.zip'\n",
    "    \n",
    "    # read the corpus into a Reader object:\n",
    "    corpus = pylangacq.read_chat(corpus_url)\n",
    "   \n",
    "    # Search criteria:  \n",
    "    # - Child ('CHI') is included as participant.\n",
    "    # - Info about Child's SES or mother's SES/education is provided.\n",
    "    # Note: Check if 'MOT' is present before checking SES/education info\n",
    "    #       (if the condition before 'and' is False, the second condition won't\n",
    "    #       be evaluated. This is not only more efficient, but also prevents\n",
    "    #       error when evaluating the second condition if 'MOT' is absent)\n",
    "    \n",
    "    for h in corpus.headers():\n",
    "        if (\n",
    "            # 'CHI' must be included\n",
    "            ('CHI' in h['Participants']) \n",
    "            \n",
    "            and\n",
    "            \n",
    "            # Must contain info about either SES or mother's education\n",
    "            (\n",
    "                # Child's or mother's SES \n",
    "                ((h['Participants']['CHI']['ses'] != '') or\n",
    "                (('MOT' in h['Participants']) and (h['Participants']['MOT']['ses'] != '')))\n",
    "                \n",
    "                or\n",
    "                \n",
    "                # Mother's education\n",
    "                (('MOT' in h['Participants']) and (h['Participants']['MOT']['education'] != ''))\n",
    "            )\n",
    "            \n",
    "        ):\n",
    "            search_result.append(corpus_name)  # store corpus name in 'search_result'\n",
    "            break  # Break the for loop and move on to the next corpus\n",
    "\n",
    "print('Search completed! {} corpora found!'.format(len(search_result)))"
   ]
  },
  {
   "cell_type": "markdown",
   "id": "32ab9831-c39c-42eb-a9eb-5ce182450676",
   "metadata": {},
   "source": [
    "Let's see which corpora contain the data we need:"
   ]
  },
  {
   "cell_type": "code",
   "execution_count": 11,
   "id": "6a281639-489c-4578-86dc-6a779ac693e8",
   "metadata": {},
   "outputs": [
    {
     "name": "stdout",
     "output_type": "stream",
     "text": [
      "\n",
      "13 corpora matching the criteria:\n",
      "['Bates', 'Bernstein', 'Brown', 'Clark', 'Demetras2', 'Gleason', 'HSLLD', 'Hall', 'Hicks', 'Nelson', 'NewmanRatner', 'Post', 'VanHouten']\n"
     ]
    }
   ],
   "source": [
    "print('\\n{} corpora matching the criteria:'.format(len(search_result)))\n",
    "print(search_result)"
   ]
  },
  {
   "cell_type": "markdown",
   "id": "b90501fb-2470-4586-9544-7c5efcbdff7e",
   "metadata": {},
   "source": [
    "Nice! We have narrowed down the number of corpora we need to process from 47 to 13.  "
   ]
  },
  {
   "cell_type": "markdown",
   "id": "97e27697-cb31-439e-b942-44d419ee2b17",
   "metadata": {
    "tags": []
   },
   "source": [
    "#### Downloading data to local drive\n",
    "\n",
    "Next, I will download the zip files for the corpora to the local drive and extract them to the folder `../data/childes/`."
   ]
  },
  {
   "cell_type": "code",
   "execution_count": null,
   "id": "1802310c-4a91-455b-8873-4b9ad0caa838",
   "metadata": {},
   "outputs": [],
   "source": [
    "import os\n",
    "import urllib.request\n",
    "import zipfile\n",
    "\n",
    "# Where zip files will be stored locally\n",
    "target_dir = '../data/childes/corpus_zip/'\n",
    "\n",
    "# Create a folder to store the zip files\n",
    "os.mkdir(target_dir)\n",
    "\n",
    "for corpus_name in search_result:\n",
    "    \n",
    "    print('Downloading and extracting {}...'.format(corpus_name))\n",
    "    \n",
    "    # Corpus's download URL:\n",
    "    corpus_url = 'https://childes.talkbank.org/data/Eng-NA/'+corpus_name+'.zip'\n",
    "    \n",
    "    # Path in local drive:\n",
    "    zip_path = target_dir + corpus_name + '.zip'\n",
    "    \n",
    "    # Download corpus from URL\n",
    "    urllib.request.urlretrieve(corpus_url, zip_path)\n",
    "    \n",
    "    # Extract zip file\n",
    "    with zipfile.ZipFile(zip_path, 'r') as z:\n",
    "        z.extractall('../data/childes')\n",
    "        \n",
    "print('Done! Zip files were stored in {} \\nand extracted to {}.'\n",
    "      .format(target_dir, '../data/childes'))"
   ]
  },
  {
   "cell_type": "markdown",
   "id": "70d14ea2-e6d3-43b2-b0f6-59a6a5639444",
   "metadata": {},
   "source": [
    "### Phase 2: Screening\n",
    "\n",
    "All the corpora matching the search criteria in Phase 1 were downloaded to local drive. From now on, I will read the data locally instead of remotely.\n",
    "\n",
    "Since not all the CHAT files were inspected in Phase 1, we are not sure whether all files match the search criteria and could be used for data analysis. In addition, some corpora contain dummy files, and some contain data we don't need, such as parent interviews ([example](https://sla.talkbank.org/TBB/childes/Eng-NA/Bernstein/Interview/Alice/alice1.cha)). Therefore, in Phase 2, I will inspect all the files to screen for files that I need. In this Phase, I will also include child's age in the search criteria. Because I am studying vocabulary development in early childhood, I will exclude the files  with children older than 6 years for now (I will refine the age range later). I will also create a `DataFrame` to index all the CHAT files that match the search criteria and store their header information for further data processing."
   ]
  },
  {
   "cell_type": "code",
   "execution_count": 12,
   "id": "1a28ae0f-5a13-4bdf-a08a-4b63abe0aebb",
   "metadata": {},
   "outputs": [
    {
     "name": "stderr",
     "output_type": "stream",
     "text": [
      "100%|██████████████████████████████████████████████████████████████████████████████████| 13/13 [03:08<00:00, 14.52s/it]"
     ]
    },
    {
     "name": "stdout",
     "output_type": "stream",
     "text": [
      "Done!\n"
     ]
    },
    {
     "name": "stderr",
     "output_type": "stream",
     "text": [
      "\n"
     ]
    }
   ],
   "source": [
    "# Create lists to store header variables\n",
    "file_path_list   = []\n",
    "corpus_name_list = []\n",
    "year_list        = []  # recording year\n",
    "participant_list = []  # participants of recording\n",
    "chi_name_list    = []  # Child's name\n",
    "chi_age_d_list   = []  # Child's age in days\n",
    "chi_age_m_list   = []  # Child's age in months\n",
    "chi_sex_list     = []  # Child's sex\n",
    "chi_group_list   = []  # Child's group (e.g. typically developed)\n",
    "chi_ses_list     = []  # Child's SES (socioeconomic status; same as mother's)\n",
    "mot_edu_list     = []  # Mother's education\n",
    "situation_list   = []  # Situation of recording (e.g. play session)\n",
    "activity_list    = []  # Activities during recording (e.g. Toy play)\n",
    "study_type_list  = []  # type of study (e.g. longitudinal study)\n",
    "\n",
    "for corpus_name in tqdm(search_result):  # tqdm for progress bar\n",
    "    \n",
    "    # Read the entire corpus into a Reader object:\n",
    "    corpus = pylangacq.Reader.from_dir('../data/childes/'+corpus_name)\n",
    "    \n",
    "    for f in corpus:                    # Inspect each file in the corpus\n",
    "        h = f.headers()[0]              # Header of each file     \n",
    "        if 'CHI' in h['Participants']:  # Include only the files with 'CHI' info\n",
    "            \n",
    "            age_raw     = f.ages()[0]   # Age in raw format\n",
    "            chi_age_d   = (age_raw[0]*12 + age_raw[1])*30 + age_raw[2]\n",
    "            chi_age_m   = age_raw[0]*12 + age_raw[1] + round(age_raw[2]/30,1)\n",
    "\n",
    "            if chi_age_m <= 72:  # Include file only only children <= 72 months\n",
    "            \n",
    "                # Get info we need from the header\n",
    "                file_path    = f.file_paths()[0].replace('\\\\','/')                \n",
    "                corpus_name  = h['Participants']['CHI']['corpus']\n",
    "                participants = f.participants()\n",
    "                chi_name     = h['Participants']['CHI']['name']\n",
    "                chi_sex      = h['Participants']['CHI']['sex']\n",
    "                chi_group    = h['Participants']['CHI']['group']\n",
    "                chi_ses      = h['Participants']['CHI']['ses']\n",
    "                \n",
    "                # Some fields may not exist in header, so use if condition:\n",
    "                year      = (list(h['Date'])[0].year if 'Date' in h else np.nan)\n",
    "                situation = (h['Situation'] if 'Situation' in h else '')\n",
    "                activities= (h['Activities'] if 'Activities' in h else '')\n",
    "                study_type= (h['Types'] if 'Types' in h else '')\n",
    "                \n",
    "                # Get 'MOT' info only if 'MOT' exsits\n",
    "                if 'MOT' in h['Participants']:\n",
    "                    mot_edu = h['Participants']['MOT']['education']                    \n",
    "                    # Just in case SES info is stored in 'MOT' instead of 'CHI'\n",
    "                    if h['Participants']['MOT']['ses'] != '':\n",
    "                        chi_ses = h['Participants']['MOT']['ses']\n",
    "                else:             # Prevent using value from last iteration when\n",
    "                    mot_edu = ''  #   'MOT' doesn't exist\n",
    "                                              \n",
    "                file_path_list.append(file_path) \n",
    "                corpus_name_list.append(corpus_name)\n",
    "                year_list.append(year)\n",
    "                participant_list.append(participants)\n",
    "                chi_name_list.append(chi_name)\n",
    "                chi_age_d_list.append(chi_age_d)\n",
    "                chi_age_m_list.append(chi_age_m)\n",
    "                chi_sex_list.append(chi_sex)\n",
    "                chi_group_list.append(chi_group)\n",
    "                chi_ses_list.append(chi_ses)\n",
    "                mot_edu_list.append(mot_edu)\n",
    "                situation_list.append(situation)\n",
    "                activity_list.append(activities)\n",
    "                study_type_list.append(study_type)\n",
    "                \n",
    "# Build a DataFrame to store header information\n",
    "data_idx = pd.DataFrame({'file_path':file_path_list,\n",
    "                         'corpus':corpus_name_list,\n",
    "                         'year': year_list,\n",
    "                         'participants': participant_list,\n",
    "                         'name':chi_name_list,\n",
    "                         'age_d':chi_age_d_list,\n",
    "                         'age_m':chi_age_m_list,\n",
    "                         'sex':chi_sex_list,\n",
    "                         'group':chi_group_list,\n",
    "                         'ses':chi_ses_list,\n",
    "                         'mot_edu':mot_edu_list,\n",
    "                         'situation':situation_list,\n",
    "                         'activities':activity_list,\n",
    "                         'study_type':study_type_list\n",
    "                        })\n",
    "\n",
    "print('Done!')"
   ]
  },
  {
   "cell_type": "code",
   "execution_count": 13,
   "id": "4c39c154-ae7b-4698-8265-75b5d6bc6dbc",
   "metadata": {},
   "outputs": [
    {
     "data": {
      "text/html": [
       "<div>\n",
       "<style scoped>\n",
       "    .dataframe tbody tr th:only-of-type {\n",
       "        vertical-align: middle;\n",
       "    }\n",
       "\n",
       "    .dataframe tbody tr th {\n",
       "        vertical-align: top;\n",
       "    }\n",
       "\n",
       "    .dataframe thead th {\n",
       "        text-align: right;\n",
       "    }\n",
       "</style>\n",
       "<table border=\"1\" class=\"dataframe\">\n",
       "  <thead>\n",
       "    <tr style=\"text-align: right;\">\n",
       "      <th></th>\n",
       "      <th>file_path</th>\n",
       "      <th>corpus</th>\n",
       "      <th>year</th>\n",
       "      <th>participants</th>\n",
       "      <th>name</th>\n",
       "      <th>age_d</th>\n",
       "      <th>age_m</th>\n",
       "      <th>sex</th>\n",
       "      <th>group</th>\n",
       "      <th>ses</th>\n",
       "      <th>mot_edu</th>\n",
       "      <th>situation</th>\n",
       "      <th>activities</th>\n",
       "      <th>study_type</th>\n",
       "    </tr>\n",
       "  </thead>\n",
       "  <tbody>\n",
       "    <tr>\n",
       "      <th>0</th>\n",
       "      <td>../data/childes/Bates/Free20/amy.cha</td>\n",
       "      <td>Bates</td>\n",
       "      <td>NaN</td>\n",
       "      <td>{CHI, MOT}</td>\n",
       "      <td>Target_Child</td>\n",
       "      <td>600</td>\n",
       "      <td>20.0</td>\n",
       "      <td>female</td>\n",
       "      <td>TD</td>\n",
       "      <td>MC</td>\n",
       "      <td>unspecified</td>\n",
       "      <td>unspecified</td>\n",
       "      <td>unspecified</td>\n",
       "      <td>cross, toyplay, TD</td>\n",
       "    </tr>\n",
       "    <tr>\n",
       "      <th>1</th>\n",
       "      <td>../data/childes/Bates/Free20/betty.cha</td>\n",
       "      <td>Bates</td>\n",
       "      <td>NaN</td>\n",
       "      <td>{CHI, MOT}</td>\n",
       "      <td>Betty</td>\n",
       "      <td>600</td>\n",
       "      <td>20.0</td>\n",
       "      <td>female</td>\n",
       "      <td>TD</td>\n",
       "      <td>MC</td>\n",
       "      <td>unspecified</td>\n",
       "      <td>unspecified</td>\n",
       "      <td>unspecified</td>\n",
       "      <td>cross, toyplay, TD</td>\n",
       "    </tr>\n",
       "    <tr>\n",
       "      <th>2</th>\n",
       "      <td>../data/childes/Bates/Free20/chuck.cha</td>\n",
       "      <td>Bates</td>\n",
       "      <td>NaN</td>\n",
       "      <td>{CHI, MOT}</td>\n",
       "      <td>Chuck</td>\n",
       "      <td>600</td>\n",
       "      <td>20.0</td>\n",
       "      <td>male</td>\n",
       "      <td>TD</td>\n",
       "      <td>MC</td>\n",
       "      <td>unspecified</td>\n",
       "      <td>unspecified</td>\n",
       "      <td>unspecified</td>\n",
       "      <td>cross, toyplay, TD</td>\n",
       "    </tr>\n",
       "    <tr>\n",
       "      <th>3</th>\n",
       "      <td>../data/childes/Bates/Free20/doug.cha</td>\n",
       "      <td>Bates</td>\n",
       "      <td>NaN</td>\n",
       "      <td>{CHI, MOT}</td>\n",
       "      <td>Doug</td>\n",
       "      <td>600</td>\n",
       "      <td>20.0</td>\n",
       "      <td>male</td>\n",
       "      <td>TD</td>\n",
       "      <td>MC</td>\n",
       "      <td>unspecified</td>\n",
       "      <td>unspecified</td>\n",
       "      <td>unspecified</td>\n",
       "      <td>cross, toyplay, TD</td>\n",
       "    </tr>\n",
       "    <tr>\n",
       "      <th>4</th>\n",
       "      <td>../data/childes/Bates/Free20/ed.cha</td>\n",
       "      <td>Bates</td>\n",
       "      <td>NaN</td>\n",
       "      <td>{CHI, MOT}</td>\n",
       "      <td>Ed</td>\n",
       "      <td>600</td>\n",
       "      <td>20.0</td>\n",
       "      <td>male</td>\n",
       "      <td>TD</td>\n",
       "      <td>MC</td>\n",
       "      <td>unspecified</td>\n",
       "      <td>unspecified</td>\n",
       "      <td>unspecified</td>\n",
       "      <td>cross, toyplay, TD</td>\n",
       "    </tr>\n",
       "  </tbody>\n",
       "</table>\n",
       "</div>"
      ],
      "text/plain": [
       "                                file_path corpus  year participants  \\\n",
       "0    ../data/childes/Bates/Free20/amy.cha  Bates   NaN   {CHI, MOT}   \n",
       "1  ../data/childes/Bates/Free20/betty.cha  Bates   NaN   {CHI, MOT}   \n",
       "2  ../data/childes/Bates/Free20/chuck.cha  Bates   NaN   {CHI, MOT}   \n",
       "3   ../data/childes/Bates/Free20/doug.cha  Bates   NaN   {CHI, MOT}   \n",
       "4     ../data/childes/Bates/Free20/ed.cha  Bates   NaN   {CHI, MOT}   \n",
       "\n",
       "           name  age_d  age_m     sex group ses      mot_edu    situation  \\\n",
       "0  Target_Child    600   20.0  female    TD  MC  unspecified  unspecified   \n",
       "1         Betty    600   20.0  female    TD  MC  unspecified  unspecified   \n",
       "2         Chuck    600   20.0    male    TD  MC  unspecified  unspecified   \n",
       "3          Doug    600   20.0    male    TD  MC  unspecified  unspecified   \n",
       "4            Ed    600   20.0    male    TD  MC  unspecified  unspecified   \n",
       "\n",
       "    activities          study_type  \n",
       "0  unspecified  cross, toyplay, TD  \n",
       "1  unspecified  cross, toyplay, TD  \n",
       "2  unspecified  cross, toyplay, TD  \n",
       "3  unspecified  cross, toyplay, TD  \n",
       "4  unspecified  cross, toyplay, TD  "
      ]
     },
     "execution_count": 13,
     "metadata": {},
     "output_type": "execute_result"
    }
   ],
   "source": [
    "# Fill unspecified entries (except 'year') with 'unspecified'\n",
    "data_idx.replace(to_replace = '', value = 'unspecified', inplace=True)\n",
    "data_idx.head()"
   ]
  },
  {
   "cell_type": "markdown",
   "id": "9127ad73-e615-491b-9e42-5281453e57a7",
   "metadata": {},
   "source": [
    "Let's take a look at a record in the DataFrame and check if everything is correct:"
   ]
  },
  {
   "cell_type": "code",
   "execution_count": 14,
   "id": "9f07b43d-6c41-467f-972e-a0f812319103",
   "metadata": {},
   "outputs": [
    {
     "data": {
      "text/plain": [
       "file_path                 ../data/childes/HSLLD/HV2/ER/sarer2.cha\n",
       "corpus                                                      HSLLD\n",
       "year                                                       1990.0\n",
       "participants                                      {INV, CHI, MOT}\n",
       "name                                                 Target_Child\n",
       "age_d                                                        1713\n",
       "age_m                                                        57.1\n",
       "sex                                                        female\n",
       "group                                                 unspecified\n",
       "ses                                                   unspecified\n",
       "mot_edu                                                        10\n",
       "situation       Second home visit; elicited report occurred in...\n",
       "activities                                        Elicited report\n",
       "study_type                                    long, narrative, TD\n",
       "Name: 1000, dtype: object"
      ]
     },
     "execution_count": 14,
     "metadata": {},
     "output_type": "execute_result"
    }
   ],
   "source": [
    "data_idx.iloc[1000,:]"
   ]
  },
  {
   "cell_type": "markdown",
   "id": "0e1e2c9f-0eff-4cf4-9995-b2fd895a732f",
   "metadata": {},
   "source": [
    "According to `data_idx`, this record is from the Corpus 'HSLLD'. The child is a female whose mother's education level is '10'. Is the information correct? Let's read the file header associated with this record:"
   ]
  },
  {
   "cell_type": "code",
   "execution_count": 15,
   "id": "0388ba26-7a55-4a78-b463-66465bed402c",
   "metadata": {},
   "outputs": [
    {
     "name": "stdout",
     "output_type": "stream",
     "text": [
      "Sex of child participant: female\n",
      "Mother's education: 10\n"
     ]
    }
   ],
   "source": [
    "sample = pylangacq.Reader.from_files([data_idx.file_path[1000]])\n",
    "\n",
    "print(\"Sex of child participant:\", sample.headers()[0]['Participants']['CHI']['sex'])\n",
    "print(\"Mother's education:\", sample.headers()[0]['Participants']['MOT']['education'])"
   ]
  },
  {
   "cell_type": "markdown",
   "id": "8d3b8a87-be3b-487d-bad5-bdcf0d0cb8cd",
   "metadata": {},
   "source": [
    "Everything looks good!"
   ]
  },
  {
   "cell_type": "markdown",
   "id": "018c1218-94b1-40f9-9686-01581f8e2b53",
   "metadata": {},
   "source": [
    "### Phase 3: Refining\n",
    "\n",
    "This will be done on the fly during data analysis."
   ]
  },
  {
   "cell_type": "markdown",
   "id": "2c32566a-800e-43a8-864f-855a6b09f2f1",
   "metadata": {},
   "source": [
    "---\n",
    "\n",
    "# 4 Composition of curated data\n",
    "\n",
    "## 4.1 Token count\n",
    "\n",
    "We can use the methods `.tokens()` and `.utterances` to access the token and utterance information stored in the `Reader` objects. Let's see how many tokens are three in these corpora:"
   ]
  },
  {
   "cell_type": "code",
   "execution_count": 16,
   "id": "c3dd2d40-024b-46e8-b658-82e4d268e13a",
   "metadata": {},
   "outputs": [
    {
     "name": "stderr",
     "output_type": "stream",
     "text": [
      "100%|██████████████████████████████████████████████████████████████████████████████████| 13/13 [02:48<00:00, 12.93s/it]\n"
     ]
    }
   ],
   "source": [
    "# Read each corpus into a reader\n",
    "readers = [pylangacq.Reader.from_files(data_idx[data_idx.corpus==c].file_path)\n",
    "           for c in tqdm(search_result)]"
   ]
  },
  {
   "cell_type": "code",
   "execution_count": 17,
   "id": "a8aa4bf2-6598-4061-b2d5-cee78b41c14e",
   "metadata": {},
   "outputs": [
    {
     "name": "stdout",
     "output_type": "stream",
     "text": [
      "          corpus  token_count\n",
      "0          Bates        56304\n",
      "1      Bernstein        73531\n",
      "2          Brown       880322\n",
      "3          Clark       258699\n",
      "4      Demetras2        99363\n",
      "5        Gleason       317306\n",
      "6          HSLLD      1183118\n",
      "7           Hall      1340000\n",
      "8          Hicks        39399\n",
      "9         Nelson        36328\n",
      "10  NewmanRatner      1046875\n",
      "11          Post       185246\n",
      "12     VanHouten        63884\n",
      "\n",
      "Total token count: 5580375\n"
     ]
    }
   ],
   "source": [
    "# count tokens in each reader and create a dict\n",
    "n_tok_dict = {c:len(readers[i].tokens()) for i,c in enumerate(search_result)}\n",
    "\n",
    "# convert n_tok_dict to DataFrame for easy access later\n",
    "tok_by_corpus = pd.DataFrame(n_tok_dict.items(),\n",
    "                             columns=['corpus','token_count'])\n",
    "\n",
    "print(tok_by_corpus)\n",
    "print('\\nTotal token count:', sum(tok_by_corpus.token_count))"
   ]
  },
  {
   "cell_type": "markdown",
   "id": "9a0b12ae-0bd9-4a95-a4dc-df10a680b278",
   "metadata": {},
   "source": [
    "\n",
    "## 4.2 Utterance count\n",
    "\n",
    "Similarly, we can access the utterance infomation stored in each `Reader` object. For example:"
   ]
  },
  {
   "cell_type": "code",
   "execution_count": 18,
   "id": "cd72aae1-ce61-45ba-8964-ca244bd93151",
   "metadata": {},
   "outputs": [
    {
     "data": {
      "text/html": [
       "<table>  <tr>\n",
       "    <td>*CHI:</td>\n",
       "    <td style=\"text-align: left\">yeah</td>\n",
       "    <td style=\"text-align: left\">.</td>\n",
       "  </tr>\n",
       "  <tr>\n",
       "    <td>%mor:</td>\n",
       "    <td style=\"text-align: left\">co|yeah</td>\n",
       "    <td style=\"text-align: left\">.</td>\n",
       "  </tr>\n",
       "  <tr>\n",
       "    <td>%gra:</td>\n",
       "    <td style=\"text-align: left\">1|0|INCROOT</td>\n",
       "    <td style=\"text-align: left\">2|1|PUNCT</td>\n",
       "  </tr>\n",
       "  <tr>\n",
       "    <td>%act:</td>\n",
       "    <td colspan=\"2\" style=\"text-align: left\">takes chicken</td>\n",
       "  </tr>\n",
       "</table>"
      ],
      "text/plain": [
       "Utterance(participant='CHI', tokens=[Token(word='yeah', pos='co', mor='yeah', gra=Gra(dep=1, head=0, rel='INCROOT')), Token(word='.', pos='.', mor='', gra=Gra(dep=2, head=1, rel='PUNCT'))], time_marks=None, tiers={'CHI': 'yeah .', '%mor': 'co|yeah .', '%gra': '1|0|INCROOT 2|1|PUNCT', '%act': 'takes chicken'})"
      ]
     },
     "execution_count": 18,
     "metadata": {},
     "output_type": "execute_result"
    }
   ],
   "source": [
    "file = data_idx.file_path[0]  # first file in 'data_idx'\n",
    "reader = pylangacq.Reader.from_files([file])\n",
    "reader.utterances()[3]  # 4th utterance"
   ]
  },
  {
   "cell_type": "markdown",
   "id": "542b09fa-850d-4df5-9342-0ade51380155",
   "metadata": {},
   "source": [
    "The example above shows the second utterance and their annotation information in the first corpus ('Bates'), including the words, the speaker and more. To look at child-directed speech (CDS) specifically, we can set the `.utterances()`'s `participants` option to `MOT`:"
   ]
  },
  {
   "cell_type": "code",
   "execution_count": 19,
   "id": "4a37dcdd-95ff-4f19-9b9f-9799b10ece16",
   "metadata": {},
   "outputs": [
    {
     "data": {
      "text/html": [
       "<table>  <tr>\n",
       "    <td>*MOT:</td>\n",
       "    <td style=\"text-align: left\">what's</td>\n",
       "    <td style=\"text-align: left\">CLITIC</td>\n",
       "    <td style=\"text-align: left\">that</td>\n",
       "    <td style=\"text-align: left\">?</td>\n",
       "  </tr>\n",
       "  <tr>\n",
       "    <td>%mor:</td>\n",
       "    <td style=\"text-align: left\">pro:int|what</td>\n",
       "    <td style=\"text-align: left\">cop|be&3S</td>\n",
       "    <td style=\"text-align: left\">pro:dem|that</td>\n",
       "    <td style=\"text-align: left\">?</td>\n",
       "  </tr>\n",
       "  <tr>\n",
       "    <td>%gra:</td>\n",
       "    <td style=\"text-align: left\">1|2|SUBJ</td>\n",
       "    <td style=\"text-align: left\">2|0|ROOT</td>\n",
       "    <td style=\"text-align: left\">3|2|PRED</td>\n",
       "    <td style=\"text-align: left\">4|2|PUNCT</td>\n",
       "  </tr>\n",
       "  <tr>\n",
       "    <td>%act:</td>\n",
       "    <td colspan=\"4\" style=\"text-align: left\">holds object out to Amy</td>\n",
       "  </tr>\n",
       "</table>"
      ],
      "text/plain": [
       "Utterance(participant='MOT', tokens=[Token(word=\"what's\", pos='pro:int', mor='what', gra=Gra(dep=1, head=2, rel='SUBJ')), Token(word='CLITIC', pos='cop', mor='be&3S', gra=Gra(dep=2, head=0, rel='ROOT')), Token(word='that', pos='pro:dem', mor='that', gra=Gra(dep=3, head=2, rel='PRED')), Token(word='?', pos='?', mor='', gra=Gra(dep=4, head=2, rel='PUNCT'))], time_marks=None, tiers={'MOT': \"what's that ?\", '%mor': 'pro:int|what~cop|be&3S pro:dem|that ?', '%gra': '1|2|SUBJ 2|0|ROOT 3|2|PRED 4|2|PUNCT', '%act': 'holds object out to Amy'})"
      ]
     },
     "execution_count": 19,
     "metadata": {},
     "output_type": "execute_result"
    }
   ],
   "source": [
    "reader.utterances(participants='MOT')[0] # first utterance by mother"
   ]
  },
  {
   "cell_type": "markdown",
   "id": "cf5ae966-1f9e-4183-94d4-1f9e60603afb",
   "metadata": {},
   "source": [
    "Next, I will look at how many utterances are there in the data. How many utterances are there in the child speech, and how many in the mother's CDS?"
   ]
  },
  {
   "cell_type": "code",
   "execution_count": 20,
   "id": "311e9851-9ef7-4461-934a-55fc1777d470",
   "metadata": {},
   "outputs": [
    {
     "name": "stdout",
     "output_type": "stream",
     "text": [
      "          Corpus  utt_count_chi  utt_count_mot\n",
      "0          Bates           5572           8579\n",
      "1      Bernstein            167          11160\n",
      "2          Brown          96952          60252\n",
      "3          Clark          18169           1944\n",
      "4      Demetras2           9411           6227\n",
      "5        Gleason          20137          19545\n",
      "6          HSLLD          77528         110117\n",
      "7           Hall          75655          37028\n",
      "8          Hicks           2970              0\n",
      "9         Nelson           4893              8\n",
      "10  NewmanRatner          28934         160717\n",
      "11          Post           8380          20189\n",
      "12     VanHouten           5132           4770\n",
      "\n",
      "Child utterance count: 353900\n",
      "\n",
      "Mother utterance count: 440536\n",
      "\n",
      "Total utterance count: 794436\n",
      "\n",
      "Utterance count percentage: 44.55% by child; 55.45% by mother\n"
     ]
    }
   ],
   "source": [
    "# count tokens in each reader and create a dict\n",
    "n_utt_dict_chi = {c:len(readers[i].utterances(participants='CHI'))\n",
    "                  for i,c in enumerate(search_result)}\n",
    "n_utt_dict_mot = {c:len(readers[i].utterances(participants='MOT'))\n",
    "                  for i,c in enumerate(search_result)}\n",
    "\n",
    "# convert dict to DataFrame\n",
    "utt_by_corpus = pd.DataFrame({'Corpus':n_utt_dict_chi.keys(),\n",
    "                              'utt_count_chi':n_utt_dict_chi.values(),\n",
    "                              'utt_count_mot':n_utt_dict_mot.values()})\n",
    "# basic stats\n",
    "utt_sum_chi = sum(n_utt_dict_chi.values())\n",
    "utt_sum_mot = sum(n_utt_dict_mot.values())\n",
    "utt_sum = utt_sum_chi + utt_sum_mot\n",
    "utt_chi_pc = round (utt_sum_chi/utt_sum*100, 2)  # Child utterance percentage\n",
    "utt_mot_pc = round (utt_sum_mot/utt_sum*100, 2)  # Mother utterance percentage\n",
    "\n",
    "print(utt_by_corpus)\n",
    "print('\\nChild utterance count:', utt_sum_chi)\n",
    "print('\\nMother utterance count:', utt_sum_mot)\n",
    "print('\\nTotal utterance count:', utt_sum)\n",
    "print('\\nUtterance count percentage: {}% by child; {}% by mother'\n",
    "      .format(utt_chi_pc, utt_mot_pc))"
   ]
  },
  {
   "cell_type": "markdown",
   "id": "c12c8b12-6ac9-4180-b952-5ab5f10a6320",
   "metadata": {},
   "source": [
    "## 4.3 Dataset composition\n",
    "\n",
    "Our dataset consists of 13 corpora from different studies, created for different purposes. Let's take a look at some basic information about the dataset composition."
   ]
  },
  {
   "cell_type": "code",
   "execution_count": 21,
   "id": "be724117-3613-4f8d-9a88-67b00df96ab4",
   "metadata": {},
   "outputs": [],
   "source": [
    "# Prepare data for plotting\n",
    "\n",
    "# Re-name participant labels for better presentation\n",
    "participants_ser = data_idx.participants.map(list)  # a series of participant lists\n",
    "for participants in participants_ser:\n",
    "    for idx, role in enumerate(participants):\n",
    "        if role != 'CHI' and role != 'MOT':\n",
    "            participants[idx] = 'Others'\n",
    "    participants.sort()\n",
    "\n",
    "# Remove repeated elements in each entry by converting list to set\n",
    "participants_ser = participants_ser.map(set)\n",
    "\n",
    "# Since .groupby() method doesn't work on set, convert set to string first.\n",
    "# Convert set to string by joining all items in the set\n",
    "participants_ser = participants_ser.map(' + '.join)\n",
    "\n",
    "# Count files by participant role\n",
    "participant_count = participants_ser.groupby(participants_ser).aggregate('count')"
   ]
  },
  {
   "cell_type": "code",
   "execution_count": 22,
   "id": "b197021a-92da-445f-a0a9-5a1856c04e46",
   "metadata": {},
   "outputs": [
    {
     "data": {
      "image/png": "[encoded data removed]",
      "text/plain": [
       "<Figure size 720x864 with 3 Axes>"
      ]
     },
     "metadata": {
      "needs_background": "light"
     },
     "output_type": "display_data"
    }
   ],
   "source": [
    "# Create a figure object\n",
    "\n",
    "# Subplot dimension ratio\n",
    "gs_kw = dict(width_ratios=[1,1.5], height_ratios=[1,4])\n",
    "\n",
    "# Create a figure with 5 axes (i.e. 5 subplots), namely A, B, C, D, E\n",
    "fig, ax = plt.subplot_mosaic([['A','A'],\n",
    "                              ['B','C']],  # Subplot C spans across two grids\n",
    "                              gridspec_kw=gs_kw, figsize=(10,12),\n",
    "                              constrained_layout=True)\n",
    "cmap = plt.cm.YlGn  # color map\n",
    "accent_color = cmap(0.7)\n",
    "\n",
    "# ==============================================================================\n",
    "# Plotting\n",
    "\n",
    "# ------------------------------------------------------------------------------\n",
    "# Plot A\n",
    "ax['A'].hist(data_idx.year, 31, histtype='step', color=accent_color, lw='1.3')\n",
    "\n",
    "# ------------------------------------------------------------------------------\n",
    "# Plot B\n",
    "participant_count = participant_count.sort_values(ascending=False)\n",
    "participant_pc = participant_count/sum(participant_count)*100\n",
    "colors = cmap(np.linspace(0.2, 0.8, len(participant_pc)))\n",
    "\n",
    "curr_sum = 0\n",
    "for i, pc in enumerate(participant_pc):\n",
    "    bottom = curr_sum\n",
    "    ax['B'].bar('x', pc, label=participant_pc.index[i], bottom=bottom,\n",
    "                color=colors[i], edgecolor='w', linewidth=0.5)\n",
    "    curr_sum = curr_sum + pc\n",
    "    if participant_pc.index[i] == '':\n",
    "        label = \"Unspecified ({})\".format(participant_count[i]).upper()\n",
    "    elif pc >= 3:\n",
    "        label = \"{} ({})\".format(participant_pc.index[i],\n",
    "                                 participant_count[i]).upper()\n",
    "    else:\n",
    "        label = ''\n",
    "    label_ypos = curr_sum - (pc/2)\n",
    "    ax['B'].text(0, label_ypos, label, ha=\"center\", va=\"center\")\n",
    "\n",
    "# ------------------------------------------------------------------------------\n",
    "# Plot C\n",
    "tok_by_corpus.sort_values(by='token_count', inplace=True, ascending=True)\n",
    "marker, stem, base = ax['C'].stem(tok_by_corpus.corpus,\n",
    "                                  tok_by_corpus.token_count/10**6,\n",
    "                                  orientation='horizontal', basefmt='none')\n",
    "plt.setp(marker, 'color', accent_color)\n",
    "plt.setp(stem, 'color', accent_color)\n",
    "\n",
    "# ------------------------------------------------------------------------------\n",
    "# Subplot A settings\n",
    "ax['A'].set_xlabel('Year', size=12)\n",
    "ax['A'].set_ylabel('Number of files', size=12)\n",
    "ax['A'].set_ylim([-50,400])\n",
    "ax['A'].spines[['top', 'right']].set_visible(False)\n",
    "ax['A'].grid(axis='both', color='w')\n",
    "ax['A'].set_facecolor('0.9')\n",
    "\n",
    "# Subplot B settings\n",
    "ax['B'].get_xaxis().set_visible(False)\n",
    "ax['B'].set_ylabel('Percentage total, %', size=12)\n",
    "ax['B'].set_ylim([0,100])\n",
    "ax['B'].spines[['top','bottom', 'right']].set_visible(False)\n",
    "ax['B'].text(0, -3, '*Categories <3% not shown', ha=\"center\", va=\"top\", size=12)\n",
    "\n",
    "# Subplot C settings\n",
    "ax['C'].set_xlabel('Token count, million', size=12)\n",
    "# ax['C'].tick_params(axis='x', labelrotation = 45)\n",
    "ax['C'].spines[['top', 'left', 'right']].set_visible(False)\n",
    "ax['C'].set_xlim([0, 1.6])\n",
    "ax['C'].yaxis.set_ticks_position('none') \n",
    "ax['C'].grid(axis='x', color='w')\n",
    "ax['C'].set_facecolor('0.9')\n",
    "\n",
    "# ------------------------------------------------------------------------------\n",
    "# Set figure and subplot titles\n",
    "ax['A'].set_title('\\nA. File count by year of recording\\n',\n",
    "                  loc='left', size=15)\n",
    "ax['B'].set_title('\\nB. File count by participant roles*\\n',\n",
    "                  loc='left', size=15)\n",
    "ax['C'].set_title('\\nC. Corpus size by token count\\n',\n",
    "                  loc='left', size=15)\n",
    "\n",
    "fig.suptitle('Composition of curated data', fontsize=18)\n",
    "\n",
    "# Save figure\n",
    "# plt.savefig('../reports/images/data_composition_unprocessed.svg', bbox_inches='tight', dpi=150)\n",
    "plt.show()"
   ]
  },
  {
   "cell_type": "markdown",
   "id": "5fe28b5d-c476-4578-93b5-4e0cb9392665",
   "metadata": {},
   "source": [
    "## 4.4 Demographics of participants\n",
    "\n",
    "Vocabulary development can be influenced by a participant's background, such as age, sex, SES, mother's education and developmental groups (e.g. typically developing children). Let's look at these factors first to get a better idea of how the demographics looks like and what kinds of information are available in the data for further analysis."
   ]
  },
  {
   "cell_type": "code",
   "execution_count": 23,
   "id": "c3f676bf-5942-46de-8cfe-2fe6e2acb9c0",
   "metadata": {},
   "outputs": [
    {
     "data": {
      "image/png": "[encoded data removed]",
      "text/plain": [
       "<Figure size 720x1008 with 5 Axes>"
      ]
     },
     "metadata": {
      "needs_background": "light"
     },
     "output_type": "display_data"
    }
   ],
   "source": [
    "# Data for plotting\n",
    "# Count files by 'sex', 'ses', 'mot_edu' or 'group'\n",
    "\n",
    "sex_count = data_idx.groupby('sex').aggregate('count').file_path\n",
    "ses_count = data_idx.groupby('ses').aggregate('count').file_path\n",
    "mot_edu_count = data_idx.groupby('mot_edu').aggregate('count').file_path\n",
    "group_count = data_idx.groupby('group').aggregate('count').file_path\n",
    "\n",
    "# ==============================================================================\n",
    "# Create a figure object\n",
    "\n",
    "# Subplot dimension ratio\n",
    "gs_kw = dict(width_ratios=[1,1,1], height_ratios=[1,4])\n",
    "\n",
    "# Create a figure with 5 axes (i.e. 5 subplots), namely A, B, C, D, E\n",
    "fig, ax = plt.subplot_mosaic([['A', 'A', 'B'],  # Subplot A spans across two grids\n",
    "                              ['C', 'D', 'E']],\n",
    "                              gridspec_kw=gs_kw, figsize=(10,14),\n",
    "                              constrained_layout=True)\n",
    "cmap = plt.cm.YlGn  # color map\n",
    "accent_color = cmap(0.7)\n",
    "\n",
    "# ==============================================================================\n",
    "# Plotting\n",
    "\n",
    "# ------------------------------------------------------------------------------\n",
    "# Plot A\n",
    "ax['A'].hist(data_idx.age_m, 72, histtype='step', color=accent_color, lw=1.3)\n",
    "\n",
    "# ------------------------------------------------------------------------------\n",
    "# Plot B to E\n",
    "\n",
    "def plot_stack(ax_idx, data, colors, thres=0):\n",
    "    data = data.sort_values(ascending=False)  # sort by count\n",
    "    data_pc = data/sum(data)*100  # get percentage from count\n",
    "    curr_sum = 0  # percentage sum (required for stacking bars)\n",
    "    for i, pc in enumerate(data_pc):\n",
    "        ax[ax_idx].bar('x', pc, label=data_pc.index[i], bottom=curr_sum,\n",
    "                       color=colors[i], edgecolor='w', linewidth=1)\n",
    "        curr_sum = curr_sum + pc  # for stacking bars  \n",
    "        # make label\n",
    "        if data.index[i] == '':\n",
    "            label = \"Unspecified ({})\".format(data[i]).upper()\n",
    "        elif pc >= thres:\n",
    "            label = \"{} ({})\".format(data.index[i], data[i]).upper()\n",
    "        else: label = ''\n",
    "        label_ypos = curr_sum - (pc/2)\n",
    "        ax[ax_idx].text(0, label_ypos, label, ha=\"center\", va=\"center\")\n",
    "\n",
    "for k, v in {'B':sex_count, 'C':ses_count, \n",
    "             'D':mot_edu_count, 'E':group_count}.items():\n",
    "    thres = 1\n",
    "    colors = cmap(np.linspace(0.2, 0.8, len(v)))\n",
    "    if k == 'B':\n",
    "        thres = 0\n",
    "        colors = cmap(np.linspace(0.2, 0.5, len(v)))\n",
    "    elif k == 'D':\n",
    "        thres = 2                    \n",
    "    plot_stack(k, v, colors, thres)\n",
    "\n",
    "# ==============================================================================\n",
    "# Formatting\n",
    "\n",
    "# ------------------------------------------------------------------------------\n",
    "# Subplot A settings\n",
    "ax['A'].set_xlabel('Age (months)', size=12)\n",
    "ax['A'].set_ylabel('Number of files', size=12)\n",
    "ax['A'].set_ylim([-10,250])\n",
    "ax['A'].spines[['top', 'right']].set_visible(False)\n",
    "ax['A'].grid(axis='both', color='w')\n",
    "ax['A'].set_facecolor('0.9')\n",
    "\n",
    "# ------------------------------------------------------------------------------\n",
    "# Subplot B-E settings\n",
    "for i in ['B','C','D','E']:\n",
    "    ax[i].get_xaxis().set_visible(False)\n",
    "    ax[i].set_ylabel('Percentage total, %', size=12)\n",
    "    ax[i].set_ylim([0,100])\n",
    "    ax[i].spines[['top','bottom', 'right']].set_visible(False)\n",
    "    if i in ['C','E']:\n",
    "        ax[i].text(0,-2,'*Categories <1% not shown',ha=\"center\", va=\"top\", size=12)\n",
    "    if i in ['B','D','E']:\n",
    "        ax[i].get_yaxis().set_visible(False)\n",
    "        ax[i].get_yaxis().set_visible(False)\n",
    "        ax[i].spines['left'].set_visible(False)        \n",
    "ax['D'].text(0,-2,'*Categories <2% not shown', ha=\"center\", va=\"top\", size=12)\n",
    "\n",
    "# ------------------------------------------------------------------------------\n",
    "# Set subplot titles\n",
    "ax['A'].set_title('\\nA. Age\\n', loc = 'left', size=15)\n",
    "ax['B'].set_title('\\nB. Sex\\n', loc = 'left', size=15)\n",
    "ax['C'].set_title('\\nC. Socioeconomic status*\\n', loc = 'left', size=15)\n",
    "ax['D'].set_title('\\nD. Mother\\'s education*\\n', loc = 'left', size=15)\n",
    "ax['E'].set_title('\\nE. Group*\\n', loc = 'left', size=15)\n",
    "\n",
    "# Set figure title\n",
    "fig.suptitle('Demographics of child participants\\n(Note: some children have multiple files)', fontsize=18)\n",
    "\n",
    "# Save figure\n",
    "# plt.savefig('../reports/images/child_demgph_unprocessed.svg', bbox_inches='tight', dpi=150)\n",
    "plt.show()"
   ]
  },
  {
   "cell_type": "markdown",
   "id": "96411dc7-82f5-45a1-b1ab-0ed9edb0e624",
   "metadata": {},
   "source": [
    "We are only interested in mother's CDS. Are there participants other than the child and their mother?"
   ]
  },
  {
   "cell_type": "markdown",
   "id": "8262a748-18ef-4bfe-b532-3ec1ae80e7fb",
   "metadata": {},
   "source": [
    "As shown above in the participant demographics, different corpora use different sets of labels and definitions for the same variable (e.g. mother's education). Besides, there are files that we don't need (e.g. children in groups other than typically development). Therefore, the dataset curated in this notebook needs to be cleaned a bit before further processing! "
   ]
  },
  {
   "cell_type": "markdown",
   "id": "e3152a07-b23c-4204-89e6-f20c1b191b97",
   "metadata": {},
   "source": [
    "---\n",
    "\n",
    "# Pickling data\n",
    "\n",
    "`data_idx` generated from this notebook will be pickled for further data processing and analysis later. The list of corpora identified in this notebook, `search_result`, will also be pickled for easier re-run of the notebook if needed. "
   ]
  },
  {
   "cell_type": "code",
   "execution_count": 3,
   "id": "5780e286-db36-4278-bb42-38e0cef73e0a",
   "metadata": {},
   "outputs": [],
   "source": [
    "f1 = open('../data/childes/data_idx_unprocessed.pkl', 'wb')\n",
    "pickle.dump(data_idx, f1, -1)\n",
    "f1.close()\n",
    "\n",
    "f2 = open('../data/childes/search_result.pkl', 'wb')\n",
    "pickle.dump(search_result, f2, -1)\n",
    "f2.close()"
   ]
  }
 ],
 "metadata": {
  "kernelspec": {
   "display_name": "Python 3 (ipykernel)",
   "language": "python",
   "name": "python3"
  },
  "language_info": {
   "codemirror_mode": {
    "name": "ipython",
    "version": 3
   },
   "file_extension": ".py",
   "mimetype": "text/x-python",
   "name": "python",
   "nbconvert_exporter": "python",
   "pygments_lexer": "ipython3",
   "version": "3.9.7"
  }
 },
 "nbformat": 4,
 "nbformat_minor": 5
}
