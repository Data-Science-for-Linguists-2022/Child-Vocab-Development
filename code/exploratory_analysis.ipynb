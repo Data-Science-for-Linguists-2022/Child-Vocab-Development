{
 "cells": [
  {
   "cell_type": "markdown",
   "id": "f5667147-d4cd-478a-a4a2-84c179f350f9",
   "metadata": {},
   "source": [
    "# Exploratory Analysis\n",
    "\n",
    "Man Ho Wong, University of Pittsburgh | April 23, 2022\n",
    "\n",
    "*Jupyter notebooks are not always rendered properly on Github. Please [view this notebook here on nbviewer](https://nbviewer.org/github/Data-Science-for-Linguists-2022/Child-Vocab-Development/blob/main/code/exploratory_analysis.ipynb) if that happens.*\n",
    "\n",
    "##### Script header"
   ]
  },
  {
   "cell_type": "code",
   "execution_count": 1,
   "id": "2c724a13-8313-43bd-a208-44b4a4b1de8f",
   "metadata": {},
   "outputs": [],
   "source": [
    "# Python packages and modules required\n",
    "from collections import Counter\n",
    "from heapq import nlargest\n",
    "import matplotlib.pyplot as plt\n",
    "import numpy as np\n",
    "import pandas as pd\n",
    "import pickle\n",
    "import pprint                          # For pretty printing\n",
    "import pylangacq                       # For reading CHAT files\n",
    "from wordcloud import WordCloud as wc\n",
    "\n",
    "# For showing progress bar (optional)\n",
    "#   This is useful for estimating the efficiency of the code.\n",
    "from tqdm import tqdm\n",
    "\n",
    "# Unpickle data\n",
    "data_idx = pickle.load(open('../data/childes/data_idx_processed.pkl', 'rb'))\n",
    "\n",
    "# Pretty printing for better readability\n",
    "# With this, you can print dict in compact format instead of one item\n",
    "#   per line. Items will be in alphabetical order. Nested Dict will be printed \n",
    "#   with suitable indentation. It will also print Counter in descending order.\n",
    "#   To use this, call cp.pprint()\n",
    "cp = pprint.PrettyPrinter(compact=True, sort_dicts=True)\n",
    "\n",
    "# Function to get all labels of a given variable (e.g. 'mot_edu')\n",
    "def get_labels(var):\n",
    "    labels_by_corpus = {}\n",
    "    corpus_set = set(data_idx.corpus)\n",
    "    for c in corpus_set:\n",
    "        labels_by_corpus[c] = set(data_idx[var][data_idx.corpus==c])\n",
    "    return labels_by_corpus"
   ]
  },
  {
   "cell_type": "markdown",
   "id": "9babe55b-0236-4c5e-b9b2-c44832ebaafb",
   "metadata": {},
   "source": [
    "---\n",
    "\n",
    "# 1 Overview\n",
    "\n",
    "> Data processing pipeline:  \n",
    ">[`data_curation.ipynb`](https://github.com/Data-Science-for-Linguists-2022/Child-Vocab-Development/blob/main/code/data_curation.ipynb)  \n",
    ">[`data_preprocessing.ipynb`](https://github.com/Data-Science-for-Linguists-2022/Child-Vocab-Development/blob/main/code/data_preprocessing.ipynb)    \n",
    ">`exploratory_analysis.ipynb`  <-- You are here  \n",
    ">[`vocabulary_analysis.ipynb`](https://github.com/Data-Science-for-Linguists-2022/Child-Vocab-Development/blob/main/code/vocabulary_analysis.ipynb)\n",
    "\n",
    "This notebook is the third step of the data processing and analysis pipeline of the project. The goal here is to explore what kinds of analysis can be done with the data processed by [`data_preprocessing.ipynb`](https://github.com/Data-Science-for-Linguists-2022/Child-Vocab-Development/blob/main/code/data_preprocessing.ipynb), and whether further data cleaning is needed. Specifically, I will evaluate the following linguistic measurements commonly used in the assessment of child language development:\n",
    "   - Mean length of utterance (MLU)\n",
    "   - Type-to-token ratio (TTR)\n",
    "   - Part-of-speech ratio such as noun-to-verb ratio (NTVR)\n",
    "   - Word frequency\n",
    "   - Variation set\n",
    "\n",
    "## 1.1 Objectives\n",
    "\n",
    "Here are the objectives of this notebook:\n",
    "1. Identify the tools available for the above linguistic measurements:\n",
    "    - Assess the tools available in the `PyLangAcq` package and identify their limitations\n",
    "    - Develop custom functions specifically designed for this project\n",
    "    - Demonstrate data analysis with the identified tools\n",
    "2. Evaluate whether the data is adequate for the above linguistic measurements:\n",
    "    - Is the sample size sufficient?\n",
    "    - Is the sample distribution balanced so that fair comparison between different groups can be made?\n",
    "3. Look for interesting observations in the data:\n",
    "    - What is the age range of participants best suited for the above linguistic measurements?\n",
    "    - What are the factors (e.g. socioeconomic status, SES) that should be further investigated in the next step?\n",
    "\n",
    "### Table of contents\n",
    "\n",
    "1. Overview\n",
    "    - 1.1 Objectives\n",
    "    - 1.2 Quick recap\n",
    "    - 1.3 Efficiency and analysis steps\n",
    "\n",
    "2. Mean length of utterance (MLU)\n",
    "    - 2.1 \n",
    "    - 2.2\n",
    "3. \n"
   ]
  },
  {
   "cell_type": "markdown",
   "id": "ff1ea7b4-e80d-4835-a2f8-68a819bd7e09",
   "metadata": {},
   "source": [
    "## 1.2 Quick recap\n",
    "\n",
    "The DataFrame `data_idx` contains basic information about each CHAT file and it serves as an index for reading the CHAT files. Before analysis, the target CHAT file(s) should be first read into a `PyLangAcq` `reader` object. Depending on the type of analysis, one CHAT file or multiple CHAT files (e.g. all files from a group) can be read into a `reader` object. Users can then access the data stored in the `reader` by calling relevant methods and attributes."
   ]
  },
  {
   "cell_type": "code",
   "execution_count": 2,
   "id": "8b455210-1d8f-48d5-8275-b37987324022",
   "metadata": {},
   "outputs": [
    {
     "data": {
      "text/html": [
       "<div>\n",
       "<style scoped>\n",
       "    .dataframe tbody tr th:only-of-type {\n",
       "        vertical-align: middle;\n",
       "    }\n",
       "\n",
       "    .dataframe tbody tr th {\n",
       "        vertical-align: top;\n",
       "    }\n",
       "\n",
       "    .dataframe thead th {\n",
       "        text-align: right;\n",
       "    }\n",
       "</style>\n",
       "<table border=\"1\" class=\"dataframe\">\n",
       "  <thead>\n",
       "    <tr style=\"text-align: right;\">\n",
       "      <th></th>\n",
       "      <th>file_path</th>\n",
       "      <th>corpus</th>\n",
       "      <th>year</th>\n",
       "      <th>participants</th>\n",
       "      <th>name</th>\n",
       "      <th>child_id</th>\n",
       "      <th>age_d</th>\n",
       "      <th>age_m</th>\n",
       "      <th>sex</th>\n",
       "      <th>group</th>\n",
       "      <th>ses</th>\n",
       "      <th>mot_edu</th>\n",
       "      <th>situation</th>\n",
       "      <th>activities</th>\n",
       "      <th>study_type</th>\n",
       "    </tr>\n",
       "  </thead>\n",
       "  <tbody>\n",
       "    <tr>\n",
       "      <th>0</th>\n",
       "      <td>../data/childes/Bates/Free20/amy.cha</td>\n",
       "      <td>Bates</td>\n",
       "      <td>NaN</td>\n",
       "      <td>{MOT, CHI}</td>\n",
       "      <td>Target_Child</td>\n",
       "      <td>Bates_Target_Child</td>\n",
       "      <td>600</td>\n",
       "      <td>20.0</td>\n",
       "      <td>female</td>\n",
       "      <td>TD</td>\n",
       "      <td>MC</td>\n",
       "      <td>unspecified</td>\n",
       "      <td>unspecified</td>\n",
       "      <td>unspecified</td>\n",
       "      <td>cross, toyplay, TD</td>\n",
       "    </tr>\n",
       "    <tr>\n",
       "      <th>1</th>\n",
       "      <td>../data/childes/Bates/Free20/betty.cha</td>\n",
       "      <td>Bates</td>\n",
       "      <td>NaN</td>\n",
       "      <td>{MOT, CHI}</td>\n",
       "      <td>Betty</td>\n",
       "      <td>Bates_Betty</td>\n",
       "      <td>600</td>\n",
       "      <td>20.0</td>\n",
       "      <td>female</td>\n",
       "      <td>TD</td>\n",
       "      <td>MC</td>\n",
       "      <td>unspecified</td>\n",
       "      <td>unspecified</td>\n",
       "      <td>unspecified</td>\n",
       "      <td>cross, toyplay, TD</td>\n",
       "    </tr>\n",
       "    <tr>\n",
       "      <th>2</th>\n",
       "      <td>../data/childes/Bates/Free20/chuck.cha</td>\n",
       "      <td>Bates</td>\n",
       "      <td>NaN</td>\n",
       "      <td>{MOT, CHI}</td>\n",
       "      <td>Chuck</td>\n",
       "      <td>Bates_Chuck</td>\n",
       "      <td>600</td>\n",
       "      <td>20.0</td>\n",
       "      <td>male</td>\n",
       "      <td>TD</td>\n",
       "      <td>MC</td>\n",
       "      <td>unspecified</td>\n",
       "      <td>unspecified</td>\n",
       "      <td>unspecified</td>\n",
       "      <td>cross, toyplay, TD</td>\n",
       "    </tr>\n",
       "    <tr>\n",
       "      <th>3</th>\n",
       "      <td>../data/childes/Bates/Free20/doug.cha</td>\n",
       "      <td>Bates</td>\n",
       "      <td>NaN</td>\n",
       "      <td>{MOT, CHI}</td>\n",
       "      <td>Doug</td>\n",
       "      <td>Bates_Doug</td>\n",
       "      <td>600</td>\n",
       "      <td>20.0</td>\n",
       "      <td>male</td>\n",
       "      <td>TD</td>\n",
       "      <td>MC</td>\n",
       "      <td>unspecified</td>\n",
       "      <td>unspecified</td>\n",
       "      <td>unspecified</td>\n",
       "      <td>cross, toyplay, TD</td>\n",
       "    </tr>\n",
       "    <tr>\n",
       "      <th>4</th>\n",
       "      <td>../data/childes/Bates/Free20/ed.cha</td>\n",
       "      <td>Bates</td>\n",
       "      <td>NaN</td>\n",
       "      <td>{MOT, CHI}</td>\n",
       "      <td>Ed</td>\n",
       "      <td>Bates_Ed</td>\n",
       "      <td>600</td>\n",
       "      <td>20.0</td>\n",
       "      <td>male</td>\n",
       "      <td>TD</td>\n",
       "      <td>MC</td>\n",
       "      <td>unspecified</td>\n",
       "      <td>unspecified</td>\n",
       "      <td>unspecified</td>\n",
       "      <td>cross, toyplay, TD</td>\n",
       "    </tr>\n",
       "  </tbody>\n",
       "</table>\n",
       "</div>"
      ],
      "text/plain": [
       "                                file_path corpus  year participants  \\\n",
       "0    ../data/childes/Bates/Free20/amy.cha  Bates   NaN   {MOT, CHI}   \n",
       "1  ../data/childes/Bates/Free20/betty.cha  Bates   NaN   {MOT, CHI}   \n",
       "2  ../data/childes/Bates/Free20/chuck.cha  Bates   NaN   {MOT, CHI}   \n",
       "3   ../data/childes/Bates/Free20/doug.cha  Bates   NaN   {MOT, CHI}   \n",
       "4     ../data/childes/Bates/Free20/ed.cha  Bates   NaN   {MOT, CHI}   \n",
       "\n",
       "           name            child_id  age_d  age_m     sex group ses  \\\n",
       "0  Target_Child  Bates_Target_Child    600   20.0  female    TD  MC   \n",
       "1         Betty         Bates_Betty    600   20.0  female    TD  MC   \n",
       "2         Chuck         Bates_Chuck    600   20.0    male    TD  MC   \n",
       "3          Doug          Bates_Doug    600   20.0    male    TD  MC   \n",
       "4            Ed            Bates_Ed    600   20.0    male    TD  MC   \n",
       "\n",
       "       mot_edu    situation   activities          study_type  \n",
       "0  unspecified  unspecified  unspecified  cross, toyplay, TD  \n",
       "1  unspecified  unspecified  unspecified  cross, toyplay, TD  \n",
       "2  unspecified  unspecified  unspecified  cross, toyplay, TD  \n",
       "3  unspecified  unspecified  unspecified  cross, toyplay, TD  \n",
       "4  unspecified  unspecified  unspecified  cross, toyplay, TD  "
      ]
     },
     "execution_count": 2,
     "metadata": {},
     "output_type": "execute_result"
    }
   ],
   "source": [
    "data_idx.head()"
   ]
  },
  {
   "cell_type": "markdown",
   "id": "7ac69f7f-34c2-4497-a7d1-0c9fd044167d",
   "metadata": {},
   "source": [
    "## 1.3 Efficiency and analysis steps\n",
    "\n",
    "For this project, most of the linguistic analyses do not take too much time and resources. The process that has relatively high computational cost is actually the reading of CHAT files into a `reader` object. Since one CHAT file could contain a large amount of data (e.g., participant age, utterances, tokens, annotation, etc.), reading all CHAT files in the dataset at once would create a giant `reader` object which not only has a high memory usage, but it's also very inconvenient to manipulate (e.g., indexing and slicing with loops). Besides, not all CHAT files will be used in every single analysis. Therefore, instead of reading all CHAT files at once, I will only read the files I need for each linguistic analysis. Although some files may need to be read again for the next analysis, I will only need to handle smaller `reader` object(s) each time and this is more efficient overall.\n",
    "\n",
    "Below are the general steps for analysis:\n",
    "1. Select the CHAT files needed for the analysis from `data_idx`\n",
    "2. Read the needed CHAT files into `reader`\n",
    "3. Perform the analysis"
   ]
  },
  {
   "cell_type": "markdown",
   "id": "8f5bafaf-0f4d-4091-a58b-6263213adc06",
   "metadata": {
    "tags": []
   },
   "source": [
    "---\n",
    "\n",
    "# 1 Mean length of utterance (MLU)\n",
    "\n",
    "A common way to measure a child's linguistic productivity is to look at the child's mean length of utterance (MLU). It can be measured by morphemes (MLU-m) or by words (MLU-w). Let's take a look at an example, 'Adam' from the Brown corpus:"
   ]
  },
  {
   "cell_type": "code",
   "execution_count": 4,
   "id": "31d6e720-d40b-4d05-acc0-3da298da73af",
   "metadata": {},
   "outputs": [],
   "source": [
    "# Read 'Adam' in Brown corpus into a reader object\n",
    "path = '../data/data_samples/Brown.zip'\n",
    "adam = pylangacq.Reader.from_zip(path, 'Adam')"
   ]
  },
  {
   "cell_type": "code",
   "execution_count": 9,
   "id": "33b699b1-e48d-438d-bb06-2689b01c52fc",
   "metadata": {},
   "outputs": [
    {
     "data": {
      "text/html": [
       "<table>  <tr>\n",
       "    <td>*CHI:</td>\n",
       "    <td style=\"text-align: left\">don't</td>\n",
       "    <td style=\"text-align: left\">CLITIC</td>\n",
       "    <td style=\"text-align: left\">dog</td>\n",
       "    <td style=\"text-align: left\">.</td>\n",
       "  </tr>\n",
       "  <tr>\n",
       "    <td>%mor:</td>\n",
       "    <td style=\"text-align: left\">mod|do</td>\n",
       "    <td style=\"text-align: left\">neg|not</td>\n",
       "    <td style=\"text-align: left\">v|dog</td>\n",
       "    <td style=\"text-align: left\">.</td>\n",
       "  </tr>\n",
       "  <tr>\n",
       "    <td>%gra:</td>\n",
       "    <td style=\"text-align: left\">1|3|AUX</td>\n",
       "    <td style=\"text-align: left\">2|1|NEG</td>\n",
       "    <td style=\"text-align: left\">3|0|ROOT</td>\n",
       "    <td style=\"text-align: left\">4|3|PUNCT</td>\n",
       "  </tr>\n",
       "  <tr>\n",
       "    <td>%com:</td>\n",
       "    <td colspan=\"4\" style=\"text-align: left\">Adam repeated these utterances several times</td>\n",
       "  </tr>\n",
       "</table>"
      ],
      "text/plain": [
       "Utterance(participant='CHI', tokens=[Token(word=\"don't\", pos='mod', mor='do', gra=Gra(dep=1, head=3, rel='AUX')), Token(word='CLITIC', pos='neg', mor='not', gra=Gra(dep=2, head=1, rel='NEG')), Token(word='dog', pos='v', mor='dog', gra=Gra(dep=3, head=0, rel='ROOT')), Token(word='.', pos='.', mor='', gra=Gra(dep=4, head=3, rel='PUNCT'))], time_marks=None, tiers={'CHI': \"don't dog .\", '%mor': 'mod|do~neg|not v|dog .', '%gra': '1|3|AUX 2|1|NEG 3|0|ROOT 4|3|PUNCT', '%com': 'Adam repeated these utterances several times'})"
      ]
     },
     "execution_count": 9,
     "metadata": {},
     "output_type": "execute_result"
    }
   ],
   "source": [
    "# get 2nd utterance of 4th file in 'adam'\n",
    "adam[5].utterances()[1]"
   ]
  },
  {
   "cell_type": "markdown",
   "id": "58232e1e-5b95-4773-95c9-8caee0f9b434",
   "metadata": {},
   "source": [
    "## 1.1 Using `PyLangAcq` to get MLU\n",
    "\n",
    "In the above utterance, \"Don't dog.\", there are two words (\"don't\" and \"dog\") but three morphemes (\"do\", \"not\", \"dog\"), so the length of utterance by words and by morphemes would be 2 and 3 respectively. To get Adam's MLU-w or MLU-m, you can measure the length of each utterance in  `adam` and then calculate the average length for all utterances. `PyLangAcq` has two functions which you can use to get the MLU easily:"
   ]
  },
  {
   "cell_type": "code",
   "execution_count": 4,
   "id": "50dbbc43-4293-42c0-aca2-a0a870c373ef",
   "metadata": {},
   "outputs": [
    {
     "name": "stdout",
     "output_type": "stream",
     "text": [
      "MLU-w: [2.2562874251497007]\n",
      "MLU-m: [3.1988023952095808]\n"
     ]
    }
   ],
   "source": [
    "# print MLU of 4th file in 'adam'\n",
    "print('MLU-w:', adam[5].mluw())\n",
    "print('MLU-m:', adam[5].mlum())"
   ]
  },
  {
   "cell_type": "markdown",
   "id": "28389644-3c23-4cb2-99b3-a605af991076",
   "metadata": {},
   "source": [
    "These functions are very helpful for getting a sense of how your data looks like, but there are a few limitations that make them unsuited for some studies. For example, these functions count the punctuation period (.) as a word or empty string (e.g., the annotation for the punctuation period; some corpora also annotate gestures or actions) as a morpheme. Consequently, utterances with no words but just punctuation would be included in the calculation of the mean. Besides, the `PyLangAcq` functions only return average values: you cannot get the distribution of utterance length, nor the median length (MdLU) or other MLU variants such as MLU5-w (mean length of five longest utterances by words)."
   ]
  },
  {
   "cell_type": "markdown",
   "id": "904f869e-ed7f-4263-8b59-bedf01384a8b",
   "metadata": {},
   "source": [
    "## 1.2 Custom functions to get MLU-w and MLU-m\n",
    "\n",
    "To overcome the limitations of `PyLangAcq` functions, I will use my custom functions in the analysis. These functions are not declared here in this notebook but in a separate `.py` file, because they will also be called in other notebooks as well. The functions are stored in [`./etc/pittchat.py`](https://github.com/Data-Science-for-Linguists-2022/Child-Vocab-Development/blob/main/code/etc/pittchat.py):"
   ]
  },
  {
   "cell_type": "code",
   "execution_count": 5,
   "id": "85a8f841-a214-41cb-a09a-52ab49c80ab8",
   "metadata": {},
   "outputs": [],
   "source": [
    "from etc.pittchat import utt_len_w as utt_len_w\n",
    "from etc.pittchat import utt_len_m as utt_len_m"
   ]
  },
  {
   "cell_type": "markdown",
   "id": "f683fcd7-c179-452b-8166-4997a08013c9",
   "metadata": {},
   "source": [
    "Usage examples:"
   ]
  },
  {
   "cell_type": "code",
   "execution_count": 8,
   "id": "8ed0242e-51bd-430f-87d9-5c62bd8216b2",
   "metadata": {},
   "outputs": [
    {
     "name": "stdout",
     "output_type": "stream",
     "text": [
      "Length of first 10 utterances by words:     [6, 2, 5, 1, 2, 2, 3, 1, 2, 2]\n",
      "Length of first 10 utterances by morphemes: [6, 3, 5, 1, 2, 2, 2, 1, 1, 2]\n",
      "MLU-w: 2.258992805755396\n",
      "MLU-m: 2.276155717761557\n",
      "MdLU-w: 2.0\n",
      "MLU5-m: 9.4\n"
     ]
    }
   ],
   "source": [
    "POS_IGNORE = [\"n:prop\"]  # POS of tokens to be ignored (e.g. proper noun)\n",
    "\n",
    "LUw_list = utt_len_w(adam[5])\n",
    "LUm_list = utt_len_m(adam[5], ignore=POS_IGNORE)\n",
    "\n",
    "print('Length of first 10 utterances by words:    ', LUw_list[0:10])\n",
    "print('Length of first 10 utterances by morphemes:', LUm_list[0:10])\n",
    "\n",
    "print('MLU-w:', np.mean(LUw_list))\n",
    "print('MLU-m:', np.mean(LUm_list))\n",
    "print('MdLU-w:', np.median(LUw_list))\n",
    "\n",
    "print('MLU5-m:', np.mean(nlargest(5, LUm_list)))"
   ]
  },
  {
   "cell_type": "markdown",
   "id": "fd0bc407-0a26-4378-9771-a69e75d3b501",
   "metadata": {},
   "source": [
    "Documentation can be found in the function's docstring. For example:"
   ]
  },
  {
   "cell_type": "code",
   "execution_count": 7,
   "id": "db13677f-f17c-43af-86ed-a14e86e014e5",
   "metadata": {},
   "outputs": [
    {
     "data": {
      "text/plain": [
       "\u001b[1;31mSignature:\u001b[0m  \u001b[0mutt_len_w\u001b[0m\u001b[1;33m(\u001b[0m\u001b[0mf_reader\u001b[0m\u001b[1;33m,\u001b[0m \u001b[0mparticipants\u001b[0m\u001b[1;33m=\u001b[0m\u001b[1;34m'CHI'\u001b[0m\u001b[1;33m,\u001b[0m \u001b[0mignore\u001b[0m\u001b[1;33m=\u001b[0m\u001b[1;33m[\u001b[0m\u001b[1;33m]\u001b[0m\u001b[1;33m)\u001b[0m \u001b[1;33m->\u001b[0m \u001b[0mList\u001b[0m\u001b[1;33m[\u001b[0m\u001b[0mfloat\u001b[0m\u001b[1;33m]\u001b[0m\u001b[1;33m\u001b[0m\u001b[1;33m\u001b[0m\u001b[0m\n",
       "\u001b[1;31mDocstring:\u001b[0m\n",
       "Get a list of utterance length by words (MLU-w) for all the utterances\n",
       "in the file_reader. \n",
       "\n",
       "Parameters\n",
       "f_reader : pylangacq.Reader object\n",
       "           A pylangacq reader object of *one* CHAT file, or a reader of a\n",
       "           collection of CHAT files indexed to *one* CHAT file.\n",
       "participants : str or list[str], optional, default 'CHI' \n",
       "               The participant(s) whose tokens will be extracted from.\n",
       "ignore : str or list[str], optional, default []\n",
       "         The words to be ignored.\n",
       "\n",
       "Returns\n",
       "List[float] or 0 if no utterance found\n",
       "\n",
       "Remarks\n",
       "- WORDS_TO_IGNORE (basic list of words to be ignored) is the same as in\n",
       "  pylangacq.Reader.mluw .\n",
       "\u001b[1;31mFile:\u001b[0m      d:\\manho\\documents\\data_science\\child-vocab-development\\code\\etc\\pittchat.py\n",
       "\u001b[1;31mType:\u001b[0m      function\n"
      ]
     },
     "metadata": {},
     "output_type": "display_data"
    }
   ],
   "source": [
    "? utt_len_w"
   ]
  },
  {
   "cell_type": "markdown",
   "id": "8c8a4138-5b2c-40c9-8c02-a55e31c0434c",
   "metadata": {},
   "source": [
    "## 1.3 Comparing MLU-m between childen of different SES\n",
    "\n",
    "I will first try to compare the MLU-m between children of different SES (upper class UC, middle class MC and working class WC). Let's read the needed CHAT files first:"
   ]
  },
  {
   "cell_type": "code",
   "execution_count": 135,
   "id": "8662f0b2-6016-48ee-9af6-d06276bee3f0",
   "metadata": {},
   "outputs": [
    {
     "name": "stdout",
     "output_type": "stream",
     "text": [
      "Reading CHAT files...\n"
     ]
    },
    {
     "name": "stderr",
     "output_type": "stream",
     "text": [
      "100%|████████████████████████████████████████████████████████████████████████████████████| 3/3 [01:42<00:00, 34.30s/it]"
     ]
    },
    {
     "name": "stdout",
     "output_type": "stream",
     "text": [
      "Done!\n"
     ]
    },
    {
     "name": "stderr",
     "output_type": "stream",
     "text": [
      "\n"
     ]
    }
   ],
   "source": [
    "ses_list = ['UC', 'MC', 'WC']\n",
    "paths = {}\n",
    "readers = {}\n",
    "\n",
    "# read CHAT files into separate readers according to SES \n",
    "print('Reading CHAT files...')\n",
    "for s in tqdm(ses_list):\n",
    "    paths[s] = data_idx[data_idx.ses == s].file_path\n",
    "    readers[s] = pylangacq.Reader.from_files(paths[s])\n",
    "\n",
    "print('Done!')"
   ]
  },
  {
   "cell_type": "markdown",
   "id": "892dc2aa-8937-43cc-b2cd-45e5aa6320ac",
   "metadata": {},
   "source": [
    "Next, I will get a list of utterance length (by morphemes) of each utterance in each file and the child age of corresponding files:"
   ]
  },
  {
   "cell_type": "code",
   "execution_count": 136,
   "id": "902e0ad2-6829-46fa-9272-61fffcb1f091",
   "metadata": {},
   "outputs": [],
   "source": [
    "# Create DataFrames first\n",
    "LUm_list = pd.DataFrame(columns=ses_list)  # List of utterance length (morpheme)\n",
    "age_list = pd.DataFrame(columns=ses_list)  # List of child age\n",
    "\n",
    "# Custom function to convert age in ymd format to age in months\n",
    "from etc.pittchat import get_age_m as get_age_m\n",
    "\n",
    "# For each SES group, get utterance length and child age of each file\n",
    "for s in ses_list:\n",
    "    for i,f in enumerate(readers[s]):  # f = one CHAT file\n",
    "        LUm_list.loc[i,s] = utt_len_m(f)\n",
    "        age_list.loc[i,s] = get_age_m(f.ages()[0])\n",
    "\n",
    "# List of MLU-m for all files\n",
    "MLUm_list = LUm_list.applymap(lambda x: np.mean(x) if (x != np.nan) else x)"
   ]
  },
  {
   "cell_type": "markdown",
   "id": "92502af2-14af-4e3e-9541-dc38410614db",
   "metadata": {},
   "source": [
    "Visualizing the data for easier assessment:"
   ]
  },
  {
   "cell_type": "code",
   "execution_count": 137,
   "id": "92173c8f-71b6-4698-bfe6-fb933a4f3795",
   "metadata": {},
   "outputs": [
    {
     "data": {
      "image/png": "[encoded data removed]",
      "text/plain": [
       "<Figure size 720x360 with 1 Axes>"
      ]
     },
     "metadata": {},
     "output_type": "display_data"
    }
   ],
   "source": [
    "plt.figure(figsize=(10,5), facecolor='w')\n",
    "cmap = {'UC':'darkorange', 'MC':'k', 'WC':'g'}  # color map\n",
    "\n",
    "# Scatter plot\n",
    "for s in ses_list:\n",
    "    plt.scatter(age_list[s], MLUm_list[s], facecolors=cmap[s], edgecolors='.3')\n",
    "\n",
    "# Formatting\n",
    "plt.xlabel('Age (Month)')\n",
    "plt.ylabel('MLU by morphemes (MLU-m)')\n",
    "plt.legend(ses_list, title='SES', edgecolor='k', loc='upper left')\n",
    "plt.title('Mean Length of Utterance (MLU-m)\\nby Socioeconomic Status (SES)')\n",
    "plt.show()"
   ]
  },
  {
   "cell_type": "markdown",
   "id": "30b4a20e-dd9a-4cba-be09-093cc529ae53",
   "metadata": {},
   "source": [
    "### Sample distribution by age\n",
    "\n",
    "It seems like the dataset has a very imbalanced sample distribution for different SES groups. Let's check the sample distribution by age:"
   ]
  },
  {
   "cell_type": "code",
   "execution_count": 138,
   "id": "fe337649-8aea-4a21-b2ef-3dc4fee1ce03",
   "metadata": {},
   "outputs": [
    {
     "data": {
      "image/png": "[encoded data removed]",
      "text/plain": [
       "<Figure size 720x360 with 1 Axes>"
      ]
     },
     "metadata": {},
     "output_type": "display_data"
    }
   ],
   "source": [
    "plt.figure(figsize=(10,5),facecolor='w')\n",
    "cmap = {'UC':'darkorange', 'MC':'k', 'WC':'g'}  # color map\n",
    "n_bin = int(max(age_list.max()))  # number of bins in histogram\n",
    "\n",
    "# Plot histogram for each SES group\n",
    "for s in ses_list:\n",
    "    ages = age_list[s].dropna()  # drop NaN to avoid runtime warning\n",
    "    plt.hist(ages, n_bin, histtype='step', edgecolor=cmap[s])\n",
    "\n",
    "# Formatting\n",
    "plt.xlabel('Age (Month)')\n",
    "plt.ylabel('Sample count')\n",
    "plt.title('Sample Count by Socioeconomic Status (SES)', fontsize='large')\n",
    "plt.legend(ses_list, title='SES', edgecolor='k', loc='best')\n",
    "plt.show()"
   ]
  },
  {
   "cell_type": "markdown",
   "id": "702918a2-2313-483c-9f15-a9e8eab7134e",
   "metadata": {},
   "source": [
    "As shown in the histogram, most of the samples (i.e. CHAT files) for WC have age above 40 months, while there are much fewer samples for UC. For fair comparison, the following analysis will focus on the range of **20 to 42 months** where WC and MC have similar sample distribution and where most UC samples are included. This is also the age range when the difference in vocabulary size among children of different SES was observed in other studies.\n",
    "\n",
    "Note that some age groups seem to have an unusually large sample size. These samples could possibly come from corpora where participant age was well-matched, or from repeated recordings of the same individual participants. At this stage, we still can't tell whether this would influence the analysis. I will come back to this issue later when necessary.\n",
    "\n",
    "Now, let's read the CHAT files again with age filter:"
   ]
  },
  {
   "cell_type": "code",
   "execution_count": 139,
   "id": "f13a2ce8-197d-4f16-b309-08c4fc14a7c3",
   "metadata": {},
   "outputs": [
    {
     "name": "stdout",
     "output_type": "stream",
     "text": [
      "Reading CHAT files...\n"
     ]
    },
    {
     "name": "stderr",
     "output_type": "stream",
     "text": [
      "100%|████████████████████████████████████████████████████████████████████████████████████| 3/3 [00:32<00:00, 10.97s/it]"
     ]
    },
    {
     "name": "stdout",
     "output_type": "stream",
     "text": [
      "Done!\n"
     ]
    },
    {
     "name": "stderr",
     "output_type": "stream",
     "text": [
      "\n"
     ]
    }
   ],
   "source": [
    "ses_list = ['UC', 'MC', 'WC']\n",
    "paths_ses = {}\n",
    "readers_ses = {}\n",
    "\n",
    "# read CHAT files into separate readers according to SES \n",
    "print('Reading CHAT files...')\n",
    "for s in tqdm(ses_list):\n",
    "    paths_ses[s] = data_idx[(data_idx.ses == s) & \n",
    "                        (data_idx.age_m>=20) & \n",
    "                        (data_idx.age_m<=42)].file_path\n",
    "    readers_ses[s] = pylangacq.Reader.from_files(paths_ses[s])\n",
    "\n",
    "print('Done!')"
   ]
  },
  {
   "cell_type": "markdown",
   "id": "c5a902c7-b6f5-4506-a3ba-a2a778416d3b",
   "metadata": {},
   "source": [
    "Get utterance length and statistics (I will also compute other MLU variants this time):"
   ]
  },
  {
   "cell_type": "code",
   "execution_count": 140,
   "id": "d6a4348d-e1c8-401c-8d10-3933572f8720",
   "metadata": {},
   "outputs": [],
   "source": [
    "# Create DataFrames\n",
    "LUm_list = pd.DataFrame(columns=ses_list)  # List of utterance length (morpheme)\n",
    "age_list = pd.DataFrame(columns=ses_list)  # List of child age\n",
    "\n",
    "# For each SES group, get utterance length and child age of each file\n",
    "for s in ses_list:\n",
    "    for i,f in enumerate(readers_ses[s]):  # f = one CHAT file\n",
    "        LUm_list.loc[i,s] = utt_len_m(f)\n",
    "        age_list.loc[i,s] = get_age_m(f.ages()[0])\n",
    "\n",
    "#-------------------------------------------------------------------------------\n",
    "# Utterance length statistics\n",
    "        \n",
    "# List of MLU-m for all files\n",
    "MLUm_list = LUm_list.applymap(lambda x: np.mean(x) if (x != np.nan) else x)\n",
    "\n",
    "# List of MLU100-m for all files (mean length of 5 longest utterances)\n",
    "MLU100m_list = LUm_list.applymap(lambda x: np.mean(nlargest(100, x))\n",
    "                               if ((x != np.nan) and (type(x)==list)) else x)\n",
    "\n",
    "# List of MLU5-m for all files (mean length of 5 longest utterances)\n",
    "MLU5m_list = LUm_list.applymap(lambda x: np.mean(nlargest(5, x))\n",
    "                               if ((x != np.nan) and (type(x)==list)) else x)\n",
    "\n",
    "# List of utterance length variance\n",
    "VLUm_list = LUm_list.applymap(lambda x:  np.var(x) if\n",
    "                                ((x != np.nan) and (type(x)==list)) else 0)"
   ]
  },
  {
   "cell_type": "markdown",
   "id": "b0ccffce-d212-4e25-a5f4-ddcc40a6c8b6",
   "metadata": {},
   "source": [
    "Visualizing the data:"
   ]
  },
  {
   "cell_type": "code",
   "execution_count": 207,
   "id": "78735748-f8bb-41c0-8eaa-97a5861448f5",
   "metadata": {},
   "outputs": [
    {
     "data": {
      "image/png": "[encoded data removed]",
      "text/plain": [
       "<Figure size 864x720 with 4 Axes>"
      ]
     },
     "metadata": {},
     "output_type": "display_data"
    }
   ],
   "source": [
    "# Create a figure with 4 axes (i.e. 4 subplots)\n",
    "fig, ax = plt.subplot_mosaic([['MLU-m', 'MLU100-m'],\n",
    "                              ['MLU5-m','VLU-m']],\n",
    "                              figsize=(12,10), facecolor='w',\n",
    "                              constrained_layout=True)\n",
    "cmap = {'UC':'darkorange', 'MC':'k', 'WC':'g'}  # color map\n",
    "\n",
    "# Plot 4 subplots for each SES group\n",
    "for s in ses_list:\n",
    "    ax['MLU-m'].scatter(age_list[s], MLUm_list[s],\n",
    "                        facecolors=cmap[s], edgecolors='.3')\n",
    "    ax['MLU100-m'].scatter(age_list[s], MLU100m_list[s],\n",
    "                           facecolors=cmap[s], edgecolors='.3')\n",
    "    ax['MLU5-m'].scatter(age_list[s], MLU5m_list[s],\n",
    "                         facecolors=cmap[s], edgecolors='.3')\n",
    "    ax['VLU-m'].scatter(age_list[s], VLUm_list[s],\n",
    "                        facecolors=cmap[s], edgecolors='.3')\n",
    "\n",
    "# Set axis labels, subplot titles and legends\n",
    "for k,v in {'A':'MLU-m', 'B':'MLU100-m', 'C':'MLU5-m', 'D':'VLU-m'}.items():\n",
    "    ax[v].set_xlabel('Age (months)')\n",
    "    ax[v].set_ylabel('{} by morphemes ({})'.format(v[:-2],v))\n",
    "    ax[v].set_title('{}: {}'.format(k,v), loc = 'left')\n",
    "    ax[v].legend(ses_list, title='SES', edgecolor='k', loc='upper left')\n",
    "\n",
    "# Set figure title\n",
    "fig.suptitle('Utterance Length Statistics by Socioeconomic Status (SES)',fontsize=16)\n",
    "\n",
    "plt.show()"
   ]
  },
  {
   "cell_type": "markdown",
   "id": "7126e21e-2ad8-4a03-b9e2-7fc5d7c03fe6",
   "metadata": {},
   "source": [
    "### Variants of MLU\n",
    "\n",
    "In addition to MLU-m, I also "
   ]
  },
  {
   "cell_type": "code",
   "execution_count": 208,
   "id": "6d4f4e14-7e70-4977-b2db-0bf182acacb4",
   "metadata": {},
   "outputs": [],
   "source": [
    "# Create DataFrames\n",
    "LUm_conc_df = pd.DataFrame()  # List of utterance length (morpheme)\n",
    "\n",
    "for s in ses_list:\n",
    "    LUm_conc_group = []\n",
    "    for f in readers_ses[s]:\n",
    "        LUm_f = utt_len_m(f)\n",
    "        if type(LUm_f) != list : LUm_f = [LUm_f]\n",
    "        LUm_conc_group.extend(LUm_f)\n",
    "        LUm_conc_group_df = pd.DataFrame(LUm_conc_group, columns=[s])        \n",
    "    LUm_conc_df = pd.concat([LUm_conc_df, LUm_conc_group_df], axis=1)\n"
   ]
  },
  {
   "cell_type": "code",
   "execution_count": 209,
   "id": "09f2227f-f858-4427-9140-0bfbbcc03cd3",
   "metadata": {},
   "outputs": [
    {
     "data": {
      "image/png": "[encoded data removed]",
      "text/plain": [
       "<Figure size 720x360 with 1 Axes>"
      ]
     },
     "metadata": {},
     "output_type": "display_data"
    }
   ],
   "source": [
    "plt.figure(figsize=(10,5),facecolor='w')\n",
    "for s in ses_list:\n",
    "    plt.hist(LUm_conc_df[s], 100, cumulative=True, density=True,\n",
    "             histtype='step', linewidth=1.5, color=cmap[s])\n",
    "\n",
    "plt.ylabel('Cumulative ditribution function (normalized)')\n",
    "plt.xlabel('Utterance length (in morphemes)')\n",
    "plt.show()"
   ]
  },
  {
   "cell_type": "code",
   "execution_count": 216,
   "id": "69698106-c161-42ba-acf4-2694afc72707",
   "metadata": {},
   "outputs": [
    {
     "data": {
      "text/plain": [
       "[{'UTF8': '',\n",
       "  'PID': '11312/c-00015868-1',\n",
       "  'Languages': ['eng'],\n",
       "  'Participants': {'CHI': {'name': 'Shem',\n",
       "    'language': 'eng',\n",
       "    'corpus': 'Clark',\n",
       "    'age': '2;07.26',\n",
       "    'sex': 'male',\n",
       "    'group': 'TD',\n",
       "    'ses': 'UC',\n",
       "    'role': 'Target_Child',\n",
       "    'education': '',\n",
       "    'custom': ''},\n",
       "   'INV': {'name': 'Cindy',\n",
       "    'language': 'eng',\n",
       "    'corpus': 'Clark',\n",
       "    'age': '',\n",
       "    'sex': '',\n",
       "    'group': '',\n",
       "    'ses': '',\n",
       "    'role': 'Investigator',\n",
       "    'education': '',\n",
       "    'custom': ''}},\n",
       "  'Date': {datetime.date(1976, 10, 1)},\n",
       "  'Comment': 'baby crying , brief break in taping',\n",
       "  'Situation': 'S pretending to talk on his toy phone',\n",
       "  'Types': 'long, toyplay, TD'}]"
      ]
     },
     "execution_count": 216,
     "metadata": {},
     "output_type": "execute_result"
    }
   ],
   "source": [
    "# next_LU = [0]\n",
    "# for i,f in enumerate(readers_ses['UC']):\n",
    "#     curr_LU = utt_len_m(f)\n",
    "#     if type(curr_LU)==list and type(next_LU)==list and (max(curr_LU) > max(next_LU)):\n",
    "#         longest = i\n",
    "#     next_LU = utt_len_m(f)\n",
    "#     print(i,'\\n', max(curr_LU))\n",
    "# print(i)\n",
    "\n",
    "\n",
    "ref = 0\n",
    "i = 0\n",
    "for i, u in enumerate(readers_ses['UC'][18].utterances()):\n",
    "    curr = len(u.tokens)\n",
    "    if curr > ref:\n",
    "        longest = i\n",
    "        ref = curr\n",
    "readers_ses['UC'][18].utterances()[longest].tokens\n",
    "readers['UC'][18].headers()\n"
   ]
  },
  {
   "cell_type": "code",
   "execution_count": null,
   "id": "b31937e6-69da-491c-8180-d0b93b794be5",
   "metadata": {},
   "outputs": [],
   "source": [
    "edu_dict = {'III':['MS', 'JD', 'DR'],\n",
    "            'II':['AD', 'UG-', 'UG'],\n",
    "            'I':['JH-', 'HS-', 'HS', 'HS+']}\n",
    "paths_edu = {}\n",
    "readers = {}\n",
    "\n",
    "print('Reading CHAT files...')\n",
    "for level, labels in tqdm(edu_dict.items()):\n",
    "    paths[level] = data_idx[data_idx.mot_edu.isin(labels)].file_path\n",
    "    readers[level] = pylangacq.Reader.from_files(paths[level])\n",
    "\n",
    "print('Done!')"
   ]
  },
  {
   "cell_type": "code",
   "execution_count": null,
   "id": "ab3376e8-b0bd-404d-91fa-b20f84e71878",
   "metadata": {},
   "outputs": [],
   "source": [
    "age_list = pd.DataFrame(columns=edu_dict.keys())  # List of child age\n",
    "for level in edu_dict:\n",
    "    for f in range(len(paths[level])):\n",
    "        age_list.loc[f,level] = get_age_m(readers[level].ages()[f])\n",
    "\n",
    "n_bin = int(max(age_list.max()))  # number of bins in histogram\n",
    "\n",
    "plt.figure(figsize=(10,5),facecolor='w')\n",
    "cmap = {'I':'g', 'II':'k', 'III':'tab:orange'}  # Color map\n",
    "\n",
    "# Plot histogram for each SES group\n",
    "for level in edu_dict:\n",
    "    age_no_na = age_list[level].dropna()  # drop NaN to avoid runtime warning\n",
    "    plt.hist(age_no_na, n_bin, histtype='step', edgecolor=cmap[level])\n",
    "   \n",
    "    \n",
    "# Formatting\n",
    "plt.xlabel('Age (Month)')\n",
    "plt.ylabel('File count')\n",
    "plt.title(\"File count by Mother's Education\", fontsize='large')\n",
    "plt.legend(edu_dict, title=\"Mother's Education\", edgecolor='k', loc='best')\n",
    "plt.show()"
   ]
  },
  {
   "cell_type": "markdown",
   "id": "880eb4f9-2ff9-4fb4-a657-af39b600fd8a",
   "metadata": {},
   "source": [
    "Education level II and III: age matched perfectly. Files seem to come from the same corpus.\n",
    "\n",
    "Only compare level II and III:"
   ]
  },
  {
   "cell_type": "code",
   "execution_count": null,
   "id": "9cf77adb-95e9-44a9-bce4-a298dd9015dd",
   "metadata": {},
   "outputs": [],
   "source": [
    "edu_dict = {'III':['MS', 'JD', 'DR'],\n",
    "            'II':['AD', 'UG-', 'UG']}\n",
    "\n",
    "paths = {}\n",
    "readers = {}\n",
    "\n",
    "print('Reading CHAT files...')\n",
    "for level, labels in tqdm(edu_dict.items()):\n",
    "    paths[level] = data_idx[data_idx.mot_edu.isin(labels)].file_path\n",
    "    readers[level] = pylangacq.Reader.from_files(paths[level])\n",
    "\n",
    "print('Done!')"
   ]
  },
  {
   "cell_type": "markdown",
   "id": "f1d85e3f-6bbd-4237-9cee-7a7d9be4f7d0",
   "metadata": {},
   "source": [
    "Get utterance length statistics:"
   ]
  },
  {
   "cell_type": "code",
   "execution_count": null,
   "id": "c4b00e75-50a5-41ed-8d2a-cb1be2807c9e",
   "metadata": {},
   "outputs": [],
   "source": [
    "LUm_list = pd.DataFrame(columns=edu_dict.keys())  # List of utterance length (morpheme)\n",
    "age_list = pd.DataFrame(columns=edu_dict.keys())  # List of child age\n",
    "\n",
    "# For each SES group, get utterance length and child age of each file\n",
    "for level in edu_dict:\n",
    "    for f in range(len(paths[level])):\n",
    "        LUm_list.loc[f,level] = utt_len_m(readers[level][f])\n",
    "        age_list.loc[f,level] = get_age_m(readers[level].ages()[f])\n",
    "\n",
    "#-------------------------------------------------------------------------------\n",
    "# Utterance length statistics\n",
    "        \n",
    "# List of MLU-m for all files\n",
    "MLUm_list = LUm_list.applymap(lambda x: np.mean(x) if (x != np.nan) else x)\n",
    "\n",
    "# List of MLU100-m for all files (mean length of 5 longest utterances)\n",
    "MLU100m_list = LUm_list.applymap(lambda x: np.mean(nlargest(100, x))\n",
    "                               if ((x != np.nan) and (type(x)==list)) else x)\n",
    "\n",
    "# List of MLU5-m for all files (mean length of 5 longest utterances)\n",
    "MLU5m_list = LUm_list.applymap(lambda x: np.mean(nlargest(5, x))\n",
    "                               if ((x != np.nan) and (type(x)==list)) else x)\n",
    "\n",
    "# List of utterance length variance\n",
    "VLUm_list = LUm_list.applymap(lambda x:  np.var(x) if\n",
    "                                ((x != np.nan) and (type(x)==list)) else 0)"
   ]
  },
  {
   "cell_type": "markdown",
   "id": "e15a97a3-0ad5-4bb8-82ac-6a92cb743589",
   "metadata": {},
   "source": [
    "Plot:"
   ]
  },
  {
   "cell_type": "code",
   "execution_count": null,
   "id": "ab54290f-0db8-4bd5-a706-d1d0f21b45d8",
   "metadata": {},
   "outputs": [],
   "source": [
    "# Create a figure with 4 axes (i.e. 4 subplots)\n",
    "fig, ax = plt.subplot_mosaic([['MLU-m', 'MLU100-m'],\n",
    "                              ['MLU5-m','VLU-m']],\n",
    "                              figsize=(12,10), facecolor='w',\n",
    "                              constrained_layout=True)\n",
    "cmap = {'II':'k', 'III':'tab:orange'}  # Color map\n",
    "\n",
    "# Plot 4 subplots for each SES group\n",
    "for level in edu_dict:\n",
    "    ax['MLU-m'].scatter(age_list[level], MLUm_list[level],\n",
    "                        facecolors=cmap[level], edgecolors='.3')\n",
    "    ax['MLU100-m'].scatter(age_list[level], MLU100m_list[level],\n",
    "                           facecolors=cmap[level], edgecolors='.3')\n",
    "    ax['MLU5-m'].scatter(age_list[level], MLU5m_list[level],\n",
    "                         facecolors=cmap[level], edgecolors='.3')\n",
    "    ax['VLU-m'].scatter(age_list[level], VLUm_list[level],\n",
    "                        facecolors=cmap[level], edgecolors='.3')\n",
    "\n",
    "# Set axis labels, subplot titles and legends\n",
    "for k,v in {'A':'MLU-m', 'B':'MLU100-m', 'C':'MLU5-m', 'D':'VLU-m'}.items():\n",
    "    ax[v].set_xlabel('Age (months)')\n",
    "    ax[v].set_ylabel('{} by morphemes ({})'.format(v[:-2],v))\n",
    "    ax[v].set_title('{}: {}'.format(k,v), loc = 'left')\n",
    "    ax[v].legend(edu_dict.keys(), title=\"Mother's Education\", edgecolor='k')\n",
    "\n",
    "# Set figure title\n",
    "fig.suptitle(\"Utterance Length Statistics by Mother's Education\",fontsize=16)\n",
    "\n",
    "plt.show()"
   ]
  },
  {
   "cell_type": "markdown",
   "id": "a02f5c8f-410c-42bf-9bcf-77af772a27d7",
   "metadata": {},
   "source": [
    "---\n",
    "\n",
    "# 2 type-to-token ratio (TTR)\n"
   ]
  },
  {
   "cell_type": "markdown",
   "id": "5622601c-4c3a-44b7-b52f-839291832118",
   "metadata": {},
   "source": [
    "## 2.1 Using `PyLangAcq` to get TTR"
   ]
  },
  {
   "cell_type": "markdown",
   "id": "ba767f02-0dc7-44c7-84bf-84cf624b0357",
   "metadata": {},
   "source": [
    "## 2.2 Custom functions to get TTR"
   ]
  },
  {
   "cell_type": "code",
   "execution_count": null,
   "id": "087053b3-0e33-4f82-af98-3278cc7235d2",
   "metadata": {},
   "outputs": [],
   "source": [
    "# TTR of CHI (same as pylangacq.Reader.ttr)\n",
    "def get_ttr(reader, participants, ignore=[]):\n",
    "    toks = reader.tokens(participants=participants)\n",
    "    WORDS_TO_IGNORE = [\"\", \"!\", \"+...\", \".\", \",\", \"?\", \"‡\", \"„\", \"0\", \"CLITIC\"]\n",
    "    WORDS_TO_IGNORE.extend(ignore)\n",
    "    tok_list     = [t.word for t in toks if (t.word not in WORDS_TO_IGNORE)]\n",
    "    if tok_list:\n",
    "        return len(set(tok_list))/len(tok_list)\n",
    "    else:\n",
    "        return 0\n",
    "\n",
    "get_ttr(adam[5], 'CHI')"
   ]
  },
  {
   "cell_type": "markdown",
   "id": "732a349a-b352-472e-8fb0-741e0d3deaac",
   "metadata": {},
   "source": [
    "---\n",
    "\n",
    "# 3 POS proportion"
   ]
  },
  {
   "cell_type": "markdown",
   "id": "16680f48-5917-477f-8533-5207894863a9",
   "metadata": {},
   "source": [
    "## 3.1 Custom function to get POS proportion"
   ]
  },
  {
   "cell_type": "code",
   "execution_count": null,
   "id": "4cb1e280-b30e-4b23-bb80-d6efd340b911",
   "metadata": {},
   "outputs": [],
   "source": [
    "from etc.pittchat import get_pos_pro as get_pos_pro"
   ]
  },
  {
   "cell_type": "code",
   "execution_count": null,
   "id": "faf69554-2d16-4d13-8b42-dda9a7b0ce99",
   "metadata": {},
   "outputs": [],
   "source": [
    "# get proportion of nouns\n",
    "print('Proportion of nouns:', get_pos_pro(adam[0], pos='n'))\n",
    "\n",
    "# get noun-to-verb ratio (NTVR)\n",
    "print('NTVR:', get_pos_pro(adam[0], pos='n', ref_pos=['n', 'v']))"
   ]
  },
  {
   "cell_type": "markdown",
   "id": "8b9e3405-c7b1-4786-816e-39d277105352",
   "metadata": {},
   "source": [
    "---\n",
    "\n",
    "# 4 Word frequency"
   ]
  },
  {
   "cell_type": "code",
   "execution_count": null,
   "id": "1bda0666-bb00-42b9-ac75-58cddfdecac5",
   "metadata": {},
   "outputs": [],
   "source": [
    "# Read all files of UC children\n",
    "paths = data_idx[data_idx.ses == 'UC'].file_path\n",
    "f_UC = pylangacq.Reader.from_files(paths)"
   ]
  },
  {
   "cell_type": "markdown",
   "id": "c502b1b0-6268-41cc-906a-3024c6a435e5",
   "metadata": {},
   "source": [
    "## 4.1 Using `PyLangAcq` to get word frequencies"
   ]
  },
  {
   "cell_type": "code",
   "execution_count": null,
   "id": "6e1f6b72-6c16-4678-b0cb-4d95f0b758d8",
   "metadata": {},
   "outputs": [],
   "source": [
    "freq = f_UC.word_frequencies()\n",
    "cp.pprint(freq.most_common(20))"
   ]
  },
  {
   "cell_type": "code",
   "execution_count": null,
   "id": "1036844e-c447-43e5-b396-f40bf56c64f5",
   "metadata": {},
   "outputs": [],
   "source": [
    "wcloud = wc(max_font_size=100).generate_from_frequencies(freq)\n",
    "plt.figure(figsize=(10,5))\n",
    "plt.axis(\"off\")\n",
    "plt.imshow(wcloud, interpolation='bilinear')\n",
    "plt.show()"
   ]
  },
  {
   "cell_type": "markdown",
   "id": "c0a4b3e1-d48b-48c7-b2de-8bc069afc78c",
   "metadata": {},
   "source": [
    "## Custom function to get word frequencies by POS and ignore punctuations"
   ]
  },
  {
   "cell_type": "code",
   "execution_count": null,
   "id": "8252b183-c3c2-42ca-bf59-3e6e2eec218d",
   "metadata": {},
   "outputs": [],
   "source": [
    "# Define POS by open vs close word class\n",
    "POS_OPEN = [\"n\", \"v\", \"adv\", \"adj\", \"co\"]\n",
    "POS_CLOSE = ['mod', 'neg', 'cop', 'pro:exist', 'aux', 'part', 'det:art', 'comp',\n",
    "             'post','pro:obj', 'pro:int', 'pro:per', 'coord', 'on', 'inf', 'qn',\n",
    "             'pro:indef', 'pro:sub', 'pro:rel', 'prep', 'pro:dem', 'det:num']\n",
    "\n",
    "from etc.pittchat import get_wfreq as get_wfreq\n",
    "# get freq of one file in 'sample':\n",
    "freq = get_wfreq(f_UC, pos=POS_OPEN)\n"
   ]
  },
  {
   "cell_type": "code",
   "execution_count": null,
   "id": "5461ac63-65ad-4741-9e5c-331d5b9a0ae4",
   "metadata": {},
   "outputs": [],
   "source": [
    "wcloud = wc(max_font_size=100).generate_from_frequencies(freq)\n",
    "plt.figure(figsize=(10,5))\n",
    "plt.axis(\"off\")\n",
    "plt.imshow(wcloud, interpolation='bilinear')\n",
    "plt.show()"
   ]
  },
  {
   "cell_type": "code",
   "execution_count": null,
   "id": "cb84410e-6016-4c57-86a2-c3e269e2c3bf",
   "metadata": {},
   "outputs": [],
   "source": [
    "from etc.pittchat import get_wfreq as get_wfreq\n",
    "freq = get_wfreq(f_UC, pos='n')"
   ]
  },
  {
   "cell_type": "code",
   "execution_count": null,
   "id": "777514ab-e5a4-4543-981f-f2d11091a78d",
   "metadata": {},
   "outputs": [],
   "source": [
    "wcloud = wc(max_font_size=100).generate_from_frequencies(freq)\n",
    "plt.figure(figsize=(10,5))\n",
    "plt.axis(\"off\")\n",
    "plt.imshow(wcloud, interpolation='bilinear')\n",
    "plt.show()"
   ]
  },
  {
   "cell_type": "code",
   "execution_count": null,
   "id": "6e5b7a74-b08e-4c69-99d2-3a79d78ea5b7",
   "metadata": {},
   "outputs": [],
   "source": [
    "rel_freq = { w : (f/sum(freq.values())) for w, f in freq.items() }\n",
    "cp.pprint(rel_freq)\n",
    "\n",
    "# sorted(rel_freq, reverse=True, key=rel_freq.get)"
   ]
  },
  {
   "cell_type": "code",
   "execution_count": null,
   "id": "cdeb0395-913c-444a-a352-0c93c748d3ae",
   "metadata": {},
   "outputs": [],
   "source": [
    "freq = get_wfreq(f_UC)\n",
    "rel_freq = { w : (f/sum(freq.values())) for w, f in freq.items() }\n",
    "\n",
    "freq2 = get_wfreq(f_WC)\n",
    "rel_freq2 = { w : (f/sum(freq2.values())) for w, f in freq2.items() }"
   ]
  },
  {
   "cell_type": "code",
   "execution_count": null,
   "id": "b0dd975e-2fe6-4f10-b528-515ed8148c79",
   "metadata": {},
   "outputs": [],
   "source": [
    "freq_300 =sorted(rel_freq, reverse=True, key=rel_freq.get)[0:300]\n",
    "freq2_300 =sorted(rel_freq2, reverse=True, key=rel_freq2.get)[0:300]\n",
    "\n",
    "list(set(freq_300).intersection(freq2_300))"
   ]
  },
  {
   "cell_type": "markdown",
   "id": "e2205db3-58d4-44d3-8f84-05034e5bc163",
   "metadata": {},
   "source": [
    "---\n",
    "\n",
    "# 5 Summary\n"
   ]
  },
  {
   "cell_type": "code",
   "execution_count": null,
   "id": "a5633370-0656-45a5-ae2b-0067dbfbc219",
   "metadata": {},
   "outputs": [],
   "source": []
  }
 ],
 "metadata": {
  "kernelspec": {
   "display_name": "Python 3 (ipykernel)",
   "language": "python",
   "name": "python3"
  },
  "language_info": {
   "codemirror_mode": {
    "name": "ipython",
    "version": 3
   },
   "file_extension": ".py",
   "mimetype": "text/x-python",
   "name": "python",
   "nbconvert_exporter": "python",
   "pygments_lexer": "ipython3",
   "version": "3.9.7"
  }
 },
 "nbformat": 4,
 "nbformat_minor": 5
}
