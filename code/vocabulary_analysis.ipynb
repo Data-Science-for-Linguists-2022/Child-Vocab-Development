{
 "cells": [
  {
   "cell_type": "markdown",
   "id": "f0b0d5e3-5eb2-4c5f-8a0a-5bbff539f5b7",
   "metadata": {},
   "source": [
    "# Vocabulary Analysis\n",
    "\n",
    "Man Ho Wong | April 12, 2022\n",
    "\n",
    "*Jupyter notebooks are not always rendered properly on Github. Please [view this notebook here on nbviewer](https://nbviewer.org/github/Data-Science-for-Linguists-2022/Child-Vocab-Development/blob/main/code/exploratory_analysis.ipynb) if that happens.*\n",
    "\n",
    "# 1 Overview\n",
    "\n",
    "> **Data processing and analysis:**  \n",
    ">`data_curation.ipynb`  \n",
    ">`data_preprocessing.ipynb`  \n",
    ">`exploratory_analysis.ipynb`  \n",
    ">`vocabulary_analysis.ipynb`  <-- You are here\n",
    "\n",
    "## 1.1 Objectives\n",
    "\n",
    "\n",
    "### Table of contents\n",
    "\n",
    "1. Overview\n",
    "    - 1.1 Objectives\n",
    "    - 1.2 Quick recap\n",
    "    - 1.3 Efficiency considerations\n",
    "\n",
    "2. Semantic network: vocabulary analysis beyond mean length of utterance (MLU)\n",
    "    - 2.1 Child vocabulary as a lexical semantic network\n",
    "    - 2.2 Different metrics for word-to-word similarity\n",
    "    - 2.3 Constructing lexical semantic network\n",
    "\n",
    "3. Semantic network analysis\n",
    "    - 3.1 Characterizing semantic network\n",
    "    - 3.2 Comparing children from different SES groups\n",
    "\n",
    "### Script header"
   ]
  },
  {
   "cell_type": "code",
   "execution_count": null,
   "id": "bec1151e-1e7f-4aba-af03-b5893cdb12ee",
   "metadata": {},
   "outputs": [
    {
     "data": {
      "text/html": [
       "<div>\n",
       "<style scoped>\n",
       "    .dataframe tbody tr th:only-of-type {\n",
       "        vertical-align: middle;\n",
       "    }\n",
       "\n",
       "    .dataframe tbody tr th {\n",
       "        vertical-align: top;\n",
       "    }\n",
       "\n",
       "    .dataframe thead th {\n",
       "        text-align: right;\n",
       "    }\n",
       "</style>\n",
       "<table border=\"1\" class=\"dataframe\">\n",
       "  <thead>\n",
       "    <tr style=\"text-align: right;\">\n",
       "      <th></th>\n",
       "      <th>file_path</th>\n",
       "      <th>corpus</th>\n",
       "      <th>year</th>\n",
       "      <th>participants</th>\n",
       "      <th>name</th>\n",
       "      <th>child_id</th>\n",
       "      <th>age_d</th>\n",
       "      <th>age_m</th>\n",
       "      <th>sex</th>\n",
       "      <th>group</th>\n",
       "      <th>ses</th>\n",
       "      <th>mot_edu</th>\n",
       "      <th>situation</th>\n",
       "      <th>activities</th>\n",
       "      <th>study_type</th>\n",
       "    </tr>\n",
       "  </thead>\n",
       "  <tbody>\n",
       "    <tr>\n",
       "      <th>0</th>\n",
       "      <td>../data/childes/Bates/Free20/amy.cha</td>\n",
       "      <td>Bates</td>\n",
       "      <td>NaN</td>\n",
       "      <td>{CHI, MOT}</td>\n",
       "      <td>Target_Child</td>\n",
       "      <td>Bates_Target_Child</td>\n",
       "      <td>600</td>\n",
       "      <td>20.0</td>\n",
       "      <td>female</td>\n",
       "      <td>TD</td>\n",
       "      <td>MC</td>\n",
       "      <td>unspecified</td>\n",
       "      <td>unspecified</td>\n",
       "      <td>unspecified</td>\n",
       "      <td>cross, toyplay, TD</td>\n",
       "    </tr>\n",
       "    <tr>\n",
       "      <th>1</th>\n",
       "      <td>../data/childes/Bates/Free20/betty.cha</td>\n",
       "      <td>Bates</td>\n",
       "      <td>NaN</td>\n",
       "      <td>{CHI, MOT}</td>\n",
       "      <td>Betty</td>\n",
       "      <td>Bates_Betty</td>\n",
       "      <td>600</td>\n",
       "      <td>20.0</td>\n",
       "      <td>female</td>\n",
       "      <td>TD</td>\n",
       "      <td>MC</td>\n",
       "      <td>unspecified</td>\n",
       "      <td>unspecified</td>\n",
       "      <td>unspecified</td>\n",
       "      <td>cross, toyplay, TD</td>\n",
       "    </tr>\n",
       "    <tr>\n",
       "      <th>2</th>\n",
       "      <td>../data/childes/Bates/Free20/chuck.cha</td>\n",
       "      <td>Bates</td>\n",
       "      <td>NaN</td>\n",
       "      <td>{CHI, MOT}</td>\n",
       "      <td>Chuck</td>\n",
       "      <td>Bates_Chuck</td>\n",
       "      <td>600</td>\n",
       "      <td>20.0</td>\n",
       "      <td>male</td>\n",
       "      <td>TD</td>\n",
       "      <td>MC</td>\n",
       "      <td>unspecified</td>\n",
       "      <td>unspecified</td>\n",
       "      <td>unspecified</td>\n",
       "      <td>cross, toyplay, TD</td>\n",
       "    </tr>\n",
       "    <tr>\n",
       "      <th>3</th>\n",
       "      <td>../data/childes/Bates/Free20/doug.cha</td>\n",
       "      <td>Bates</td>\n",
       "      <td>NaN</td>\n",
       "      <td>{CHI, MOT}</td>\n",
       "      <td>Doug</td>\n",
       "      <td>Bates_Doug</td>\n",
       "      <td>600</td>\n",
       "      <td>20.0</td>\n",
       "      <td>male</td>\n",
       "      <td>TD</td>\n",
       "      <td>MC</td>\n",
       "      <td>unspecified</td>\n",
       "      <td>unspecified</td>\n",
       "      <td>unspecified</td>\n",
       "      <td>cross, toyplay, TD</td>\n",
       "    </tr>\n",
       "    <tr>\n",
       "      <th>4</th>\n",
       "      <td>../data/childes/Bates/Free20/ed.cha</td>\n",
       "      <td>Bates</td>\n",
       "      <td>NaN</td>\n",
       "      <td>{CHI, MOT}</td>\n",
       "      <td>Ed</td>\n",
       "      <td>Bates_Ed</td>\n",
       "      <td>600</td>\n",
       "      <td>20.0</td>\n",
       "      <td>male</td>\n",
       "      <td>TD</td>\n",
       "      <td>MC</td>\n",
       "      <td>unspecified</td>\n",
       "      <td>unspecified</td>\n",
       "      <td>unspecified</td>\n",
       "      <td>cross, toyplay, TD</td>\n",
       "    </tr>\n",
       "  </tbody>\n",
       "</table>\n",
       "</div>"
      ],
      "text/plain": [
       "                                file_path corpus  year participants  \\\n",
       "0    ../data/childes/Bates/Free20/amy.cha  Bates   NaN   {CHI, MOT}   \n",
       "1  ../data/childes/Bates/Free20/betty.cha  Bates   NaN   {CHI, MOT}   \n",
       "2  ../data/childes/Bates/Free20/chuck.cha  Bates   NaN   {CHI, MOT}   \n",
       "3   ../data/childes/Bates/Free20/doug.cha  Bates   NaN   {CHI, MOT}   \n",
       "4     ../data/childes/Bates/Free20/ed.cha  Bates   NaN   {CHI, MOT}   \n",
       "\n",
       "           name            child_id  age_d  age_m     sex group ses  \\\n",
       "0  Target_Child  Bates_Target_Child    600   20.0  female    TD  MC   \n",
       "1         Betty         Bates_Betty    600   20.0  female    TD  MC   \n",
       "2         Chuck         Bates_Chuck    600   20.0    male    TD  MC   \n",
       "3          Doug          Bates_Doug    600   20.0    male    TD  MC   \n",
       "4            Ed            Bates_Ed    600   20.0    male    TD  MC   \n",
       "\n",
       "       mot_edu    situation   activities          study_type  \n",
       "0  unspecified  unspecified  unspecified  cross, toyplay, TD  \n",
       "1  unspecified  unspecified  unspecified  cross, toyplay, TD  \n",
       "2  unspecified  unspecified  unspecified  cross, toyplay, TD  \n",
       "3  unspecified  unspecified  unspecified  cross, toyplay, TD  \n",
       "4  unspecified  unspecified  unspecified  cross, toyplay, TD  "
      ]
     },
     "execution_count": 1,
     "metadata": {},
     "output_type": "execute_result"
    }
   ],
   "source": [
    "# Python libraries and packages required\n",
    "from collections import Counter\n",
    "import matplotlib.pyplot as plt\n",
    "import numpy as np\n",
    "import pandas as pd\n",
    "import pickle\n",
    "import pprint                    # For pretty printing\n",
    "import pylangacq                 # For reading CHAT files\n",
    "import nltk\n",
    "from gensim.models.keyedvectors import KeyedVectors\n",
    "import networkx as nx\n",
    "\n",
    "# For showing progress bar\n",
    "#   This is useful for estimating the efficiency of the code. You can disable it\n",
    "#   by remove tqdm() in the code.\n",
    "from tqdm import tqdm\n",
    "\n",
    "# Unpickle data\n",
    "data_idx = pickle.load(open('../data/childes/data_idx_processed.pkl', 'rb'))\n",
    "\n",
    "# Pretty printing for better readability\n",
    "# With this, you can print dict in compact format instead of one item\n",
    "#   per line. Items will be in alphabetical order. Nested Dict will be printed \n",
    "#   with suitable indentation. It will also print Counter in descending order.\n",
    "#   To use this, call cp.pprint()\n",
    "cp = pprint.PrettyPrinter(compact=True, sort_dicts=True)\n",
    "\n",
    "# Function to get all labels of a given variable (e.g. 'mot_edu')\n",
    "def get_labels(var):\n",
    "    labels_by_corpus = {}\n",
    "    corpus_set = set(data_idx.corpus)\n",
    "    for c in corpus_set:\n",
    "        labels_by_corpus[c] = set(data_idx[var][data_idx.corpus==c])\n",
    "    return labels_by_corpus\n",
    "\n",
    "data_idx.head()"
   ]
  },
  {
   "cell_type": "code",
   "execution_count": 2,
   "id": "fdb5b7b6-9e1d-4a2b-bd36-d2687a913fc6",
   "metadata": {},
   "outputs": [
    {
     "name": "stdout",
     "output_type": "stream",
     "text": [
      "Reading CHAT files...\n",
      "Done!\n"
     ]
    }
   ],
   "source": [
    "ses_list = ['UC', 'MC', 'WC']\n",
    "paths_ses = {}\n",
    "readers_ses = {}\n",
    "\n",
    "# read CHAT files into separate readers according to SES \n",
    "print('Reading CHAT files...')\n",
    "for s in ses_list:\n",
    "    paths_ses[s] = data_idx[(data_idx.ses == s) & \n",
    "                        (data_idx.age_m>=20) & \n",
    "                        (data_idx.age_m<=42)].file_path\n",
    "    readers_ses[s] = pylangacq.Reader.from_files(paths_ses[s])\n",
    "\n",
    "print('Done!')"
   ]
  },
  {
   "cell_type": "markdown",
   "id": "b53e52b7-0dd3-4efa-9b2b-78facd6f35cc",
   "metadata": {},
   "source": [
    "---\n",
    "\n",
    "# 2 Semantic network: vocabulary analysis beyond mean length of utterance (MLU)\n"
   ]
  },
  {
   "cell_type": "markdown",
   "id": "8191ea9b-6ee1-4fbb-a6a0-e6dea3112298",
   "metadata": {},
   "source": [
    "## 2.1 Child vocabulary as a lexical semantic network"
   ]
  },
  {
   "cell_type": "markdown",
   "id": "f486ae55-d508-4784-8b42-33a3b184c141",
   "metadata": {},
   "source": [
    "## 2.2 Different metrics for word-to-word similarity\n",
    "\n",
    "Relationship between words in a lexicon can be represented by how similar they are in their semantic meanings. There are many metrics to measure word-to-word similarity. In general, these metrics can be derived from two different sources: human-annotated datasets (e.g. WordNet), or word associations learned by machine algorithms (e.g. word2vec). Both sources have their pros and cons for different applications. In this project, I will use machine-generated word associations for the calculation of word-to-word similarity because it is more flexible (e.g. getting different word associations by using different training data) than human-annotated datasets and is probably less prone to human biases (depending on training data). Besides, human-annotated datasets are based on formal taxonomies of words and such knowledge is unlikely to be present in a young child's world.\n",
    "\n",
    "There are two main types of machine-learning models to generate word associations, count-based and prediction-based models. In this project, I will get my word similarity from a semantic network called **ConceptNet**, which is built by both count-based and prediction-based models. The most unique feature about ConceptNet is that, unlike other semantic network, it is concept-based rather than word-based (though nodes are still represented by words or phrases). For mapping word relations in a young child's lexicon where word meanings are more related to the concepts that they are acquiring at the same time, this feature probably makes ConceptNet more suitable than word embeddings derived from other models for this project."
   ]
  },
  {
   "cell_type": "markdown",
   "id": "0301f616-1972-481c-ae46-b8ecb0edd1bc",
   "metadata": {},
   "source": [
    "#### 2.3 Constructing lexical semantic network\n",
    "\n",
    "In this section, I will develop a pipeline for constructing lexical semantic network from each participant's word list in each CHAT file. Below are the general steps:\n",
    "1. Get the word list from a CHAT file\n",
    "2. Import ConceptNet-Numberbatch word vectors\n",
    "3. Map each word in the word list to its word vector\n",
    "4. Compute pairwise word similarity (cosine similarity) from word vectors\n",
    "5. Construct a semantic network using cosine similarities as the weights of edges\n",
    "\n",
    "### Get the word list from a CHAT file\n",
    "I will use a file from a working-class child to develop the pipeline. For this step, I created a simple function, `get_vocab`, which allows me to get a set of unique words from a CHAT file with the option to specify word classes. This function can also be accessed from `etc.pittchat` like other custom functions in this project."
   ]
  },
  {
   "cell_type": "code",
   "execution_count": 5,
   "id": "3c83ea20-ebbb-432f-b808-bf5a407a633b",
   "metadata": {},
   "outputs": [
    {
     "name": "stdout",
     "output_type": "stream",
     "text": [
      "{'baby', 'ball', 'ballie', 'bear', 'bike', 'bobby', 'book', 'chair', 'clock',\n",
      " 'cut', 'dolly', 'door', 'ear', 'eye', 'eyes', 'floor', 'hair', 'hat', 'kitty',\n",
      " 'light', 'mommy', 'nose', 'pin', 'ride', 'shoe', 'sink', 'spoon', 'teddybear',\n",
      " 'teeth', 'there'}\n"
     ]
    }
   ],
   "source": [
    "from etc.pittchat import get_vocab as get_vocab\n",
    "vocab = get_vocab(readers_ses['WC'][0], pos='n')\n",
    "cp.pprint(vocab)"
   ]
  },
  {
   "cell_type": "markdown",
   "id": "1803e1a3-b627-4854-8ead-23f274958060",
   "metadata": {},
   "source": [
    "### Import ConceptNet-Numberbatch word vectors\n",
    "\n",
    "Before further processing, we will need to generate word vectors by training models on text data. Due to time constraints and computing resources, I will not not train my own model to get the word vectors. Instead, I will use a pre-trained dataset, ConceptNet-Numberbatch, to get the word vectors. It can be download from their official GitHub. The following code will use the `gensim` package for processing word vectors."
   ]
  },
  {
   "cell_type": "code",
   "execution_count": 10,
   "id": "ee37294f-5ce1-4a7f-b45f-7b23c9a4024a",
   "metadata": {},
   "outputs": [],
   "source": [
    "# Download and extract ConceptNet-Numberbatch to your local drive, and run the\n",
    "#   following code to import the word vectors\n",
    "\n",
    "# from gensim.models.keyedvectors import KeyedVectors\n",
    "# wordvec = KeyedVectors.load_word2vec_format('C:\\Users\\manho\\gensim-data\\conceptnet-numberbatch-19.08\\numberbatch-en.txt')\n",
    "\n",
    "# Save the word vectors in gensim's native format for efficiency\n",
    "\n",
    "# wordvec.save('../data/conceptnet/numberbatch-en.kv')"
   ]
  },
  {
   "cell_type": "code",
   "execution_count": 7,
   "id": "0a17bc44-0377-4628-936b-2bdef9b54aee",
   "metadata": {},
   "outputs": [],
   "source": [
    "# load saved word vectors from file\n",
    "wordvec = KeyedVectors.load('../data/conceptnet/numberbatch-en.kv', mmap='r')"
   ]
  },
  {
   "cell_type": "markdown",
   "id": "efd974b3-023d-439a-bb7b-005c93060376",
   "metadata": {},
   "source": [
    "### Map each word in the word list to its word vector\n",
    "\n",
    "A child may produce \"words\" that not found in their native language as creating new words are very common among young children. Such words may not be found in ConceptNet and this may generate errors. This is generally referred as an out-of-vocabulary (OOV) problem. To handle these words, I will simply remove them from the list for now, although we probably need to develop a better strategy to handle OOV words later when possible."
   ]
  },
  {
   "cell_type": "code",
   "execution_count": 8,
   "id": "87bbded0-bcab-42f2-b80c-c23a8edbc36b",
   "metadata": {},
   "outputs": [],
   "source": [
    "# Remove out-of-vocabulary words\n",
    "vocab = [w for w in vocab if wordvec.has_index_for(w)]\n",
    "\n",
    "# Map each word to its word vector in wordvec\n",
    "vocab_wv = wordvec[vocab]"
   ]
  },
  {
   "cell_type": "markdown",
   "id": "77b778c0-7399-446b-a80f-d4f6ebe3cb1a",
   "metadata": {},
   "source": [
    "### Compute pairwise word similarity (cosine similarity) from word vectors\n",
    "\n",
    "I will use Scikit-learn's `pairwise.cosine_similarity` function to compute pairwise cosine similarity."
   ]
  },
  {
   "cell_type": "code",
   "execution_count": 9,
   "id": "9e142a22-32a9-4c67-9b94-2e027f6a9e03",
   "metadata": {},
   "outputs": [],
   "source": [
    "from sklearn import metrics as skm\n",
    "vocab_sim = skm.pairwise.cosine_similarity(vocab_wv)"
   ]
  },
  {
   "cell_type": "markdown",
   "id": "fefa97d6-a77b-4ac4-8f9c-c4bad3136ec0",
   "metadata": {},
   "source": [
    "### Construct a semantic network using cosine similarities as the weights of edges\n",
    "I will use the NetworkX library for semantic network construction and analysis."
   ]
  },
  {
   "cell_type": "code",
   "execution_count": 11,
   "id": "e5cdd3da-919d-4236-99e6-5b70146e09f8",
   "metadata": {},
   "outputs": [
    {
     "data": {
      "image/png": "[encoded data removed]",
      "text/plain": [
       "<Figure size 720x720 with 1 Axes>"
      ]
     },
     "metadata": {},
     "output_type": "display_data"
    }
   ],
   "source": [
    "g = nx.Graph()\n",
    "E = 0.19  # similarity threshold suggested in literature\n",
    "\n",
    "for a, wordA in enumerate(vocab):\n",
    "    for b, wordB in enumerate(vocab):\n",
    "        if wordA != wordB and vocab_sim[a,b] >= E:\n",
    "            g.add_edge(wordA, wordB, weight=vocab_sim[a,b])\n",
    "            \n",
    "\n",
    "options = {\n",
    "    \"node_color\": \"lightgreen\",\n",
    "    \"node_size\": 900,\n",
    "    \"edge_color\": \"black\",\n",
    "    \"width\": 1.5,\n",
    "    \"edgecolors\": \"none\",\n",
    "    \"font_color\": \"black\",\n",
    "    \"font_weight\": \"bold\",\n",
    "    \"font_size\": \"12\",\n",
    "}\n",
    "\n",
    "plt.figure(figsize=(10,10))\n",
    "pos = nx.spring_layout(g, seed=0)\n",
    "nx.draw(g, pos, with_labels=True, **options)"
   ]
  },
  {
   "cell_type": "markdown",
   "id": "5502d9d0-7bbb-4d47-9e1f-1f056f168c0a",
   "metadata": {},
   "source": [
    "---\n",
    "\n",
    "# 3 Semantic network analysis\n",
    "\n",
    "## 3.1 Characterizing semantic network"
   ]
  },
  {
   "cell_type": "code",
   "execution_count": 13,
   "id": "9eb7b073-3aa2-4ed6-85b4-d510a2ce2e95",
   "metadata": {},
   "outputs": [
    {
     "name": "stdout",
     "output_type": "stream",
     "text": [
      "[{'dolly', 'baby', 'bobby', 'bear', 'teddybear', 'mommy', 'kitty'},\n",
      " {'ball', 'bike', 'chair', 'clock', 'cut', 'door', 'ear', 'eye', 'eyes',\n",
      "  'floor', 'hair', 'hat', 'light', 'nose', 'pin', 'ride', 'shoe', 'sink',\n",
      "  'spoon', 'teeth'}]\n"
     ]
    },
    {
     "data": {
      "text/plain": [
       "2"
      ]
     },
     "execution_count": 13,
     "metadata": {},
     "output_type": "execute_result"
    }
   ],
   "source": [
    "# Number of nodes\n",
    "g.number_of_nodes()\n",
    "\n",
    "# Number of edges\n",
    "g.number_of_edges()\n",
    "\n",
    "# Average degree\n",
    "degree_values = [v for k, v in g.degree()]\n",
    "np.mean(degree_values)\n",
    "\n",
    "# Average distance\n",
    "for C in (g.subgraph(c).copy() for c in nx.connected_components(g)):\n",
    "    nx.average_shortest_path_length(C)\n",
    "p = dict(nx.shortest_path_length(g))\n",
    "\n",
    "# Average local clustering coefficient\n",
    "nx.average_clustering(g)\n",
    "\n",
    "# all_pairs_node_connectivity\n",
    "nx.all_pairs_node_connectivity(g)\n",
    "\n",
    "# connected components\n",
    "cp.pprint(list(nx.connected_components(g)))\n",
    "nx.number_connected_components(g)"
   ]
  },
  {
   "cell_type": "code",
   "execution_count": null,
   "id": "7884f506-e749-4a19-9845-6b57e7d19c9c",
   "metadata": {},
   "outputs": [],
   "source": [
    "# More metrics\n",
    "\n",
    "# diameter\n",
    "# The function computes a lower bound on the diameter\n",
    "#  (i.e., the maximum eccentricity) of a directed or undirected graph G.\n",
    "# The procedure used varies depending on the graph being directed or not.\n",
    "# nx.diameter(g)\n",
    "\n",
    "# nx.average_degree_connectivity(g)\n",
    "# nx.degree_centrality(g)\n",
    "\n",
    "# Small-world-ness\n",
    "# nx.sigma(g)"
   ]
  },
  {
   "cell_type": "code",
   "execution_count": null,
   "id": "1f784769-ab6d-4fbb-b67c-c4922fcad6b4",
   "metadata": {},
   "outputs": [],
   "source": []
  }
 ],
 "metadata": {
  "kernelspec": {
   "display_name": "Python 3 (ipykernel)",
   "language": "python",
   "name": "python3"
  },
  "language_info": {
   "codemirror_mode": {
    "name": "ipython",
    "version": 3
   },
   "file_extension": ".py",
   "mimetype": "text/x-python",
   "name": "python",
   "nbconvert_exporter": "python",
   "pygments_lexer": "ipython3",
   "version": "3.9.7"
  }
 },
 "nbformat": 4,
 "nbformat_minor": 5
}
