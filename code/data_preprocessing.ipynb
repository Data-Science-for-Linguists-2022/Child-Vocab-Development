{
 "cells": [
  {
   "cell_type": "markdown",
   "id": "f1f6a543-3738-4b69-8409-711d20d6dd16",
   "metadata": {
    "tags": []
   },
   "source": [
    "# Data preprocessing\n",
    "\n",
    "Man Ho Wong, University of Pittsburgh | April 23, 2022\n",
    "\n",
    "*Jupyter notebooks are not always rendered properly on Github. Please [view this notebook here on nbviewer](https://nbviewer.org/github/Data-Science-for-Linguists-2022/Child-Vocab-Development/blob/main/code/data_preprocessing.ipynb) if that happens.*\n",
    "\n",
    "##### Script header"
   ]
  },
  {
   "cell_type": "code",
   "execution_count": 1,
   "id": "504c7cb0-fdfc-44a4-bda0-bd9093ae0a7e",
   "metadata": {},
   "outputs": [],
   "source": [
    "# Python libraries and packages required\n",
    "from collections import Counter\n",
    "import matplotlib.pyplot as plt\n",
    "import numpy as np\n",
    "import pandas as pd\n",
    "import pickle\n",
    "import pprint                    # For pretty printing\n",
    "import pylangacq                 # For reading CHAT files\n",
    "\n",
    "# For showing progress bar (optional)\n",
    "#   This is useful for estimating the efficiency of the code.\n",
    "from tqdm import tqdm\n",
    "\n",
    "# Unpickle data\n",
    "data_idx = pickle.load(open('../data/childes/data_idx_unprocessed.pkl', 'rb'))\n",
    "\n",
    "# Pretty printing for better readability\n",
    "# With this, you can print dict in compact format instead of one item\n",
    "#   per line. Items will be in alphabetical order. Nested Dict will be printed \n",
    "#   with suitable indentation. It will also print Counter in descending order.\n",
    "#   To use this, call cp.pprint()\n",
    "cp = pprint.PrettyPrinter(compact=True, sort_dicts=True)\n",
    "\n",
    "# Function to get all labels of a given variable (e.g. 'mot_edu')\n",
    "def get_labels(var):\n",
    "    labels_by_corpus = {}\n",
    "    corpus_set = set(data_idx.corpus)\n",
    "    for c in corpus_set:\n",
    "        labels_by_corpus[c] = set(data_idx[var][data_idx.corpus==c])\n",
    "    return labels_by_corpus"
   ]
  },
  {
   "cell_type": "markdown",
   "id": "00564c44-f094-4bf3-8067-d4813de96f56",
   "metadata": {},
   "source": [
    "---\n",
    "\n",
    "# 1 Overview\n",
    "\n",
    "> Data processing pipeline:  \n",
    ">[`data_curation.ipynb`](https://github.com/Data-Science-for-Linguists-2022/Child-Vocab-Development/blob/main/code/data_curation.ipynb)  \n",
    ">`data_preprocessing.ipynb`  <-- You are here  \n",
    ">[`exploratory_analysis.ipynb`](https://github.com/Data-Science-for-Linguists-2022/Child-Vocab-Development/blob/main/code/exploratory_analysis.ipynb)  \n",
    ">[`vocabulary_analysis.ipynb`](https://github.com/Data-Science-for-Linguists-2022/Child-Vocab-Development/blob/main/code/vocabulary_analysis.ipynb)\n",
    "\n",
    "This notebook is the second step of the data processing and analysis pipeline of the project. The goal here is to prepare the data curated by [`data_curation.ipynb`](https://github.com/Data-Science-for-Linguists-2022/Child-Vocab-Development/blob/main/code/data_curation.ipynb) for linguistic analysis later.\n",
    "\n",
    "### Table of contents\n",
    "1. [Overview](#1-overview)\n",
    "    - [1.1 Quick recap](#11-quick-recap)\n",
    "2. [Dataset integration](#2-dataset-integration)\n",
    "    - [2.1 Merging `mot_edu` labels](#21-merging-motedu-labels)\n",
    "    - [2.2 Merging `group` labels](#22-merging-group-labels)\n",
    "    - [2.3 Merging `ses` labels](#23-merging-ses-labels)\n",
    "3. [Data cleaning](#3-data-cleaning)\n",
    "    - [3.1 Checking the `situation` labels](#31checking-the-situation-labels)\n",
    "    - [3.2 Data cleaning strategy](#32-data-cleaning-strategy)\n",
    "    - [3.3 Dropping data](#33-dropping-data)\n",
    "4. [Matching files by child participants](#4-matching-files-by-child-participants)\n",
    "5. [Summary](#5-summary)"
   ]
  },
  {
   "cell_type": "markdown",
   "id": "345fd34f-1b12-4eff-a32b-058c522d145d",
   "metadata": {},
   "source": [
    "\n",
    "## 1.1 Quick recap\n",
    "\n",
    "- `data_idx` is a `DataFrame` created by [`data_curation.ipynb`](Data_Science/Child-Vocab-Development/code/data_curation.ipynb). It contains basic information about the CHAT files in the curated dataset. \n",
    "- Each entry in `data_idx` represents one CHAT file.\n",
    "- Each file is specified by multiple *variables* (columns of `data_idx`), which can be a number, a string or a set of strings.\n",
    "- For some variables with a set of discrete values (e.g., `ses` can be `MC`, `UC`, etc.), I will refer these values as *labels*. (e.g., `MC` is a label of the variable `ses`)."
   ]
  },
  {
   "cell_type": "code",
   "execution_count": 2,
   "id": "196b0116-3ad0-4d7a-99ab-791c55cd52a8",
   "metadata": {},
   "outputs": [
    {
     "data": {
      "text/html": [
       "<div>\n",
       "<style scoped>\n",
       "    .dataframe tbody tr th:only-of-type {\n",
       "        vertical-align: middle;\n",
       "    }\n",
       "\n",
       "    .dataframe tbody tr th {\n",
       "        vertical-align: top;\n",
       "    }\n",
       "\n",
       "    .dataframe thead th {\n",
       "        text-align: right;\n",
       "    }\n",
       "</style>\n",
       "<table border=\"1\" class=\"dataframe\">\n",
       "  <thead>\n",
       "    <tr style=\"text-align: right;\">\n",
       "      <th></th>\n",
       "      <th>file_path</th>\n",
       "      <th>corpus</th>\n",
       "      <th>year</th>\n",
       "      <th>participants</th>\n",
       "      <th>name</th>\n",
       "      <th>age_d</th>\n",
       "      <th>age_m</th>\n",
       "      <th>sex</th>\n",
       "      <th>group</th>\n",
       "      <th>ses</th>\n",
       "      <th>mot_edu</th>\n",
       "      <th>situation</th>\n",
       "      <th>activities</th>\n",
       "      <th>study_type</th>\n",
       "    </tr>\n",
       "  </thead>\n",
       "  <tbody>\n",
       "    <tr>\n",
       "      <th>0</th>\n",
       "      <td>../data/childes/Bates/Free20/amy.cha</td>\n",
       "      <td>Bates</td>\n",
       "      <td>NaN</td>\n",
       "      <td>{CHI, MOT}</td>\n",
       "      <td>Target_Child</td>\n",
       "      <td>600</td>\n",
       "      <td>20.0</td>\n",
       "      <td>female</td>\n",
       "      <td>TD</td>\n",
       "      <td>MC</td>\n",
       "      <td>unspecified</td>\n",
       "      <td>unspecified</td>\n",
       "      <td>unspecified</td>\n",
       "      <td>cross, toyplay, TD</td>\n",
       "    </tr>\n",
       "    <tr>\n",
       "      <th>1</th>\n",
       "      <td>../data/childes/Bates/Free20/betty.cha</td>\n",
       "      <td>Bates</td>\n",
       "      <td>NaN</td>\n",
       "      <td>{CHI, MOT}</td>\n",
       "      <td>Betty</td>\n",
       "      <td>600</td>\n",
       "      <td>20.0</td>\n",
       "      <td>female</td>\n",
       "      <td>TD</td>\n",
       "      <td>MC</td>\n",
       "      <td>unspecified</td>\n",
       "      <td>unspecified</td>\n",
       "      <td>unspecified</td>\n",
       "      <td>cross, toyplay, TD</td>\n",
       "    </tr>\n",
       "    <tr>\n",
       "      <th>2</th>\n",
       "      <td>../data/childes/Bates/Free20/chuck.cha</td>\n",
       "      <td>Bates</td>\n",
       "      <td>NaN</td>\n",
       "      <td>{CHI, MOT}</td>\n",
       "      <td>Chuck</td>\n",
       "      <td>600</td>\n",
       "      <td>20.0</td>\n",
       "      <td>male</td>\n",
       "      <td>TD</td>\n",
       "      <td>MC</td>\n",
       "      <td>unspecified</td>\n",
       "      <td>unspecified</td>\n",
       "      <td>unspecified</td>\n",
       "      <td>cross, toyplay, TD</td>\n",
       "    </tr>\n",
       "    <tr>\n",
       "      <th>3</th>\n",
       "      <td>../data/childes/Bates/Free20/doug.cha</td>\n",
       "      <td>Bates</td>\n",
       "      <td>NaN</td>\n",
       "      <td>{CHI, MOT}</td>\n",
       "      <td>Doug</td>\n",
       "      <td>600</td>\n",
       "      <td>20.0</td>\n",
       "      <td>male</td>\n",
       "      <td>TD</td>\n",
       "      <td>MC</td>\n",
       "      <td>unspecified</td>\n",
       "      <td>unspecified</td>\n",
       "      <td>unspecified</td>\n",
       "      <td>cross, toyplay, TD</td>\n",
       "    </tr>\n",
       "    <tr>\n",
       "      <th>4</th>\n",
       "      <td>../data/childes/Bates/Free20/ed.cha</td>\n",
       "      <td>Bates</td>\n",
       "      <td>NaN</td>\n",
       "      <td>{CHI, MOT}</td>\n",
       "      <td>Ed</td>\n",
       "      <td>600</td>\n",
       "      <td>20.0</td>\n",
       "      <td>male</td>\n",
       "      <td>TD</td>\n",
       "      <td>MC</td>\n",
       "      <td>unspecified</td>\n",
       "      <td>unspecified</td>\n",
       "      <td>unspecified</td>\n",
       "      <td>cross, toyplay, TD</td>\n",
       "    </tr>\n",
       "  </tbody>\n",
       "</table>\n",
       "</div>"
      ],
      "text/plain": [
       "                                file_path corpus  year participants  \\\n",
       "0    ../data/childes/Bates/Free20/amy.cha  Bates   NaN   {CHI, MOT}   \n",
       "1  ../data/childes/Bates/Free20/betty.cha  Bates   NaN   {CHI, MOT}   \n",
       "2  ../data/childes/Bates/Free20/chuck.cha  Bates   NaN   {CHI, MOT}   \n",
       "3   ../data/childes/Bates/Free20/doug.cha  Bates   NaN   {CHI, MOT}   \n",
       "4     ../data/childes/Bates/Free20/ed.cha  Bates   NaN   {CHI, MOT}   \n",
       "\n",
       "           name  age_d  age_m     sex group ses      mot_edu    situation  \\\n",
       "0  Target_Child    600   20.0  female    TD  MC  unspecified  unspecified   \n",
       "1         Betty    600   20.0  female    TD  MC  unspecified  unspecified   \n",
       "2         Chuck    600   20.0    male    TD  MC  unspecified  unspecified   \n",
       "3          Doug    600   20.0    male    TD  MC  unspecified  unspecified   \n",
       "4            Ed    600   20.0    male    TD  MC  unspecified  unspecified   \n",
       "\n",
       "    activities          study_type  \n",
       "0  unspecified  cross, toyplay, TD  \n",
       "1  unspecified  cross, toyplay, TD  \n",
       "2  unspecified  cross, toyplay, TD  \n",
       "3  unspecified  cross, toyplay, TD  \n",
       "4  unspecified  cross, toyplay, TD  "
      ]
     },
     "execution_count": 2,
     "metadata": {},
     "output_type": "execute_result"
    }
   ],
   "source": [
    "data_idx.head()"
   ]
  },
  {
   "cell_type": "code",
   "execution_count": 3,
   "id": "1ad77508-743f-43e2-9ec2-2ff09a87af28",
   "metadata": {},
   "outputs": [
    {
     "name": "stdout",
     "output_type": "stream",
     "text": [
      "<class 'pandas.core.frame.DataFrame'>\n",
      "RangeIndex: 2611 entries, 0 to 2610\n",
      "Data columns (total 14 columns):\n",
      " #   Column        Non-Null Count  Dtype  \n",
      "---  ------        --------------  -----  \n",
      " 0   file_path     2611 non-null   object \n",
      " 1   corpus        2611 non-null   object \n",
      " 2   year          1211 non-null   float64\n",
      " 3   participants  2611 non-null   object \n",
      " 4   name          2611 non-null   object \n",
      " 5   age_d         2611 non-null   int64  \n",
      " 6   age_m         2611 non-null   float64\n",
      " 7   sex           2611 non-null   object \n",
      " 8   group         2611 non-null   object \n",
      " 9   ses           2611 non-null   object \n",
      " 10  mot_edu       2611 non-null   object \n",
      " 11  situation     2611 non-null   object \n",
      " 12  activities    2611 non-null   object \n",
      " 13  study_type    2611 non-null   object \n",
      "dtypes: float64(2), int64(1), object(11)\n",
      "memory usage: 285.7+ KB\n"
     ]
    }
   ],
   "source": [
    "data_idx.info()"
   ]
  },
  {
   "cell_type": "markdown",
   "id": "fc3361cb-8567-41b4-9587-6c8532afb630",
   "metadata": {},
   "source": [
    "---\n",
    "\n",
    "# 2 Dataset integration\n",
    "\n",
    "As mentioned in `data_curation.ipynb`, not all corpora use the same labels for some variables. For example, some corpora use school grade year to define mother's education (`mot_edu`), and some use level of education (e.g. 'college'):"
   ]
  },
  {
   "cell_type": "code",
   "execution_count": 4,
   "id": "8f54de0d-cd1c-4228-9fac-5b36415f4ec4",
   "metadata": {},
   "outputs": [
    {
     "name": "stdout",
     "output_type": "stream",
     "text": [
      "{'**', '10', '10 , GED', '102', '11', '11 , GED', '11+', '12', '12+', '13',\n",
      " '13+', '14', '15', '16', '6', '7', '8', '9', \"Associate's_Degree\", 'College',\n",
      " 'College_Doctoral', 'College_J.D.', \"College_Master's\", 'High_School_Diploma',\n",
      " 'MOT_1', 'MOT_2', 'MOT_3', 'Some_College', 'XX', 'almost 12', 'unspecified'}\n"
     ]
    }
   ],
   "source": [
    "mot_edu_labels = set(data_idx.mot_edu)\n",
    "cp.pprint(mot_edu_labels)  # Print compactly"
   ]
  },
  {
   "cell_type": "markdown",
   "id": "a8873969-e03f-4e1e-8bea-9eae40d49865",
   "metadata": {},
   "source": [
    "Besides `mot_edu`, other variables with different labels used in different corpora include:  \n",
    "- `group` (child's developmental group, e.g. typically developed)\n",
    "- `ses` (Child's SES (socioeconomic status; same as mother's))\n",
    "- `situation` Situation of recording (e.g. play session)\n",
    "- `activities` (Activities during recording, e.g. Toy play)\n",
    "- `study_type` type of study (e.g. longitudinal study)\n",
    "    \n",
    "I will change the labels for some of these variables, so that all corpora use the same set of labels.\n",
    "\n",
    "Below is a list of homepages for all the corpora appeared in the curated dataset. You can find the basic information about the corpus, such as variable and label definitions, on its homepage and in the linked publications. I will check these pages when the variable labels are ambiguous."
   ]
  },
  {
   "cell_type": "code",
   "execution_count": 5,
   "id": "ca34969a-2c41-4e2d-bbab-fd22b5b63d18",
   "metadata": {},
   "outputs": [
    {
     "name": "stdout",
     "output_type": "stream",
     "text": [
      "{'Bates': 'https://childes.talkbank.org/access/Eng-NA/Bates.html',\n",
      " 'Bernstein': 'https://childes.talkbank.org/access/Eng-NA/Bernstein.html',\n",
      " 'Brown': 'https://childes.talkbank.org/access/Eng-NA/Brown.html',\n",
      " 'Clark': 'https://childes.talkbank.org/access/Eng-NA/Clark.html',\n",
      " 'Demetras2': 'https://childes.talkbank.org/access/Eng-NA/Demetras2.html',\n",
      " 'Gleason': 'https://childes.talkbank.org/access/Eng-NA/Gleason.html',\n",
      " 'HSLLD': 'https://childes.talkbank.org/access/Eng-NA/HSLLD.html',\n",
      " 'Hall': 'https://childes.talkbank.org/access/Eng-NA/Hall.html',\n",
      " 'Hicks': 'https://childes.talkbank.org/access/Eng-NA/Hicks.html',\n",
      " 'Nelson': 'https://childes.talkbank.org/access/Eng-NA/Nelson.html',\n",
      " 'NewmanRatner': 'https://childes.talkbank.org/access/Eng-NA/NewmanRatner.html',\n",
      " 'Post': 'https://childes.talkbank.org/access/Eng-NA/Post.html',\n",
      " 'VanHouten': 'https://childes.talkbank.org/access/Eng-NA/VanHouten.html'}\n"
     ]
    }
   ],
   "source": [
    "corpus_homepages = {}\n",
    "corpus_set = set(data_idx.corpus)\n",
    "\n",
    "for c in corpus_set:\n",
    "    url = \"https://childes.talkbank.org/access/Eng-NA/\" + c + \".html\"\n",
    "    corpus_homepages[c] = url\n",
    "\n",
    "cp.pprint(corpus_homepages)"
   ]
  },
  {
   "cell_type": "markdown",
   "id": "1de6bf77-5182-43a7-b6bf-4388bfcef4e4",
   "metadata": {},
   "source": [
    "## 2.1 Merging `mot_edu` labels\n",
    "\n",
    "I will start with the 'simplest' variable, `mot_edu`.\n",
    "First, let's find out which of the above labels each corpus uses for `mot_edu`. I will use a self-defined function, `get_labels()` (see header section of this notebook):"
   ]
  },
  {
   "cell_type": "code",
   "execution_count": 6,
   "id": "46e9c964-dd4e-47f3-ae0f-460294291ab6",
   "metadata": {},
   "outputs": [
    {
     "name": "stdout",
     "output_type": "stream",
     "text": [
      "{'Bates': {'unspecified'},\n",
      " 'Bernstein': {'unspecified'},\n",
      " 'Brown': {'unspecified'},\n",
      " 'Clark': {'unspecified'},\n",
      " 'Demetras2': {'unspecified'},\n",
      " 'Gleason': {'unspecified'},\n",
      " 'HSLLD': {'**', '10', '10 , GED', '102', '11', '11 , GED', '11+', '12', '12+',\n",
      "           '13', '13+', '14', '15', '16', '6', '7', '8', '9', 'XX', 'almost 12',\n",
      "           'unspecified'},\n",
      " 'Hall': {'unspecified'},\n",
      " 'Hicks': {'unspecified'},\n",
      " 'Nelson': {'unspecified'},\n",
      " 'NewmanRatner': {\"Associate's_Degree\", 'College', 'College_Doctoral',\n",
      "                  'College_J.D.', \"College_Master's\", 'High_School_Diploma',\n",
      "                  'Some_College', 'unspecified'},\n",
      " 'Post': {'unspecified'},\n",
      " 'VanHouten': {'unspecified', 'MOT_2', 'MOT_3', 'MOT_1'}}\n"
     ]
    }
   ],
   "source": [
    "cp.pprint(get_labels('mot_edu'))  # get_labels() is defined in header section"
   ]
  },
  {
   "cell_type": "markdown",
   "id": "97fb5f00-5bbd-473b-ae78-c57ac1a5b52a",
   "metadata": {
    "jp-MarkdownHeadingCollapsed": true,
    "tags": []
   },
   "source": [
    "--\n",
    "  \n",
    "As shown here, different classifications of education level are used in three corpora (HSLLD, NewmanRatner and VanHouten). HSLLD has a very detailed classification while VanHouten has only three classes. To merge all the labels across different corpora, I will use a less detailed classification without losing information needed for this project.\n",
    "\n",
    "The labels used in HSLLD correspond to the school grade year the mother achieved. In the U.S. educational system, 'GED' is equivalent to completing grade 12, so I will merge these two classes as one. The labels '13' and beyond correspond to some post-secondary education (e.g. vocational training).\n",
    "\n",
    "According to VanHouten's documentation, mother’s education is classified as MOT_1 (completed junior high), MOT_2 (completed high school) or MOT_3 (some post-secondary education).\n",
    "\n",
    "I will merge the current labels into the following labels according to their common definitions: \n",
    "\n",
    "- `JH-`, `HS-`, `HS`, `HS+` for:\n",
    "    - before completing junior high (before grade 9),\n",
    "    - before completing high school (before GED or grade 12),\n",
    "    - completed high school (GED or grade 12), and\n",
    "    - some post-secondary education (after high school).\n",
    "\n",
    "- `AD`, `UG-`, `UG` for:\n",
    "    - associate's degree,\n",
    "    - some undergraduate education, and\n",
    "    - bachelor's degree.\n",
    "\n",
    "- `MS`, `JD`, `DR` for:\n",
    "    - master's degree,\n",
    "    - juris doctor degree, and\n",
    "    - doctoral degree.\n",
    "    \n",
    "I will map the current `mot_edu` labels to the above new labels with a `dictionary` and update `data_idx` with the new labels:"
   ]
  },
  {
   "cell_type": "code",
   "execution_count": 7,
   "id": "f06bcf1c-bb74-4995-af05-6b1d33bbb050",
   "metadata": {},
   "outputs": [
    {
     "name": "stdout",
     "output_type": "stream",
     "text": [
      "{'Bates': {'unspecified'},\n",
      " 'Bernstein': {'unspecified'},\n",
      " 'Brown': {'unspecified'},\n",
      " 'Clark': {'unspecified'},\n",
      " 'Demetras2': {'unspecified'},\n",
      " 'Gleason': {'unspecified'},\n",
      " 'HSLLD': {'HS', 'unspecified', 'HS-', 'JH-', 'HS+'},\n",
      " 'Hall': {'unspecified'},\n",
      " 'Hicks': {'unspecified'},\n",
      " 'Nelson': {'unspecified'},\n",
      " 'NewmanRatner': {'DR', 'MS', 'HS', 'unspecified', 'UG-', 'UG', 'JD', 'AD'},\n",
      " 'Post': {'unspecified'},\n",
      " 'VanHouten': {'unspecified', 'HS-', 'HS+', 'HS'}}\n"
     ]
    }
   ],
   "source": [
    "# Function to update 'mot_edu'\n",
    "def update_mot_edu(data):\n",
    "    label = data\n",
    "    #' mot_edu' label mapping\n",
    "    EDU_DICT = {\n",
    "              'JH-':['6','7','8'],\n",
    "              'HS-':['9','10','11','11+','almost 12','MOT_1'],\n",
    "              'HS':['10 , GED','11 , GED','12','12+',\n",
    "                    'High_School_Diploma','MOT_2'],\n",
    "              'HS+':['13','13+','14','15','16','MOT_3'],\n",
    "              'AD':[\"Associate's_Degree\"],\n",
    "              'UG-':['Some_College'],\n",
    "              'UG':['College'], \n",
    "              'MS':[\"College_Master's\"],\n",
    "              'JD':['College_J.D.'],    \n",
    "              'DR':['College_Doctoral'],\n",
    "              'unspecified':['**','102','XX','unspecified']\n",
    "               }\n",
    "    \n",
    "    for key in EDU_DICT:\n",
    "        if data in EDU_DICT[key]:\n",
    "            label = key\n",
    "    return label\n",
    "\n",
    "# Update 'mot_edu'\n",
    "data_idx.mot_edu = data_idx.mot_edu.map(update_mot_edu)\n",
    "\n",
    "# Check if update was successful\n",
    "cp.pprint(get_labels('mot_edu'))"
   ]
  },
  {
   "cell_type": "markdown",
   "id": "7aa80639-4ba2-4d47-901a-e7f48983074c",
   "metadata": {},
   "source": [
    "--\n",
    "\n",
    "All labels for `mot_edu` were updated sucessfully!"
   ]
  },
  {
   "cell_type": "markdown",
   "id": "4c8fb19e-4e70-4d80-9596-2cced3f53580",
   "metadata": {},
   "source": [
    "## 2.2 Merging `group` labels\n",
    "\n",
    "Below are the labels used in different corpora:"
   ]
  },
  {
   "cell_type": "code",
   "execution_count": 8,
   "id": "f766a891-419a-4f5e-b1e5-eec689bbcebf",
   "metadata": {},
   "outputs": [
    {
     "name": "stdout",
     "output_type": "stream",
     "text": [
      "{'Bates': {'TD'},\n",
      " 'Bernstein': {'unspecified', 'TD'},\n",
      " 'Brown': {'unspecified', 'TD'},\n",
      " 'Clark': {'TD'},\n",
      " 'Demetras2': {'unspecified', 'TD'},\n",
      " 'Gleason': {'unspecified', 'typical', 'normal', 'TD'},\n",
      " 'HSLLD': {'unspecified'},\n",
      " 'Hall': {'unspecified', 'TD', 'White,UC'},\n",
      " 'Hicks': {'unspecified'},\n",
      " 'Nelson': {'unspecified'},\n",
      " 'NewmanRatner': {'TD'},\n",
      " 'Post': {'TD'},\n",
      " 'VanHouten': {'MOT_Adolescent', 'MOT_Adolescent_', 'MOT_Older', 'MOT_Older_',\n",
      "               'MOT_adolescent', 'MOT_older', 'TD', 'unspecified'}}\n"
     ]
    }
   ],
   "source": [
    "cp.pprint(get_labels('group'))"
   ]
  },
  {
   "cell_type": "markdown",
   "id": "e4cb59a9-7ca0-434f-8ad2-d76dca08c400",
   "metadata": {},
   "source": [
    "--\n",
    "\n",
    "As shown above, the `group` information of each file is not properly speficied in every corpus: \n",
    "- According the documentations of the corpora, all children in the dataset should be typically developed (`TD` in `group`). However, not all corpora put this information in the `group` field in the header of each file. Therefore, I will change the `unspecified` label to `TD`.\n",
    "- in the Gleason corpus, labels `normal` and `typical` are used in additon to `TD`. I will change all labels to `TD`.\n",
    "- In the Hall corpus, the labels for `group` and `ses` were switched in some files (e.g. `White,UC` should be a label for `ses`). I will switch them first and change all `group` labels to `TD`.\n",
    "- In the VanHouten corpus, all children are `TD`, but it also contains data from adolescent mothers which I will not use for this project. I will first remove these files and change all labels to `TD`.\n",
    "\n",
    "Let's take a quick look at the Hall corpus first:"
   ]
  },
  {
   "cell_type": "code",
   "execution_count": 9,
   "id": "9564ce9b-60ed-4127-89c2-2253f2847d91",
   "metadata": {},
   "outputs": [
    {
     "data": {
      "text/html": [
       "<div>\n",
       "<style scoped>\n",
       "    .dataframe tbody tr th:only-of-type {\n",
       "        vertical-align: middle;\n",
       "    }\n",
       "\n",
       "    .dataframe tbody tr th {\n",
       "        vertical-align: top;\n",
       "    }\n",
       "\n",
       "    .dataframe thead th {\n",
       "        text-align: right;\n",
       "    }\n",
       "</style>\n",
       "<table border=\"1\" class=\"dataframe\">\n",
       "  <thead>\n",
       "    <tr style=\"text-align: right;\">\n",
       "      <th></th>\n",
       "      <th>group</th>\n",
       "      <th>ses</th>\n",
       "      <th>study_type</th>\n",
       "    </tr>\n",
       "  </thead>\n",
       "  <tbody>\n",
       "    <tr>\n",
       "      <th>1471</th>\n",
       "      <td>unspecified</td>\n",
       "      <td>Black,WC</td>\n",
       "      <td>cross, everyday, AAE</td>\n",
       "    </tr>\n",
       "    <tr>\n",
       "      <th>1472</th>\n",
       "      <td>unspecified</td>\n",
       "      <td>Black,WC</td>\n",
       "      <td>cross, everyday, AAE</td>\n",
       "    </tr>\n",
       "    <tr>\n",
       "      <th>1473</th>\n",
       "      <td>unspecified</td>\n",
       "      <td>Black,WC</td>\n",
       "      <td>cross, everyday, AAE</td>\n",
       "    </tr>\n",
       "    <tr>\n",
       "      <th>1474</th>\n",
       "      <td>unspecified</td>\n",
       "      <td>Black,WC</td>\n",
       "      <td>cross, everyday, AAE</td>\n",
       "    </tr>\n",
       "    <tr>\n",
       "      <th>1475</th>\n",
       "      <td>unspecified</td>\n",
       "      <td>Black,WC</td>\n",
       "      <td>cross, everyday, AAE</td>\n",
       "    </tr>\n",
       "    <tr>\n",
       "      <th>1476</th>\n",
       "      <td>unspecified</td>\n",
       "      <td>Black,WC</td>\n",
       "      <td>cross, everyday, AAE</td>\n",
       "    </tr>\n",
       "    <tr>\n",
       "      <th>1477</th>\n",
       "      <td>unspecified</td>\n",
       "      <td>Black,WC</td>\n",
       "      <td>cross, everyday, AAE</td>\n",
       "    </tr>\n",
       "    <tr>\n",
       "      <th>1478</th>\n",
       "      <td>unspecified</td>\n",
       "      <td>Black,WC</td>\n",
       "      <td>cross, everyday, AAE</td>\n",
       "    </tr>\n",
       "    <tr>\n",
       "      <th>1479</th>\n",
       "      <td>unspecified</td>\n",
       "      <td>Black,WC</td>\n",
       "      <td>cross, everyday, AAE</td>\n",
       "    </tr>\n",
       "    <tr>\n",
       "      <th>1480</th>\n",
       "      <td>unspecified</td>\n",
       "      <td>Black,WC</td>\n",
       "      <td>cross, everyday, AAE</td>\n",
       "    </tr>\n",
       "    <tr>\n",
       "      <th>1482</th>\n",
       "      <td>White,UC</td>\n",
       "      <td>unspecified</td>\n",
       "      <td>cross, everyday, TD</td>\n",
       "    </tr>\n",
       "    <tr>\n",
       "      <th>1485</th>\n",
       "      <td>White,UC</td>\n",
       "      <td>unspecified</td>\n",
       "      <td>cross, everyday, TD</td>\n",
       "    </tr>\n",
       "    <tr>\n",
       "      <th>1492</th>\n",
       "      <td>unspecified</td>\n",
       "      <td>unspecified</td>\n",
       "      <td>unspecified</td>\n",
       "    </tr>\n",
       "  </tbody>\n",
       "</table>\n",
       "</div>"
      ],
      "text/plain": [
       "            group          ses            study_type\n",
       "1471  unspecified     Black,WC  cross, everyday, AAE\n",
       "1472  unspecified     Black,WC  cross, everyday, AAE\n",
       "1473  unspecified     Black,WC  cross, everyday, AAE\n",
       "1474  unspecified     Black,WC  cross, everyday, AAE\n",
       "1475  unspecified     Black,WC  cross, everyday, AAE\n",
       "1476  unspecified     Black,WC  cross, everyday, AAE\n",
       "1477  unspecified     Black,WC  cross, everyday, AAE\n",
       "1478  unspecified     Black,WC  cross, everyday, AAE\n",
       "1479  unspecified     Black,WC  cross, everyday, AAE\n",
       "1480  unspecified     Black,WC  cross, everyday, AAE\n",
       "1482     White,UC  unspecified   cross, everyday, TD\n",
       "1485     White,UC  unspecified   cross, everyday, TD\n",
       "1492  unspecified  unspecified           unspecified"
      ]
     },
     "execution_count": 9,
     "metadata": {},
     "output_type": "execute_result"
    }
   ],
   "source": [
    "labels = ['TD', 'typical', 'normal']\n",
    "data_idx[['group','ses','study_type']][(data_idx.corpus=='Hall') & \n",
    "                                       ~(data_idx.group.isin(labels))]"
   ]
  },
  {
   "cell_type": "markdown",
   "id": "8922168c-b4be-4873-806a-70080c8f02cf",
   "metadata": {},
   "source": [
    "As shown above in row 1482 and 1485, the label `White,UC` (i.e. upper class white) is actually a label for `ses`. I will copy the labels to `ses` of the corresponding rows:"
   ]
  },
  {
   "cell_type": "code",
   "execution_count": 10,
   "id": "b173992f-2ca7-477f-add2-47eaaefbe181",
   "metadata": {},
   "outputs": [
    {
     "data": {
      "text/html": [
       "<div>\n",
       "<style scoped>\n",
       "    .dataframe tbody tr th:only-of-type {\n",
       "        vertical-align: middle;\n",
       "    }\n",
       "\n",
       "    .dataframe tbody tr th {\n",
       "        vertical-align: top;\n",
       "    }\n",
       "\n",
       "    .dataframe thead th {\n",
       "        text-align: right;\n",
       "    }\n",
       "</style>\n",
       "<table border=\"1\" class=\"dataframe\">\n",
       "  <thead>\n",
       "    <tr style=\"text-align: right;\">\n",
       "      <th></th>\n",
       "      <th>group</th>\n",
       "      <th>ses</th>\n",
       "      <th>study_type</th>\n",
       "    </tr>\n",
       "  </thead>\n",
       "  <tbody>\n",
       "    <tr>\n",
       "      <th>1482</th>\n",
       "      <td>White,UC</td>\n",
       "      <td>White,UC</td>\n",
       "      <td>cross, everyday, TD</td>\n",
       "    </tr>\n",
       "    <tr>\n",
       "      <th>1485</th>\n",
       "      <td>White,UC</td>\n",
       "      <td>White,UC</td>\n",
       "      <td>cross, everyday, TD</td>\n",
       "    </tr>\n",
       "  </tbody>\n",
       "</table>\n",
       "</div>"
      ],
      "text/plain": [
       "         group       ses           study_type\n",
       "1482  White,UC  White,UC  cross, everyday, TD\n",
       "1485  White,UC  White,UC  cross, everyday, TD"
      ]
     },
     "execution_count": 10,
     "metadata": {},
     "output_type": "execute_result"
    }
   ],
   "source": [
    "data_idx.loc[data_idx.group=='White,UC','ses'] = 'White,UC'\n",
    "\n",
    "# Check if ses labels were updated\n",
    "data_idx.loc[[1482,1485],['group','ses','study_type']]\n"
   ]
  },
  {
   "cell_type": "markdown",
   "id": "c8276bee-3656-401c-a8b7-b13ae1de181b",
   "metadata": {},
   "source": [
    "Note that the `group` labels are still `White,UC`, but I will change them to `TD` together with other corpora later.  \n",
    "Next, I will drop the data collected from adolescent mothers in the VanHouten corpus:"
   ]
  },
  {
   "cell_type": "code",
   "execution_count": 11,
   "id": "4dfd2c1d-7e4d-4fe0-a8c2-a4eb5fc2e288",
   "metadata": {},
   "outputs": [
    {
     "name": "stdout",
     "output_type": "stream",
     "text": [
      "{'Bates': {'TD'},\n",
      " 'Bernstein': {'unspecified', 'TD'},\n",
      " 'Brown': {'unspecified', 'TD'},\n",
      " 'Clark': {'TD'},\n",
      " 'Demetras2': {'unspecified', 'TD'},\n",
      " 'Gleason': {'unspecified', 'typical', 'normal', 'TD'},\n",
      " 'HSLLD': {'unspecified'},\n",
      " 'Hall': {'unspecified', 'TD', 'White,UC'},\n",
      " 'Hicks': {'unspecified'},\n",
      " 'Nelson': {'unspecified'},\n",
      " 'NewmanRatner': {'TD'},\n",
      " 'Post': {'TD'},\n",
      " 'VanHouten': {'unspecified', 'MOT_older', 'MOT_Older', 'MOT_Older_', 'TD'}}\n",
      "43 files dropped!\n"
     ]
    }
   ],
   "source": [
    "drop_tags = ['MOT_Adolescent', 'MOT_Adolescent_', 'MOT_adolescent']\n",
    "n_drop_group = len(data_idx[data_idx.group.isin(drop_tags)])\n",
    "data_idx.drop(data_idx[data_idx.group.isin(drop_tags)].index, inplace=True)\n",
    "\n",
    "# Check current labels\n",
    "cp.pprint(get_labels('group'))\n",
    "\n",
    "print(n_drop_group, 'files dropped!')"
   ]
  },
  {
   "cell_type": "markdown",
   "id": "fa93f8d5-b84a-4c31-b4dd-894cb671ff70",
   "metadata": {},
   "source": [
    "--\n",
    "\n",
    "Finally, we are ready to change all the labels to `TD`!"
   ]
  },
  {
   "cell_type": "code",
   "execution_count": 12,
   "id": "372fdcb7-cad6-47d0-9a0b-50249057d456",
   "metadata": {},
   "outputs": [
    {
     "name": "stdout",
     "output_type": "stream",
     "text": [
      "{'Bates': {'TD'},\n",
      " 'Bernstein': {'TD'},\n",
      " 'Brown': {'TD'},\n",
      " 'Clark': {'TD'},\n",
      " 'Demetras2': {'TD'},\n",
      " 'Gleason': {'TD'},\n",
      " 'HSLLD': {'TD'},\n",
      " 'Hall': {'TD'},\n",
      " 'Hicks': {'TD'},\n",
      " 'Nelson': {'TD'},\n",
      " 'NewmanRatner': {'TD'},\n",
      " 'Post': {'TD'},\n",
      " 'VanHouten': {'TD'}}\n"
     ]
    }
   ],
   "source": [
    "# Change all 'group' label to \n",
    "data_idx['group'] = 'TD'\n",
    "\n",
    "# Check updated labels\n",
    "cp.pprint(get_labels('group'))"
   ]
  },
  {
   "cell_type": "markdown",
   "id": "dd139948-239b-4e5c-836f-11f064d57541",
   "metadata": {},
   "source": [
    "--\n",
    "\n",
    "## 2.3 Merging `ses` labels\n",
    "\n",
    "Below are the labels for `ses`:"
   ]
  },
  {
   "cell_type": "code",
   "execution_count": 13,
   "id": "b7dfad76-06de-41ba-9cdf-012c21a5900e",
   "metadata": {},
   "outputs": [
    {
     "name": "stdout",
     "output_type": "stream",
     "text": [
      "{'Bates': {'MC'},\n",
      " 'Bernstein': {'unspecified', 'MC'},\n",
      " 'Brown': {'unspecified', 'MC'},\n",
      " 'Clark': {'UC'},\n",
      " 'Demetras2': {'unspecified', 'WC'},\n",
      " 'Gleason': {'unspecified', 'MC'},\n",
      " 'HSLLD': {'unspecified'},\n",
      " 'Hall': {'Black,UC', 'White,UC', 'Black,WC', 'unspecified', 'White,WC'},\n",
      " 'Hicks': {'unspecified', 'LI'},\n",
      " 'Nelson': {'unspecified', 'MC'},\n",
      " 'NewmanRatner': {'unspecified'},\n",
      " 'Post': {'WC'},\n",
      " 'VanHouten': {'unspecified'}}\n"
     ]
    }
   ],
   "source": [
    "cp.pprint(get_labels('ses'))"
   ]
  },
  {
   "cell_type": "markdown",
   "id": "bc05a6af-c78c-4e78-b9e3-a90d48dd55a1",
   "metadata": {},
   "source": [
    "--\n",
    "\n",
    "In these corpora, `WC`, `MC`, `UC` and `LI` mean 'working class', 'middle class', 'upper class' and 'low income' respectively. Different labels are used in different corpora:\n",
    "- In the Hall corpus, each class of `WC` and `UC` is subdivided into two racial groups, `Black` and `White`. Since the primary goal of this project is to investigate the effects of SES and mother's education on vocabulary development, effects from other factors such as race will not be studied. I will merge the labels for different racial groups but same SES class together to get a larger sample size for each class. Although race may play an important role in children's language development, I hope that the balanced distribution of samples from different racial groups in the Hall Corpus will minimize the effects of race on my analysis.\n",
    "- In the Hicks corpus, `LI` ('low income') is used instead of common SES class such as `WC`. Since the majority of low-come families presumably belong to the working class, I will change the label `LI` to `WC`. - Besides, the children in the subdirectories '1st', '2nd', and '5th' were considered coming from `MC` families. The children in the subdirectory 'del' were from lower class (presumably `WC`) families. I will assigned the missed labels accordingly.\n",
    "- It is stated on the homepage of the Bernstein corpus that \"the mothers were all college-educated women, who were native-born Americans with white-collar husband\". Since all families in the study have similar background and some of the files were labeled `MC`, it is very likely that other files should also be labeled `MC`.\n",
    "- The Brown corpus contains data from three children: Adam (`MC`), Sarah (`WC`) and Eve (`unspecified`). I will assigned the missed labels accordingly.\n",
    "- All children in the Demetras2 corpus were from `WC` families.\n",
    "- All children in the Gleason corpus were from `MC` families.\n",
    "- All children in the HSLLD corpus were from low-income families. I will use the label `WC`.\n",
    "- There is only one child in the Nelson corpus and she came from a `MC` family.\n",
    "\n",
    "There are two corpora where no SES class information could be found:\n",
    "- NewmanRatner corpus\n",
    "- VanHouten corpus: Only Hollingshead index (a measurement of SES) is provided.\n",
    "\n",
    "Let's begin cleaning up the `ses` labels:"
   ]
  },
  {
   "cell_type": "code",
   "execution_count": 14,
   "id": "082438a5-f188-4b85-9f28-ba7e279533bf",
   "metadata": {},
   "outputs": [
    {
     "name": "stdout",
     "output_type": "stream",
     "text": [
      "{'Bates': {'MC'},\n",
      " 'Bernstein': {'MC'},\n",
      " 'Brown': {'unspecified', 'MC', 'WC'},\n",
      " 'Clark': {'UC'},\n",
      " 'Demetras2': {'WC'},\n",
      " 'Gleason': {'MC'},\n",
      " 'HSLLD': {'WC'},\n",
      " 'Hall': {'unspecified', 'WC', 'UC'},\n",
      " 'Hicks': {'unspecified', 'MC', 'WC'},\n",
      " 'Nelson': {'MC'},\n",
      " 'NewmanRatner': {'unspecified'},\n",
      " 'Post': {'WC'},\n",
      " 'VanHouten': {'unspecified'}}\n"
     ]
    }
   ],
   "source": [
    "# Function to merge 'ses' labels\n",
    "def merge_ses(data):\n",
    "    label = data\n",
    "    # 'ses' label mapping\n",
    "    SES_DICT = {'WC':['WC', 'Black,WC', 'White,WC', 'LI'],\n",
    "                'UC':['UC', 'Black,UC', 'White,UC']}\n",
    "    for key in SES_DICT:\n",
    "        if data in SES_DICT[key]:\n",
    "            label = key\n",
    "    return label\n",
    "\n",
    "# merge 'ses' labels in Hall and Hicks corpus: \n",
    "data_idx.ses = data_idx.ses.map(merge_ses)\n",
    "\n",
    "# Update labels in Hicks corpus\n",
    "for folder in ['1st','2nd','5th']:\n",
    "    data_idx.loc[((data_idx.corpus=='Hicks') & \n",
    "                  (data_idx.file_path.map(lambda x: folder in x))),'ses'] = 'MC'\n",
    "data_idx.loc[((data_idx.corpus=='Hicks') & \n",
    "              (data_idx.file_path.map(lambda x: 'del' in x))),'ses'] = 'WC'\n",
    "\n",
    "# Update labels in Brown corpus\n",
    "data_idx.loc[((data_idx.corpus=='Brown')&(data_idx.name=='Adam')),'ses']  = 'MC'\n",
    "data_idx.loc[((data_idx.corpus=='Brown')&(data_idx.name=='Sarah')),'ses'] = 'WC'\n",
    "\n",
    "# Update labels in other corpora\n",
    "data_idx.loc[data_idx.corpus=='Bernstein','ses'] = 'MC'\n",
    "data_idx.loc[data_idx.corpus=='Demetras2','ses'] = 'WC'\n",
    "data_idx.loc[data_idx.corpus=='Gleason','ses']   = 'MC'\n",
    "data_idx.loc[data_idx.corpus=='HSLLD','ses']     = 'WC'\n",
    "data_idx.loc[data_idx.corpus=='Nelson','ses']    = 'MC'\n",
    "\n",
    "# # Check updated labels\n",
    "cp.pprint(get_labels('ses'))"
   ]
  },
  {
   "cell_type": "markdown",
   "id": "8700964c-0cb6-40b1-ba2c-27bdf8a0ff4b",
   "metadata": {},
   "source": [
    "---\n",
    "\n",
    "# 3 Data cleaning\n",
    "\n",
    "## 3.1 Checking the `situation` labels\n",
    "\n",
    "The labels for different situations (e.g. play session, book reading, etc.) where the recordings were made could get very detailed in some files. For example:"
   ]
  },
  {
   "cell_type": "code",
   "execution_count": 15,
   "id": "d19c646b-4a24-4b47-956a-1a4fe0edc9b8",
   "metadata": {},
   "outputs": [
    {
     "name": "stdout",
     "output_type": "stream",
     "text": [
      "['unspecified' 'unspecified'\n",
      " 'Second home visit; book reading occurred in the living room with Mot sitting on chair , CHI kneeling next to her'\n",
      " 'Home Visit 3' 'playing with toys' 'unspecified'\n",
      " 'Sarah exits to shut off the tv as the tape begins'\n",
      " 'Home Visit 1; took place in kitchen' 'Night' 'unspecified']\n"
     ]
    }
   ],
   "source": [
    "print(data_idx.situation.sample(10, random_state=1).values)"
   ]
  },
  {
   "cell_type": "markdown",
   "id": "983ea558-04b4-4e14-8e0b-35ab7cfcd286",
   "metadata": {},
   "source": [
    "\n",
    "## 3.2 Data cleaning strategy\n",
    "\n",
    "To clean up the data and remove the files that we don't need, it is not necessary to read each of the `situation` labels one by one. (Unless you have *plenty* of time!) We can just look for the keywords in these labels.\n",
    "\n",
    "For example, I will remove the files that were recorded in less naturalistic situation (e.g. book reading and elicited data where the discourse was more or less 'planned') to get a fair comparison between different corpora. To do this, I will remove entries that contains the keywords \"reading\" and \"elicit\" in their `situation` labels. Note that sometimes such information may be stored in `activities` or `study_type` labels. Therefore, I will look for the keywords in *all* these three labels. Only the most common keywords will be considered as less common keywords are likely irrelvant to the classification of files.\n",
    "\n",
    "Let's generate a list of keywords:"
   ]
  },
  {
   "cell_type": "code",
   "execution_count": 16,
   "id": "0e013699-6363-41b0-91ec-065022613828",
   "metadata": {},
   "outputs": [
    {
     "name": "stdout",
     "output_type": "stream",
     "text": [
      "\n",
      "Top 20 situation keywords (word, count):\n",
      "[('unspecified', 1299), ('home', 658), ('visit', 561), ('the', 439),\n",
      " ('and', 423), ('on', 397), ('in', 339), (',', 315), ('chi', 277), ('mot', 242),\n",
      " ('with', 240), ('is', 196), ('place', 175), ('to', 164), ('living', 158),\n",
      " ('1', 144), ('3', 143), ('mother', 142), ('room', 140), ('kitchen', 139),\n",
      " ('took', 137), ('sitting', 136), ('of', 135), ('at', 126), ('floor', 123),\n",
      " ('sarah', 122), ('a', 121), ('first', 120), ('session', 111), ('visit;', 110),\n",
      " ('second', 101), ('child', 101), ('table', 93), ('are', 90), ('play', 82),\n",
      " ('couch', 79), ('toys', 76), ('playing', 74), ('her', 72), ('2', 71),\n",
      " ('sat', 66), ('next', 65), ('1;', 60), ('room;', 56), ('book', 49),\n",
      " ('playroom', 48), ('3;', 48), ('as', 47), ('toy', 47), ('(lab)', 46)]\n",
      "\n",
      "Top 20 activity keywords (word, count):\n",
      "[('unspecified', 1668), ('reading', 223), ('toy', 223), ('play', 213),\n",
      " ('report', 210), ('elicited', 208), ('book', 199), ('time', 153),\n",
      " ('meal', 150), ('the', 101), (',', 79), ('and', 74), ('3', 67), ('task', 65),\n",
      " ('explanatory', 64), ('(magnets)', 63), ('2', 55), ('in', 48), ('to', 37),\n",
      " ('animals', 35), ('dog', 32), ('cat', 31), ('investigator', 30), ('wild:', 29),\n",
      " ('elephant', 29), ('with', 26), ('chi', 21), ('3:', 21), ('mot', 19),\n",
      " ('3;', 18), ('is', 18), ('a', 17), ('are', 17), ('number', 17), ('sib', 16),\n",
      " ('on', 15), ('playing', 14), ('1', 13), ('baby', 13), ('of', 11), ('two', 10),\n",
      " ('next', 10), ('room', 10), ('out', 10), ('bag', 10), ('little', 9),\n",
      " ('starts', 9), ('mealtime', 9), ('has', 9), ('(the', 8)]\n",
      "\n",
      "All study type keywords (word, count):\n",
      "[('td', 2439), ('long,', 2063), ('preverbal,', 864), ('toyplay,', 842),\n",
      " ('cross,', 397), ('narrative,', 296), ('meal,', 198), ('book,', 191),\n",
      " ('unspecified', 108), ('everyday,', 39), ('reading,', 30), ('aae', 21)]\n"
     ]
    }
   ],
   "source": [
    "# for corpus in corpus_set:\n",
    "#     for labels in get_labels('activities')[corpus]:\n",
    "#         if 'reading' in labels:\n",
    "#             print(corpus)\n",
    "\n",
    "# Function to count keywords in labels\n",
    "def count_keywords(var):  # 'var': the variable which the labels specify\n",
    "    keywords = []            \n",
    "    for f in data_idx[var]:\n",
    "        keywords.extend(f.lower().split())  # get a list of keywords\n",
    "    return Counter(keywords)\n",
    "\n",
    "print('\\nTop 20 situation keywords (word, count):')\n",
    "cp.pprint(count_keywords('situation').most_common(50))\n",
    "\n",
    "print('\\nTop 20 activity keywords (word, count):')\n",
    "cp.pprint(count_keywords('activities').most_common(50))\n",
    "\n",
    "print('\\nAll study type keywords (word, count):') #study type is not as detailed\n",
    "cp.pprint(count_keywords('study_type').most_common())"
   ]
  },
  {
   "cell_type": "markdown",
   "id": "ee7786c2-3e53-4153-ab98-8388f090823c",
   "metadata": {},
   "source": [
    "--\n",
    "\n",
    "From the lists of keywords, we can see that there are a few situations or activities that possibly have less natural child-mother interaction, such as book reading, elicited tasks and explanatory tasks (e.g. magnet task in the HSLLD corpus)."
   ]
  },
  {
   "cell_type": "markdown",
   "id": "ca2c679a-2c53-4ccf-9f6b-8dc1387ad3f3",
   "metadata": {},
   "source": [
    "## 3.3 Dropping data\n",
    "\n",
    "I will drop the files with labels containing the following keywords:  \n",
    "`read, book, story, elicit, explanatory, magnet`\n",
    "\n",
    "In addition, some files contain maternal interviews where the contents are adult speech instead of child-directed speech. Therefore, I will drop the files with labels containing the keyword `interview` too. Besides `situation`, `activities`, and `study_type`, I will also look for the keywords in `file_path` as some of these keywords may appear in the file path (e.g. folder name)."
   ]
  },
  {
   "cell_type": "code",
   "execution_count": 17,
   "id": "f223c1d2-fad0-4cb8-8864-abfbb7d113d1",
   "metadata": {},
   "outputs": [
    {
     "name": "stdout",
     "output_type": "stream",
     "text": [
      "\n",
      "Top 20 situation keywords (word, count):\n",
      "[('unspecified', 858), ('home', 287), ('the', 272), ('visit', 268),\n",
      " ('and', 240), (',', 199), ('on', 180), ('in', 164), ('with', 153), ('is', 143),\n",
      " ('mother', 124), ('sarah', 101), ('floor', 96), ('child', 96), ('session', 94),\n",
      " ('of', 84), ('a', 83), ('to', 76), ('kitchen', 76), ('1', 76), ('chi', 75),\n",
      " ('play', 73), ('room', 73), ('mot', 73), ('at', 68), ('living', 67),\n",
      " ('playing', 66), ('3', 65), ('first', 64), ('toys', 64), ('are', 61),\n",
      " ('place', 60), ('sitting', 51), ('playroom', 48), ('took', 46), ('(lab)', 46),\n",
      " ('second', 45), ('freeplay', 44), ('table', 43), ('2', 43), ('meal', 43),\n",
      " ('before', 42), ('time', 42), ('toy', 41), ('her', 37), ('bed', 36),\n",
      " ('tape', 35), ('as', 35), ('visit;', 35), ('this', 30)]\n",
      "\n",
      "Top 20 activity keywords (word, count):\n",
      "[('unspecified', 1247), ('toy', 213), ('play', 205), ('time', 150),\n",
      " ('meal', 149), ('the', 31), ('and', 24), ('with', 23), ('mot', 17),\n",
      " ('chi', 16), ('playing', 13), ('is', 13), ('are', 12), ('sib', 12), ('on', 12),\n",
      " ('in', 11), ('mealtime', 9), ('room', 9), ('out', 9), ('bag', 8),\n",
      " ('starts', 7), ('of', 7), ('has', 7), ('tape', 6), ('living', 6),\n",
      " ('sitting', 6), ('girls', 6), ('a', 6), ('toys', 6), ('to', 5), ('couch', 4),\n",
      " ('pulling', 4), ('rug', 4), ('at', 3), ('eating', 3), (',', 3), ('but', 3),\n",
      " ('it', 3), ('floor', 3), ('puzzle', 3), ('main', 3), ('street', 3), ('set', 3),\n",
      " ('elicted', 2), ('report', 2), ('beginning', 2), ('an', 2), ('mother', 2),\n",
      " ('sister', 2), ('kitchen', 2)]\n",
      "\n",
      "All study type keywords (word, count):\n",
      "[('td', 1510), ('long,', 1208), ('toyplay,', 725), ('preverbal,', 515),\n",
      " ('cross,', 323), ('meal,', 197), ('unspecified', 108), ('narrative,', 55),\n",
      " ('everyday,', 39), ('aae', 21)]\n",
      "\n",
      "929 entries were dropped!\n"
     ]
    }
   ],
   "source": [
    "# Files with labels containing these words will be dropped:\n",
    "#   (in regular expression format)\n",
    "drop_keys = 'read|book|story|elicit|explanatory|magnet|interview'  \n",
    "\n",
    "# Select files based and 'drop_keys' and get a list of indices\n",
    "#  (keywords are case-insentive)\n",
    "drop_index = data_idx[data_idx.situation.str.contains(drop_keys, case=False) |\n",
    "                       data_idx.activities.str.contains(drop_keys, case=False) |\n",
    "                       data_idx.study_type.str.contains(drop_keys, case=False) |\n",
    "                       data_idx.file_path.str.contains(drop_keys, case=False)\n",
    "                      ].index\n",
    "\n",
    "# Drop the selected files\n",
    "data_idx.drop(drop_index, inplace=True)\n",
    "\n",
    "# Check keywords again after dropping\n",
    "print('\\nTop 20 situation keywords (word, count):')\n",
    "cp.pprint(count_keywords('situation').most_common(50))\n",
    "\n",
    "print('\\nTop 20 activity keywords (word, count):')\n",
    "cp.pprint(count_keywords('activities').most_common(50))\n",
    "\n",
    "print('\\nAll study type keywords (word, count):') #study type is not as detailed\n",
    "cp.pprint(count_keywords('study_type').most_common())\n",
    "\n",
    "print('\\n{} entries were dropped!' .format(len(drop_index)))"
   ]
  },
  {
   "cell_type": "markdown",
   "id": "18e38972-d8a0-4ee7-b78b-fc74fea9f2ef",
   "metadata": {},
   "source": [
    "---\n",
    "\n",
    "# 4 Matching files by child participants\n",
    "\n",
    "You may have noticed from the `study_type` variable that some files are labeled with `cross` or `long`. These labels refer to cross-sectional or longitudinal studies. Longitudinal studies are studies where repeated observations are made with the same participants over a period of time. In our currated dataset, some recordings were made with the same child participants during their development. Therefore, a child participant may have multiple files in a corpus.\n",
    "\n",
    "We may try to identify all files associated with a child by matching the `name` variable (name of child participants). However, for privacy protection, these names are actually alias names. Files with the same name are not necessarily associated with the same child:"
   ]
  },
  {
   "cell_type": "code",
   "execution_count": 18,
   "id": "575e3683-9d0d-4d0d-b68a-f389775208d3",
   "metadata": {},
   "outputs": [
    {
     "data": {
      "text/plain": [
       "{'Brown', 'VanHouten'}"
      ]
     },
     "execution_count": 18,
     "metadata": {},
     "output_type": "execute_result"
    }
   ],
   "source": [
    "# Corpora containing files with child named 'Adam'\n",
    "set(data_idx[data_idx.name=='Adam'].corpus)"
   ]
  },
  {
   "cell_type": "markdown",
   "id": "e45e901a-748f-4a9a-9eeb-b0a6c49b6d63",
   "metadata": {},
   "source": [
    "Our favorite example, \"Adam\", appears in two corpora (Brown and VanHouten) - they can't be the same \"Adam\" because these studies were conducted separately. Therefore, we can't simply match the files by `name`. To match files associated with the same child, I will combine the corpus name with the name of the child and use the combine name as the child identity (`child_id`)."
   ]
  },
  {
   "cell_type": "code",
   "execution_count": 19,
   "id": "70cdd387-c65a-4b8f-8b94-750e0bf15f19",
   "metadata": {},
   "outputs": [],
   "source": [
    "# Join corpus name and child name\n",
    "child_id = data_idx[['corpus', 'name']].agg('_'.join, axis=1)\n",
    "\n",
    "# Insert a new column for 'child_id'\n",
    "data_idx.insert(5, 'child_id', child_id)"
   ]
  },
  {
   "cell_type": "code",
   "execution_count": 20,
   "id": "82a61e39-df72-4f90-81ac-82439f7dc897",
   "metadata": {},
   "outputs": [
    {
     "data": {
      "text/html": [
       "<div>\n",
       "<style scoped>\n",
       "    .dataframe tbody tr th:only-of-type {\n",
       "        vertical-align: middle;\n",
       "    }\n",
       "\n",
       "    .dataframe tbody tr th {\n",
       "        vertical-align: top;\n",
       "    }\n",
       "\n",
       "    .dataframe thead th {\n",
       "        text-align: right;\n",
       "    }\n",
       "</style>\n",
       "<table border=\"1\" class=\"dataframe\">\n",
       "  <thead>\n",
       "    <tr style=\"text-align: right;\">\n",
       "      <th></th>\n",
       "      <th>file_path</th>\n",
       "      <th>corpus</th>\n",
       "      <th>year</th>\n",
       "      <th>participants</th>\n",
       "      <th>name</th>\n",
       "      <th>child_id</th>\n",
       "      <th>age_d</th>\n",
       "      <th>age_m</th>\n",
       "      <th>sex</th>\n",
       "      <th>group</th>\n",
       "      <th>ses</th>\n",
       "      <th>mot_edu</th>\n",
       "      <th>situation</th>\n",
       "      <th>activities</th>\n",
       "      <th>study_type</th>\n",
       "    </tr>\n",
       "  </thead>\n",
       "  <tbody>\n",
       "    <tr>\n",
       "      <th>142</th>\n",
       "      <td>../data/childes/Brown/Adam/020304.cha</td>\n",
       "      <td>Brown</td>\n",
       "      <td>1962.0</td>\n",
       "      <td>{COL, RIC, CHI, MOT, URS}</td>\n",
       "      <td>Adam</td>\n",
       "      <td>Brown_Adam</td>\n",
       "      <td>814</td>\n",
       "      <td>27.1</td>\n",
       "      <td>male</td>\n",
       "      <td>TD</td>\n",
       "      <td>MC</td>\n",
       "      <td>unspecified</td>\n",
       "      <td>unspecified</td>\n",
       "      <td>unspecified</td>\n",
       "      <td>long, toyplay, TD</td>\n",
       "    </tr>\n",
       "    <tr>\n",
       "      <th>143</th>\n",
       "      <td>../data/childes/Brown/Adam/020318.cha</td>\n",
       "      <td>Brown</td>\n",
       "      <td>1962.0</td>\n",
       "      <td>{CHI, RIC, MOT, URS}</td>\n",
       "      <td>Adam</td>\n",
       "      <td>Brown_Adam</td>\n",
       "      <td>828</td>\n",
       "      <td>27.6</td>\n",
       "      <td>male</td>\n",
       "      <td>TD</td>\n",
       "      <td>MC</td>\n",
       "      <td>unspecified</td>\n",
       "      <td>unspecified</td>\n",
       "      <td>unspecified</td>\n",
       "      <td>long, toyplay, TD</td>\n",
       "    </tr>\n",
       "  </tbody>\n",
       "</table>\n",
       "</div>"
      ],
      "text/plain": [
       "                                 file_path corpus    year  \\\n",
       "142  ../data/childes/Brown/Adam/020304.cha  Brown  1962.0   \n",
       "143  ../data/childes/Brown/Adam/020318.cha  Brown  1962.0   \n",
       "\n",
       "                  participants  name    child_id  age_d  age_m   sex group  \\\n",
       "142  {COL, RIC, CHI, MOT, URS}  Adam  Brown_Adam    814   27.1  male    TD   \n",
       "143       {CHI, RIC, MOT, URS}  Adam  Brown_Adam    828   27.6  male    TD   \n",
       "\n",
       "    ses      mot_edu    situation   activities         study_type  \n",
       "142  MC  unspecified  unspecified  unspecified  long, toyplay, TD  \n",
       "143  MC  unspecified  unspecified  unspecified  long, toyplay, TD  "
      ]
     },
     "metadata": {},
     "output_type": "display_data"
    },
    {
     "data": {
      "text/html": [
       "<div>\n",
       "<style scoped>\n",
       "    .dataframe tbody tr th:only-of-type {\n",
       "        vertical-align: middle;\n",
       "    }\n",
       "\n",
       "    .dataframe tbody tr th {\n",
       "        vertical-align: top;\n",
       "    }\n",
       "\n",
       "    .dataframe thead th {\n",
       "        text-align: right;\n",
       "    }\n",
       "</style>\n",
       "<table border=\"1\" class=\"dataframe\">\n",
       "  <thead>\n",
       "    <tr style=\"text-align: right;\">\n",
       "      <th></th>\n",
       "      <th>file_path</th>\n",
       "      <th>corpus</th>\n",
       "      <th>year</th>\n",
       "      <th>participants</th>\n",
       "      <th>name</th>\n",
       "      <th>child_id</th>\n",
       "      <th>age_d</th>\n",
       "      <th>age_m</th>\n",
       "      <th>sex</th>\n",
       "      <th>group</th>\n",
       "      <th>ses</th>\n",
       "      <th>mot_edu</th>\n",
       "      <th>situation</th>\n",
       "      <th>activities</th>\n",
       "      <th>study_type</th>\n",
       "    </tr>\n",
       "  </thead>\n",
       "  <tbody>\n",
       "    <tr>\n",
       "      <th>2603</th>\n",
       "      <td>../data/childes/VanHouten/Twos/teaching/lundt.cha</td>\n",
       "      <td>VanHouten</td>\n",
       "      <td>NaN</td>\n",
       "      <td>{CHI, MOT}</td>\n",
       "      <td>Adam</td>\n",
       "      <td>VanHouten_Adam</td>\n",
       "      <td>840</td>\n",
       "      <td>28.0</td>\n",
       "      <td>male</td>\n",
       "      <td>TD</td>\n",
       "      <td>unspecified</td>\n",
       "      <td>HS</td>\n",
       "      <td>Teaching. Mother and Child sitting on floor. F...</td>\n",
       "      <td>unspecified</td>\n",
       "      <td>cross, toyplay, TD</td>\n",
       "    </tr>\n",
       "    <tr>\n",
       "      <th>2605</th>\n",
       "      <td>../data/childes/VanHouten/Twos/teaching/nipt.cha</td>\n",
       "      <td>VanHouten</td>\n",
       "      <td>NaN</td>\n",
       "      <td>{CHI, MOT}</td>\n",
       "      <td>Adam</td>\n",
       "      <td>VanHouten_Adam</td>\n",
       "      <td>840</td>\n",
       "      <td>28.0</td>\n",
       "      <td>male</td>\n",
       "      <td>TD</td>\n",
       "      <td>unspecified</td>\n",
       "      <td>unspecified</td>\n",
       "      <td>Teaching. Mother and Child sit on the living+r...</td>\n",
       "      <td>unspecified</td>\n",
       "      <td>cross, toyplay, TD</td>\n",
       "    </tr>\n",
       "  </tbody>\n",
       "</table>\n",
       "</div>"
      ],
      "text/plain": [
       "                                              file_path     corpus  year  \\\n",
       "2603  ../data/childes/VanHouten/Twos/teaching/lundt.cha  VanHouten   NaN   \n",
       "2605   ../data/childes/VanHouten/Twos/teaching/nipt.cha  VanHouten   NaN   \n",
       "\n",
       "     participants  name        child_id  age_d  age_m   sex group  \\\n",
       "2603   {CHI, MOT}  Adam  VanHouten_Adam    840   28.0  male    TD   \n",
       "2605   {CHI, MOT}  Adam  VanHouten_Adam    840   28.0  male    TD   \n",
       "\n",
       "              ses      mot_edu  \\\n",
       "2603  unspecified           HS   \n",
       "2605  unspecified  unspecified   \n",
       "\n",
       "                                              situation   activities  \\\n",
       "2603  Teaching. Mother and Child sitting on floor. F...  unspecified   \n",
       "2605  Teaching. Mother and Child sit on the living+r...  unspecified   \n",
       "\n",
       "              study_type  \n",
       "2603  cross, toyplay, TD  \n",
       "2605  cross, toyplay, TD  "
      ]
     },
     "metadata": {},
     "output_type": "display_data"
    }
   ],
   "source": [
    "display(data_idx[data_idx.name=='Adam'].head(2))\n",
    "display(data_idx[data_idx.name=='Adam'].tail(2))"
   ]
  },
  {
   "cell_type": "markdown",
   "id": "1a63b0e6-a450-4aec-9f56-527cfd0a7535",
   "metadata": {},
   "source": [
    "\"Adam\" comes in two flavors now: `Brown_Adam` and `VanHouten_Adam`. `child_id` will be helpful for distinguishing different children."
   ]
  },
  {
   "cell_type": "markdown",
   "id": "db875352-2ae9-4833-b7cf-1ce8d566e366",
   "metadata": {},
   "source": [
    "---\n",
    "\n",
    "# 5 Summary"
   ]
  },
  {
   "cell_type": "markdown",
   "id": "bd887d2c-c063-4dd3-aa84-2f1cddfb396e",
   "metadata": {},
   "source": [
    "The following changes were made to the data in this notebook:\n",
    "\n",
    "1. Similar `mot_edu` labels were merged and changed to custom labels.\n",
    "2. All files are labeled as `TD` for `group`.\n",
    "3. Similar `SES` labels were merged and changed to three classes: `WC` (working class), `MC` (middle class) and `UC` (upper class).\n",
    "4. Unknown labels were marked as `unspecified`.\n",
    "5. Entries collected from children of adolescent mothers were dropped.\n",
    "6. Entries containing recordings from less naturalistic situations or maternal interviews (without CDS) were dropped.\n",
    "7. A unique child ID was created for each entry.\n",
    "\n",
    "After data preprocessing, 972 entries were dropped and there are 1639 remaining entries. The following figure shows how the data make-up looks like:"
   ]
  },
  {
   "cell_type": "code",
   "execution_count": 21,
   "id": "3f873fc4-4a30-4bce-90fb-0129dcdcc7db",
   "metadata": {},
   "outputs": [
    {
     "data": {
      "image/png": "[encoded data removed]",
      "text/plain": [
       "<Figure size 720x1008 with 6 Axes>"
      ]
     },
     "metadata": {
      "needs_background": "light"
     },
     "output_type": "display_data"
    }
   ],
   "source": [
    "# Data for plotting\n",
    "# Count files by 'sex', 'ses', 'mot_edu' or 'group'; count dropped files\n",
    "sex_count = data_idx.groupby('sex').aggregate('count').file_path\n",
    "ses_count = data_idx.groupby('ses').aggregate('count').file_path\n",
    "mot_edu_count = data_idx.groupby('mot_edu').aggregate('count').file_path\n",
    "group_count = data_idx.groupby('group').aggregate('count').file_path\n",
    "total_count = pd.Series({'Remaining files':len(data_idx),\n",
    "                         'Dropped files':len(drop_index)+n_drop_group})\n",
    "\n",
    "# ==============================================================================\n",
    "# Create a figure object\n",
    "\n",
    "# Subplot dimension ratio\n",
    "gs_kw = dict(width_ratios=[1,1,1], height_ratios=[1,4,0.2])\n",
    "\n",
    "# Create a figure with 6 axes (i.e. 6 subplots), namely A, B, C, D, E, F\n",
    "fig, ax = plt.subplot_mosaic([['A', 'A', 'B'],  # A spans across two grids\n",
    "                              ['C', 'D', 'E'],\n",
    "                              ['F', 'F', 'F']], # F spans across three grids                            \n",
    "                              gridspec_kw=gs_kw, figsize=(10,14),\n",
    "                              constrained_layout=True)\n",
    "cmap = plt.cm.YlGn  # color map\n",
    "accent_color = cmap(0.7)\n",
    "\n",
    "# ==============================================================================\n",
    "# Plotting\n",
    "\n",
    "# ------------------------------------------------------------------------------\n",
    "# Plot A\n",
    "ax['A'].hist(data_idx.age_m, 72, histtype='step', color=accent_color, lw=1.3)\n",
    "\n",
    "# ------------------------------------------------------------------------------\n",
    "# Plot B to E\n",
    "\n",
    "def plot_stack(ax_idx, data, colors, thres=0):\n",
    "    data = data.sort_values(ascending=False)  # sort by count\n",
    "    data_pc = data/sum(data)*100  # get percentage from count\n",
    "    curr_sum = 0  # percentage sum (required for stacking bars)\n",
    "    for i, pc in enumerate(data_pc):\n",
    "        ax[ax_idx].bar('x', pc, label=data_pc.index[i], bottom=curr_sum,\n",
    "                       color=colors[i], edgecolor='w', linewidth=1)\n",
    "        curr_sum = curr_sum + pc  # for stacking bars  \n",
    "        # make label\n",
    "        if data.index[i] == '':\n",
    "            label = \"Unspecified ({})\".format(data[i]).upper()\n",
    "        elif pc >= thres:\n",
    "            label = \"{} ({})\".format(data.index[i], data[i]).upper()\n",
    "        else: label = ''\n",
    "        label_ypos = curr_sum - (pc/2)\n",
    "        ax[ax_idx].text(0, label_ypos, label, ha=\"center\", va=\"center\")\n",
    "\n",
    "for k, v in {'B':sex_count, 'C':ses_count, \n",
    "             'D':mot_edu_count, 'E':group_count}.items():\n",
    "    if k == 'B':\n",
    "        thres = 0\n",
    "        colors = cmap(np.linspace(0.2, 0.5, len(v)))\n",
    "    else:\n",
    "        thres = 2\n",
    "        colors = cmap(np.linspace(0.2, 0.8, len(v)))            \n",
    "    plot_stack(k, v, colors, thres)\n",
    "\n",
    "# ------------------------------------------------------------------------------\n",
    "# Plot F\n",
    "total_count = total_count.sort_values(ascending=False)  # sort by count\n",
    "total_pc = total_count/sum(total_count)*100  # get percentage from count\n",
    "colors = [plt.cm.YlGn(0.6), '0.8']\n",
    "curr_sum = 0  # percentage sum (required for stacking bars)\n",
    "for i, pc in enumerate(total_pc):\n",
    "    ax['F'].barh('x', pc, label=total_pc.index[i], left=curr_sum,\n",
    "                 color=colors[i], edgecolor='w', linewidth=0.5)\n",
    "    curr_sum = curr_sum + pc    \n",
    "    # make label\n",
    "    label = \"{} ({})\".format(total_count.index[i], total_count[i]).upper()  \n",
    "    label_xpos = curr_sum - (pc/2)\n",
    "    ax['F'].text(label_xpos, 0, label, ha=\"center\", va=\"center\", c='k')    \n",
    "\n",
    "# ------------------------------------------------------------------------------\n",
    "# Formatting\n",
    "\n",
    "# Subplot A settings\n",
    "ax['A'].set_xlabel('Age (months)', size=12)\n",
    "ax['A'].set_ylabel('Number of files', size=12)\n",
    "ax['A'].set_ylim([-10,250])\n",
    "ax['A'].spines[['top', 'right']].set_visible(False)\n",
    "ax['A'].grid(axis='both', color='w')\n",
    "ax['A'].set_facecolor('0.9')\n",
    "\n",
    "# Subplots B-E settings\n",
    "for i in ['B','C','D','E']:\n",
    "    ax[i].get_xaxis().set_visible(False)\n",
    "    ax[i].set_ylabel('Percentage total, %', size=12)\n",
    "    ax[i].set_ylim([0,100])\n",
    "    ax[i].spines[['top','bottom', 'right']].set_visible(False)\n",
    "    if i in ['B','D','E']:\n",
    "        ax[i].get_yaxis().set_visible(False)\n",
    "        ax[i].get_yaxis().set_visible(False)\n",
    "        ax[i].spines['left'].set_visible(False)        \n",
    "ax['D'].text(0,-2,'*Categories <2% not shown', ha=\"center\", va=\"top\", size=12)\n",
    "\n",
    "# Subplot F settings\n",
    "ax['F'].get_yaxis().set_visible(False)\n",
    "ax['F'].set_xlabel('Percentage total, %', size=12)\n",
    "ax['F'].set_xlim([0,100])\n",
    "ax['F'].spines[:].set_visible(False)\n",
    "\n",
    "# Set subplot titles\n",
    "ax['A'].set_title('\\nA. Age\\n', loc='left', size=15)\n",
    "ax['B'].set_title('\\nB. Sex\\n', loc='left', size=15)\n",
    "ax['C'].set_title('\\nC. Socioeconomic status\\n', loc='left', size=15)\n",
    "ax['D'].set_title('\\nD. Mother\\'s education*\\n', loc='left', size=15)\n",
    "ax['E'].set_title('\\nE. Group\\n', loc = 'left', size=15)\n",
    "ax['F'].set_title('\\nF. Total number of files\\n', loc='left', size=15)\n",
    "\n",
    "# Set figure title\n",
    "fig.suptitle('Demographics of child participants after data preprocessing\\n(Note: some children have multiple files)', fontsize=18)\n",
    "\n",
    "# Save figure\n",
    "# plt.savefig('../reports/images/child_demgph_processed.svg', bbox_inches='tight', dpi=150)\n",
    "plt.show()"
   ]
  },
  {
   "cell_type": "markdown",
   "id": "b178c255-bbf7-4ada-974d-cba65fac2f5d",
   "metadata": {},
   "source": [
    "# Saving the processed data"
   ]
  },
  {
   "cell_type": "code",
   "execution_count": 22,
   "id": "7e82c9f5-9392-4694-b1a8-6086d9536f2b",
   "metadata": {},
   "outputs": [],
   "source": [
    "# f = open('../data/childes/data_idx_processed.pkl', 'wb')\n",
    "# pickle.dump(data_idx, f, -1)\n",
    "# f.close()"
   ]
  }
 ],
 "metadata": {
  "kernelspec": {
   "display_name": "Python 3 (ipykernel)",
   "language": "python",
   "name": "python3"
  },
  "language_info": {
   "codemirror_mode": {
    "name": "ipython",
    "version": 3
   },
   "file_extension": ".py",
   "mimetype": "text/x-python",
   "name": "python",
   "nbconvert_exporter": "python",
   "pygments_lexer": "ipython3",
   "version": "3.9.7"
  },
  "toc-autonumbering": false,
  "toc-showcode": false,
  "toc-showmarkdowntxt": false
 },
 "nbformat": 4,
 "nbformat_minor": 5
}
