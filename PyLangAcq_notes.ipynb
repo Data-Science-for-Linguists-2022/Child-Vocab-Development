{
 "cells": [
  {
   "cell_type": "markdown",
   "id": "862443fa-a6ff-4776-9425-ff27c3393416",
   "metadata": {},
   "source": [
    "\n",
    "# PyLangAcq Notes\n",
    "\n",
    "Man Ho Wong | m.wong@pitt.edu | Feb 27th, 2022\n",
    "\n",
    "The `PyLangAcq` package allows users to read CHAT data from CHILDES directly.  \n",
    "Reference: https://pylangacq.org/quickstart.html\n",
    "\n",
    "Download and install by:  \n",
    "`$ pip install --upgrade pylangacq`\n"
   ]
  },
  {
   "cell_type": "code",
   "execution_count": 1,
   "id": "6cd5679e-340c-43d9-b4b4-4e446ccca1e6",
   "metadata": {},
   "outputs": [],
   "source": [
    "import pylangacq"
   ]
  },
  {
   "cell_type": "markdown",
   "id": "986db26a-3283-41c9-96df-fa5e2643693d",
   "metadata": {
    "tags": []
   },
   "source": [
    "---\n",
    "\n",
    "## 1 Reading CHAT data\n",
    "\n",
    "- directory path: can be local or remote (e.g. URL)\n",
    "- Windows users: may need to put code under `if __name__ == \"__main__\":` to avoid error\n",
    "- `.read_chat(PATH, FOLDER)`\n",
    "    - this creates a `Reader` object (for associated methods, see [this](https://pylangacq.org/api.html#pylangacq.Reader))\n",
    "\n",
    "- The following example reads data from `Adam` in Brown Corpus: https://sla.talkbank.org/TBB/childes/Eng-NA/Brown/Adam  \n",
    "Reference: Brown, R. (1973) A first language: the early stages. Cambridge: Harvard University Press. "
   ]
  },
  {
   "cell_type": "code",
   "execution_count": 2,
   "id": "a85ba47a-b3d7-4e5d-8939-2798cd678c2e",
   "metadata": {},
   "outputs": [
    {
     "name": "stdout",
     "output_type": "stream",
     "text": [
      "Number of files: 55\n"
     ]
    }
   ],
   "source": [
    "url = \"https://childes.talkbank.org/data/Eng-NA/Brown.zip\"\n",
    "adam = pylangacq.read_chat(url, \"Adam\")\n",
    "print('Number of files:', adam.n_files())    # number of CHAT file in 'adam'"
   ]
  },
  {
   "cell_type": "markdown",
   "id": "24cdebbe-ffd6-40f8-aa22-feb24c56450f",
   "metadata": {},
   "source": [
    "---\n",
    "\n",
    "## 2 Accessing metadata stored in the Header of a CHAT file\n",
    "\n",
    "e.g. age, date, participants, etc. See [this](https://pylangacq.org/headers.html#headers)."
   ]
  },
  {
   "cell_type": "code",
   "execution_count": 3,
   "id": "3b8b785e-b666-42d1-ad0c-3761a501ec8b",
   "metadata": {},
   "outputs": [
    {
     "name": "stdout",
     "output_type": "stream",
     "text": [
      "Ages: [(2, 3, 4), (2, 3, 18), (2, 4, 3), (2, 4, 15), (2, 4, 30), (2, 5, 12), (2, 6, 3), (2, 6, 17), (2, 7, 1), (2, 7, 14), (2, 8, 1), (2, 8, 16), (2, 9, 4), (2, 9, 18), (2, 10, 2), (2, 10, 16), (2, 10, 30), (2, 11, 13), (2, 11, 28), (3, 0, 11), (3, 0, 25), (3, 1, 9), (3, 1, 26), (3, 2, 9), (3, 2, 21), (3, 3, 4), (3, 3, 18), (3, 4, 1), (3, 4, 18), (3, 5, 1), (3, 5, 15), (3, 5, 29), (3, 6, 9), (3, 7, 7), (3, 8, 1), (3, 8, 14), (3, 8, 26), (3, 9, 16), (3, 10, 15), (3, 11, 1), (3, 11, 14), (4, 0, 14), (4, 1, 15), (4, 2, 17), (4, 3, 9), (4, 4, 1), (4, 4, 13), (4, 5, 11), (4, 6, 24), (4, 7, 1), (4, 7, 29), (4, 9, 2), (4, 10, 2), (4, 10, 23), (5, 2, 12)]\n"
     ]
    }
   ],
   "source": [
    "print('Ages:', adam.ages())    # ages when recordings were made\n",
    "                              # format: year, month, day"
   ]
  },
  {
   "cell_type": "markdown",
   "id": "66fcc71e-127e-4105-828f-bd974b2671ba",
   "metadata": {
    "tags": []
   },
   "source": [
    "---\n",
    "\n",
    "## 3 Accessing Transcriptions and Annotations\n",
    "\n",
    "#### Accessing transcriptions with `.words()` method\n",
    "\n",
    "`.words()` options:\n",
    "`words(participants=None, exclude=None, by_utterances=False, by_files=False)`  \n",
    "- `participants`: Participants to be included, e.g. `'CHI'` (child), `'MOT'` (mother), `{'MOT','INV'}` (mother and investigators).\n",
    "- `exclude`: Participants to be excluded; cannot be used with `participants`.\n",
    "- `by_utterances`: `False` by default; if `True`, output will be organized by utterances.\n",
    "- `by_files`: `False` by default; if `True`, output will be organized by files.\n"
   ]
  },
  {
   "cell_type": "code",
   "execution_count": 4,
   "id": "6ae86070-320e-4fdc-818e-f818cc89155d",
   "metadata": {},
   "outputs": [
    {
     "name": "stdout",
     "output_type": "stream",
     "text": [
      "Total word count: 353686\n",
      "Word count in file 0 : 6304\n",
      "Word count in file 1 : 7567\n",
      "Word count in file 2 : 5427\n",
      "Word count in file 3 : 4429\n",
      "Word count in file 4 : 5346\n",
      "Word count in file 5 : 4558\n",
      "Word count in file 6 : 5618\n",
      "Word count in file 7 : 4807\n",
      "Word count in file 8 : 5760\n",
      "Word count in file 9 : 6118\n",
      "Word count in file 10 : 5769\n",
      "Word count in file 11 : 5124\n",
      "Word count in file 12 : 3888\n",
      "Word count in file 13 : 4303\n",
      "Word count in file 14 : 4841\n",
      "Word count in file 15 : 4285\n",
      "Word count in file 16 : 6514\n",
      "Word count in file 17 : 6605\n",
      "Word count in file 18 : 8304\n",
      "Word count in file 19 : 7854\n",
      "Word count in file 20 : 6446\n",
      "Word count in file 21 : 6507\n",
      "Word count in file 22 : 7607\n",
      "Word count in file 23 : 6341\n",
      "Word count in file 24 : 7587\n",
      "Word count in file 25 : 7370\n",
      "Word count in file 26 : 7819\n",
      "Word count in file 27 : 7284\n",
      "Word count in file 28 : 7369\n",
      "Word count in file 29 : 7693\n",
      "Word count in file 30 : 6385\n",
      "Word count in file 31 : 7194\n",
      "Word count in file 32 : 5500\n",
      "Word count in file 33 : 6014\n",
      "Word count in file 34 : 6958\n",
      "Word count in file 35 : 7497\n",
      "Word count in file 36 : 7667\n",
      "Word count in file 37 : 6773\n",
      "Word count in file 38 : 5398\n",
      "Word count in file 39 : 6275\n",
      "Word count in file 40 : 5906\n",
      "Word count in file 41 : 6390\n",
      "Word count in file 42 : 8970\n",
      "Word count in file 43 : 6139\n",
      "Word count in file 44 : 6531\n",
      "Word count in file 45 : 6613\n",
      "Word count in file 46 : 7090\n",
      "Word count in file 47 : 6161\n",
      "Word count in file 48 : 6894\n",
      "Word count in file 49 : 6721\n",
      "Word count in file 50 : 5346\n",
      "Word count in file 51 : 5897\n",
      "Word count in file 52 : 6730\n",
      "Word count in file 53 : 8356\n",
      "Word count in file 54 : 8837\n"
     ]
    },
    {
     "data": {
      "text/plain": [
       "['play', 'checkers', '.', 'big', 'drum', '.', 'big', 'drum']"
      ]
     },
     "execution_count": 4,
     "metadata": {},
     "output_type": "execute_result"
    }
   ],
   "source": [
    "# To access words across ALL CHAT files of 'adam':\n",
    "words = adam.words()    # list of strings\n",
    "print('Total word count:',len(words))\n",
    "\n",
    "# To access words in individual CHAT files:\n",
    "words_by_files = adam.words(by_files=True)  # list of lists of strings\n",
    "for i, words_one_file in enumerate(words_by_files):\n",
    "    print('Word count in file',i,':', len(words_one_file))\n",
    "\n",
    "# Example: First 8 words in the first CHAT file:\n",
    "words_by_files[0][0:8]"
   ]
  },
  {
   "cell_type": "markdown",
   "id": "69b9ac6f-1abd-4e4a-a39a-b5b255427908",
   "metadata": {},
   "source": [
    "\n",
    "#### Accessing annotations\n",
    "\n",
    "`.words()` method returns words without annotations. To access words with annotation info, use `.tokens()`:  \n",
    "`.tokens(participants=None, exclude=None, by_utterances=False, by_files=False)`\n",
    "\n",
    "A `list` of `Token` objects will be created:"
   ]
  },
  {
   "cell_type": "code",
   "execution_count": 5,
   "id": "13d88e76-36ea-47a0-adcf-823f9167421a",
   "metadata": {},
   "outputs": [
    {
     "data": {
      "text/plain": [
       "[Token(word='play', pos='n', mor='play', gra=Gra(dep=1, head=2, rel='MOD')),\n",
       " Token(word='checkers', pos='n', mor='checker-PL', gra=Gra(dep=2, head=0, rel='INCROOT')),\n",
       " Token(word='.', pos='.', mor='', gra=Gra(dep=3, head=2, rel='PUNCT')),\n",
       " Token(word='big', pos='adj', mor='big', gra=Gra(dep=1, head=2, rel='MOD')),\n",
       " Token(word='drum', pos='n', mor='drum', gra=Gra(dep=2, head=0, rel='INCROOT'))]"
      ]
     },
     "execution_count": 5,
     "metadata": {},
     "output_type": "execute_result"
    }
   ],
   "source": [
    "tokens = adam.tokens()\n",
    "tokens[:5]  # first five tokens in 'adam'"
   ]
  },
  {
   "cell_type": "markdown",
   "id": "684ec084-ce8f-407f-9e70-f7fb637855af",
   "metadata": {},
   "source": [
    "`Token` is a `dataclass` with attributes (e.g. `word`,`pos`, etc.) as shown in the above example.  \n",
    "\n",
    "To access annotation info of each word (i.e. `Token` attributes other than `word`):"
   ]
  },
  {
   "cell_type": "code",
   "execution_count": 6,
   "id": "041b662f-3f71-40ec-82c7-ce86fbcab9f4",
   "metadata": {},
   "outputs": [
    {
     "name": "stdout",
     "output_type": "stream",
     "text": [
      "play n\n",
      "checkers n\n",
      ". .\n",
      "big adj\n",
      "drum n\n"
     ]
    }
   ],
   "source": [
    "for token in tokens[:5]:\n",
    "    print(token.word, token.pos)"
   ]
  },
  {
   "cell_type": "markdown",
   "id": "d6ccfa06-cbc0-4187-9602-63f12b43ec7d",
   "metadata": {},
   "source": [
    "To access unsegmented transcription and annotation info of utterance (e.g. time marks, or any unparsed tiers), use:  \n",
    "`.utterances(participants=None, exclude=None, by_files=False)`"
   ]
  },
  {
   "cell_type": "code",
   "execution_count": 7,
   "id": "3b35ad19-c6a3-40ac-9f06-dd6e388c1621",
   "metadata": {},
   "outputs": [
    {
     "data": {
      "text/html": [
       "<table>  <tr>\n",
       "    <td>*CHI:</td>\n",
       "    <td style=\"text-align: left\">play</td>\n",
       "    <td style=\"text-align: left\">checkers</td>\n",
       "    <td style=\"text-align: left\">.</td>\n",
       "  </tr>\n",
       "  <tr>\n",
       "    <td>%mor:</td>\n",
       "    <td style=\"text-align: left\">n|play</td>\n",
       "    <td style=\"text-align: left\">n|checker-PL</td>\n",
       "    <td style=\"text-align: left\">.</td>\n",
       "  </tr>\n",
       "  <tr>\n",
       "    <td>%gra:</td>\n",
       "    <td style=\"text-align: left\">1|2|MOD</td>\n",
       "    <td style=\"text-align: left\">2|0|INCROOT</td>\n",
       "    <td style=\"text-align: left\">3|2|PUNCT</td>\n",
       "  </tr>\n",
       "  <tr>\n",
       "    <td>%pho:</td>\n",
       "    <td colspan=\"3\" style=\"text-align: left\"><1> pe</td>\n",
       "  </tr>\n",
       "</table>"
      ],
      "text/plain": [
       "Utterance(participant='CHI', tokens=[Token(word='play', pos='n', mor='play', gra=Gra(dep=1, head=2, rel='MOD')), Token(word='checkers', pos='n', mor='checker-PL', gra=Gra(dep=2, head=0, rel='INCROOT')), Token(word='.', pos='.', mor='', gra=Gra(dep=3, head=2, rel='PUNCT'))], time_marks=None, tiers={'CHI': 'play checkers .', '%mor': 'n|play n|checker-PL .', '%gra': '1|2|MOD 2|0|INCROOT 3|2|PUNCT', '%pho': '<1> pe'})"
      ]
     },
     "execution_count": 7,
     "metadata": {},
     "output_type": "execute_result"
    }
   ],
   "source": [
    "adam.utterances()[0]   # first utterance in 'adam'"
   ]
  },
  {
   "cell_type": "markdown",
   "id": "b262d5d5-4a64-4b80-8d5c-1a81e0574d52",
   "metadata": {},
   "source": [
    "\n",
    "## 4 Linguistic analysis\n",
    "\n",
    "#### Word Frequencies and Ngrams\n",
    "\n",
    "`.word_frequencies(keep_case=True, participants=None, exclude=None, by_files=False)`:\n",
    "- `keep_case`: If `False`, lowercase will be used for subsequence processing. (The default is `True`. Since CHILDES does not capitalize first word, so keeping this `True` should be fine.)\n",
    "\n",
    "`.word_ngrams(n, keep_case=True, participants=None, exclude=None, by_files=False)`:\n",
    "- `n`: Specify the ngram type, e.g. `2` for bigrams."
   ]
  },
  {
   "cell_type": "code",
   "execution_count": 8,
   "id": "d0010937-b0e5-4670-b33c-12442fc4884c",
   "metadata": {},
   "outputs": [
    {
     "name": "stdout",
     "output_type": "stream",
     "text": [
      "Most common words:\n",
      " [('.', 49060), ('?', 22259), ('you', 11353), ('I', 9465), ('it', 7573)]\n",
      "Most common bigrams:\n",
      " [(('it', '.'), 1908), (('do', 'you'), 1622), (('that', '?'), 1538), (('what', '?'), 1350), (('I', \"don't\"), 1334)]\n"
     ]
    }
   ],
   "source": [
    "word_freq = adam.word_frequencies()    # a collections.Counter object\n",
    "print('Most common words:\\n', word_freq.most_common(5))\n",
    "\n",
    "bigrams = adam.word_ngrams(2)          # a collections.Counter object\n",
    "print('Most common bigrams:\\n', bigrams.most_common(5))"
   ]
  },
  {
   "cell_type": "markdown",
   "id": "1f582efc-223a-4b0c-9187-c00d515dface",
   "metadata": {},
   "source": [
    "#### Developmental Measures\n",
    "\n",
    "- `.mlu([participant])`: mean lengths of utterance (MLU)\n",
    "- `.mlum([participant])`: mean lengths of utterance by morphemes\n",
    "- `.mluw([participant])`: mean lengths of utterance by words\n",
    "- `.ttr([keep_case, participant])`: type-token ratios (TTR)\n",
    "- `.ipsyn([participant])`: indexes of productive syntax (IPSyn)"
   ]
  },
  {
   "cell_type": "code",
   "execution_count": 9,
   "id": "9a3f9ab1-20ba-4863-bc39-56c103589c17",
   "metadata": {},
   "outputs": [
    {
     "data": {
      "text/plain": [
       "[3.004731861198738,\n",
       " 3.0116822429906542,\n",
       " 3.3062645011600926,\n",
       " 2.656449553001277,\n",
       " 3.1534883720930234,\n",
       " 3.1988023952095808,\n",
       " 3.4627720504009165,\n",
       " 3.8165413533834585,\n",
       " 3.4375,\n",
       " 3.448559670781893,\n",
       " 3.6364653243847873,\n",
       " 3.3973509933774833,\n",
       " 3.3095238095238093,\n",
       " 3.294915254237288,\n",
       " 3.587096774193548,\n",
       " 3.4803030303030305,\n",
       " 3.9605110336817653,\n",
       " 3.421859039836568,\n",
       " 4.182600382409178,\n",
       " 4.301318267419962,\n",
       " 5.064278187565859,\n",
       " 4.820202020202021,\n",
       " 4.525600835945664,\n",
       " 4.158956109134045,\n",
       " 4.449136276391554,\n",
       " 4.435255712731229,\n",
       " 4.96242774566474,\n",
       " 4.756550218340611,\n",
       " 5.106502242152466,\n",
       " 4.7413249211356465,\n",
       " 4.696286472148541,\n",
       " 4.814593301435407,\n",
       " 5.117554858934169,\n",
       " 5.095052083333333,\n",
       " 5.263636363636364,\n",
       " 4.773690078037904,\n",
       " 5.147688838782413,\n",
       " 5.349804941482445,\n",
       " 5.291743119266055,\n",
       " 5.296572280178838,\n",
       " 5.3102981029810294,\n",
       " 5.640463917525773,\n",
       " 5.798695246971109,\n",
       " 5.728958630527817,\n",
       " 6.333333333333333,\n",
       " 6.167098445595855,\n",
       " 5.884197828709288,\n",
       " 6.019059720457434,\n",
       " 6.125408942202835,\n",
       " 5.737684729064039,\n",
       " 5.896853146853147,\n",
       " 6.088191330343797,\n",
       " 6.019728729963009,\n",
       " 5.85005170630817,\n",
       " 5.936993699369937]"
      ]
     },
     "execution_count": 9,
     "metadata": {},
     "output_type": "execute_result"
    }
   ],
   "source": [
    "adam.mlu(participant='CHI')"
   ]
  }
 ],
 "metadata": {
  "kernelspec": {
   "display_name": "Python 3 (ipykernel)",
   "language": "python",
   "name": "python3"
  },
  "language_info": {
   "codemirror_mode": {
    "name": "ipython",
    "version": 3
   },
   "file_extension": ".py",
   "mimetype": "text/x-python",
   "name": "python",
   "nbconvert_exporter": "python",
   "pygments_lexer": "ipython3",
   "version": "3.9.7"
  }
 },
 "nbformat": 4,
 "nbformat_minor": 5
}
