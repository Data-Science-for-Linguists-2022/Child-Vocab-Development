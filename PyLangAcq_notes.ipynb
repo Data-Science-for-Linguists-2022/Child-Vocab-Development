{
 "cells": [
  {
   "cell_type": "markdown",
   "id": "862443fa-a6ff-4776-9425-ff27c3393416",
   "metadata": {},
   "source": [
    "\n",
    "# PyLangAcq Notes\n",
    "\n",
    "The `PyLangAcq` package allows users to read CHAT data from CHILDES directly.  \n",
    "Reference: https://pylangacq.org/quickstart.html\n",
    "\n",
    "Download and install by:  \n",
    "`$ pip install --upgrade pylangacq`\n"
   ]
  },
  {
   "cell_type": "code",
   "execution_count": 1,
   "id": "6cd5679e-340c-43d9-b4b4-4e446ccca1e6",
   "metadata": {},
   "outputs": [],
   "source": [
    "import pylangacq"
   ]
  },
  {
   "cell_type": "markdown",
   "id": "986db26a-3283-41c9-96df-fa5e2643693d",
   "metadata": {
    "tags": []
   },
   "source": [
    "---\n",
    "\n",
    "## 1 Reading CHAT data\n",
    "\n",
    "- directory path: can be local or remote (e.g. URL)\n",
    "- Windows users: may need to put code under `if __name__ == \"__main__\":` to avoid error\n",
    "- `.read_chat(PATH, FOLDER)`\n",
    "    - this creates a `Reader` object (for associated methods, see [this](https://pylangacq.org/api.html#pylangacq.Reader))\n",
    "\n",
    "- The following example reads data from `Eve` in Brown Corpus: https://sla.talkbank.org/TBB/childes/Eng-NA/Brown/Eve"
   ]
  },
  {
   "cell_type": "code",
   "execution_count": 5,
   "id": "a85ba47a-b3d7-4e5d-8939-2798cd678c2e",
   "metadata": {},
   "outputs": [
    {
     "name": "stdout",
     "output_type": "stream",
     "text": [
      "Number of files: 20\n"
     ]
    }
   ],
   "source": [
    "url = \"https://childes.talkbank.org/data/Eng-NA/Brown.zip\"\n",
    "eve = pylangacq.read_chat(url, \"Eve\")\n",
    "print('Number of files:', eve.n_files())    # number of CHAT file in 'eve'"
   ]
  },
  {
   "cell_type": "markdown",
   "id": "24cdebbe-ffd6-40f8-aa22-feb24c56450f",
   "metadata": {},
   "source": [
    "---\n",
    "\n",
    "## 2 Accessing metadata stored in the Header of a CHAT file\n",
    "\n",
    "e.g. age, date, participants, etc. See [this](https://pylangacq.org/headers.html#headers)."
   ]
  },
  {
   "cell_type": "code",
   "execution_count": 6,
   "id": "3b8b785e-b666-42d1-ad0c-3761a501ec8b",
   "metadata": {},
   "outputs": [
    {
     "name": "stdout",
     "output_type": "stream",
     "text": [
      "Ages: [(1, 6, 0), (1, 6, 0), (1, 7, 0), (1, 7, 0), (1, 8, 0), (1, 9, 0), (1, 9, 0), (1, 9, 0), (1, 10, 0), (1, 10, 0), (1, 11, 0), (1, 11, 0), (2, 0, 0), (2, 0, 0), (2, 1, 0), (2, 1, 0), (2, 2, 0), (2, 2, 0), (2, 3, 0), (2, 3, 0)]\n"
     ]
    }
   ],
   "source": [
    "print('Ages:', eve.ages())    # ages when recordings were made\n",
    "                              # format: year, month, day"
   ]
  },
  {
   "cell_type": "markdown",
   "id": "66fcc71e-127e-4105-828f-bd974b2671ba",
   "metadata": {
    "tags": []
   },
   "source": [
    "---\n",
    "\n",
    "## 3 Accessing Transcriptions and Annotations\n",
    "\n",
    "#### Accessing transcriptions with `.words()` method\n",
    "\n",
    "`.words()` options:\n",
    "`words(participants=None, exclude=None, by_utterances=False, by_files=False)`  \n",
    "- `participants`: Participants to be included, e.g. `'CHI'` (child), `'MOT'` (mother), `{'MOT','INV'}` (mother and investigators).\n",
    "- `exclude`: Participants to be excluded; cannot be used with `participants`.\n",
    "- `by_utterances`: `False` by default; if `True`, output will be organized by utterances.\n",
    "- `by_files`: `False` by default; if `True`, output will be organized by files.\n"
   ]
  },
  {
   "cell_type": "code",
   "execution_count": 19,
   "id": "6ae86070-320e-4fdc-818e-f818cc89155d",
   "metadata": {},
   "outputs": [
    {
     "name": "stdout",
     "output_type": "stream",
     "text": [
      "Total word count: 119799\n",
      "Word count in file 0 : 5810\n",
      "Word count in file 1 : 5258\n",
      "Word count in file 2 : 2493\n",
      "Word count in file 3 : 5742\n",
      "Word count in file 4 : 5707\n",
      "Word count in file 5 : 4338\n",
      "Word count in file 6 : 5298\n",
      "Word count in file 7 : 8901\n",
      "Word count in file 8 : 4454\n",
      "Word count in file 9 : 4535\n",
      "Word count in file 10 : 4196\n",
      "Word count in file 11 : 6193\n",
      "Word count in file 12 : 4444\n",
      "Word count in file 13 : 5202\n",
      "Word count in file 14 : 8075\n",
      "Word count in file 15 : 7361\n",
      "Word count in file 16 : 10870\n",
      "Word count in file 17 : 8407\n",
      "Word count in file 18 : 6903\n",
      "Word count in file 19 : 5612\n"
     ]
    },
    {
     "data": {
      "text/plain": [
       "['more', 'cookie', '.', 'you', '0v', 'more', 'cookies', '?']"
      ]
     },
     "execution_count": 19,
     "metadata": {},
     "output_type": "execute_result"
    }
   ],
   "source": [
    "# To access words across ALL CHAT files of 'eve':\n",
    "words = eve.words()    # list of strings\n",
    "print('Total word count:',len(words))\n",
    "\n",
    "# To access words in individual CHAT files:\n",
    "words_by_files = eve.words(by_files=True)  # list of lists of strings\n",
    "for i, words_one_file in enumerate(words_by_files):\n",
    "    print('Word count in file',i,':', len(words_one_file))\n",
    "\n",
    "# Example: First 8 words in the first CHAT file:\n",
    "words_by_files[0][0:8]"
   ]
  },
  {
   "cell_type": "markdown",
   "id": "69b9ac6f-1abd-4e4a-a39a-b5b255427908",
   "metadata": {},
   "source": [
    "\n",
    "#### Accessing annotations\n",
    "\n",
    "`.words()` method returns words without annotations. To access words with annotation info, use `.tokens()`:  \n",
    "`.tokens(participants=None, exclude=None, by_utterances=False, by_files=False)`\n",
    "\n",
    "A `list` of `Token` objects will be created:"
   ]
  },
  {
   "cell_type": "code",
   "execution_count": 22,
   "id": "13d88e76-36ea-47a0-adcf-823f9167421a",
   "metadata": {},
   "outputs": [
    {
     "data": {
      "text/plain": [
       "[Token(word='more', pos='qn', mor='more', gra=Gra(dep=1, head=2, rel='QUANT')),\n",
       " Token(word='cookie', pos='n', mor='cookie', gra=Gra(dep=2, head=0, rel='INCROOT')),\n",
       " Token(word='.', pos='.', mor='', gra=Gra(dep=3, head=2, rel='PUNCT')),\n",
       " Token(word='you', pos='pro:per', mor='you', gra=Gra(dep=1, head=2, rel='SUBJ')),\n",
       " Token(word='0v', pos='0v', mor='v', gra=Gra(dep=2, head=0, rel='ROOT'))]"
      ]
     },
     "execution_count": 22,
     "metadata": {},
     "output_type": "execute_result"
    }
   ],
   "source": [
    "some_tokens = eve.tokens()[:5]    # first five tokens in 'eve'\n",
    "some_tokens"
   ]
  },
  {
   "cell_type": "markdown",
   "id": "684ec084-ce8f-407f-9e70-f7fb637855af",
   "metadata": {},
   "source": [
    "`Token` is a `dataclass` with attributes (e.g. `word`,`pos`, etc.) as shown in the above example.  \n",
    "\n",
    "To access annotation info of each word (i.e. `Token` attributes other than `word`):"
   ]
  },
  {
   "cell_type": "code",
   "execution_count": 23,
   "id": "041b662f-3f71-40ec-82c7-ce86fbcab9f4",
   "metadata": {},
   "outputs": [
    {
     "name": "stdout",
     "output_type": "stream",
     "text": [
      "more qn\n",
      "cookie n\n",
      ". .\n",
      "you pro:per\n",
      "0v 0v\n"
     ]
    }
   ],
   "source": [
    "for token in some_tokens:\n",
    "    print(token.word, token.pos)"
   ]
  },
  {
   "cell_type": "markdown",
   "id": "d6ccfa06-cbc0-4187-9602-63f12b43ec7d",
   "metadata": {},
   "source": [
    "To access unsegmented transcription and annotation info of utterance (e.g. time marks, or any unparsed tiers), use:  \n",
    "`.utterances(participants=None, exclude=None, by_files=False)`"
   ]
  },
  {
   "cell_type": "code",
   "execution_count": 27,
   "id": "3b35ad19-c6a3-40ac-9f06-dd6e388c1621",
   "metadata": {},
   "outputs": [
    {
     "data": {
      "text/html": [
       "<table>  <tr>\n",
       "    <td>*CHI:</td>\n",
       "    <td style=\"text-align: left\">more</td>\n",
       "    <td style=\"text-align: left\">cookie</td>\n",
       "    <td style=\"text-align: left\">.</td>\n",
       "  </tr>\n",
       "  <tr>\n",
       "    <td>%mor:</td>\n",
       "    <td style=\"text-align: left\">qn|more</td>\n",
       "    <td style=\"text-align: left\">n|cookie</td>\n",
       "    <td style=\"text-align: left\">.</td>\n",
       "  </tr>\n",
       "  <tr>\n",
       "    <td>%gra:</td>\n",
       "    <td style=\"text-align: left\">1|2|QUANT</td>\n",
       "    <td style=\"text-align: left\">2|0|INCROOT</td>\n",
       "    <td style=\"text-align: left\">3|2|PUNCT</td>\n",
       "  </tr>\n",
       "  <tr>\n",
       "    <td>%int:</td>\n",
       "    <td colspan=\"3\" style=\"text-align: left\">distinctive , loud</td>\n",
       "  </tr>\n",
       "</table>"
      ],
      "text/plain": [
       "Utterance(participant='CHI', tokens=[Token(word='more', pos='qn', mor='more', gra=Gra(dep=1, head=2, rel='QUANT')), Token(word='cookie', pos='n', mor='cookie', gra=Gra(dep=2, head=0, rel='INCROOT')), Token(word='.', pos='.', mor='', gra=Gra(dep=3, head=2, rel='PUNCT'))], time_marks=None, tiers={'CHI': 'more cookie . [+ IMP]', '%mor': 'qn|more n|cookie .', '%gra': '1|2|QUANT 2|0|INCROOT 3|2|PUNCT', '%int': 'distinctive , loud'})"
      ]
     },
     "execution_count": 27,
     "metadata": {},
     "output_type": "execute_result"
    }
   ],
   "source": [
    "eve.utterances()[0]   # first utterance in 'eve'"
   ]
  },
  {
   "cell_type": "markdown",
   "id": "b262d5d5-4a64-4b80-8d5c-1a81e0574d52",
   "metadata": {},
   "source": [
    "\n",
    "## 4 Linguistic analysis\n",
    "\n",
    "#### Word Frequencies and Ngrams\n",
    "\n",
    "`.word_frequencies(keep_case=True, participants=None, exclude=None, by_files=False)`:\n",
    "- `keep_case`: If `False`, lowercase will be used for subsequence processing. (The default is `True`. Since CHILDES does not capitalize first word, so keeping this `True` should be fine.)\n",
    "\n",
    "`.word_ngrams(n, keep_case=True, participants=None, exclude=None, by_files=False)`:\n",
    "- `n`: Specify the ngram type, e.g. `2` for bigrams."
   ]
  },
  {
   "cell_type": "code",
   "execution_count": 38,
   "id": "d0010937-b0e5-4670-b33c-12442fc4884c",
   "metadata": {},
   "outputs": [
    {
     "name": "stdout",
     "output_type": "stream",
     "text": [
      "Most common words:\n",
      " [('.', 20071), ('?', 6358), ('you', 3695), ('the', 2524), ('it', 2363)]\n",
      "Most common bigrams:\n",
      " [(('it', '.'), 703), (('that', '?'), 619), (('what', '?'), 560), (('yeah', '.'), 510), (('there', '.'), 471)]\n"
     ]
    }
   ],
   "source": [
    "word_freq = eve.word_frequencies()    # a collections.Counter object\n",
    "print('Most common words:\\n', word_freq.most_common(5))\n",
    "\n",
    "bigrams = eve.word_ngrams(2)          # a collections.Counter object\n",
    "print('Most common bigrams:\\n', bigrams.most_common(5))"
   ]
  },
  {
   "cell_type": "markdown",
   "id": "1f582efc-223a-4b0c-9187-c00d515dface",
   "metadata": {},
   "source": [
    "#### Developmental Measures\n",
    "\n",
    "- `.mlu([participant])`: mean lengths of utterance (MLU)\n",
    "- `.mlum([participant])`: mean lengths of utterance by morphemes\n",
    "- `.mluw([participant])`: mean lengths of utterance by words\n",
    "- `.ttr([keep_case, participant])`: type-token ratios (TTR)\n",
    "- `.ipsyn([participant])`: indexes of productive syntax (IPSyn)"
   ]
  },
  {
   "cell_type": "code",
   "execution_count": 41,
   "id": "9a3f9ab1-20ba-4863-bc39-56c103589c17",
   "metadata": {},
   "outputs": [
    {
     "data": {
      "text/plain": [
       "[2.309041835357625,\n",
       " 2.488372093023256,\n",
       " 2.8063241106719365,\n",
       " 2.6153846153846154,\n",
       " 2.8866855524079322,\n",
       " 3.208955223880597,\n",
       " 3.179732313575526,\n",
       " 3.4171011470281543,\n",
       " 3.840077071290944,\n",
       " 3.822669104204753,\n",
       " 3.883668903803132,\n",
       " 4.177847113884555,\n",
       " 4.2631578947368425,\n",
       " 3.976890756302521,\n",
       " 4.457182320441989,\n",
       " 4.422776911076443,\n",
       " 4.498338870431894,\n",
       " 4.292035398230088,\n",
       " 4.3813169984686064,\n",
       " 3.320964749536178]"
      ]
     },
     "execution_count": 41,
     "metadata": {},
     "output_type": "execute_result"
    }
   ],
   "source": [
    "eve.mlu(participant='CHI')"
   ]
  }
 ],
 "metadata": {
  "kernelspec": {
   "display_name": "Python 3 (ipykernel)",
   "language": "python",
   "name": "python3"
  },
  "language_info": {
   "codemirror_mode": {
    "name": "ipython",
    "version": 3
   },
   "file_extension": ".py",
   "mimetype": "text/x-python",
   "name": "python",
   "nbconvert_exporter": "python",
   "pygments_lexer": "ipython3",
   "version": "3.9.7"
  }
 },
 "nbformat": 4,
 "nbformat_minor": 5
}
